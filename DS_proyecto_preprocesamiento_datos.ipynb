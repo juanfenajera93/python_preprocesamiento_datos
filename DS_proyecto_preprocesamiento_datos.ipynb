{
 "cells": [
  {
   "cell_type": "markdown",
   "metadata": {},
   "source": [
    "# Análisis del riesgo de incumplimiento de los prestatarios\n",
    "\n",
    "Este proyecto consiste en preparar un informe para la división de préstamos de un banco. Hay que averiguar si el estado civil y el número de hijos de un cliente tienen un impacto en el incumplimiento de pago de un préstamo. El banco ya tiene algunos datos sobre la solvencia crediticia de los clientes.\n",
    "\n",
    "El informe se tendrá en cuenta al crear una **puntuación de crédito** para un cliente potencial. La **puntuación de crédito** se utiliza para evaluar la capacidad de un prestatario potencial para pagar su préstamo."
   ]
  },
  {
   "cell_type": "markdown",
   "metadata": {},
   "source": [
    "## Propósitos del proyecto e hipótesis \n",
    "\n",
    "El objetivo principal de este proyecto es analizar si el estado civil y la cantidad de hijos que tienen los clientes en un banco tiene algún tipo de impacto sobre el incumplimiento del pago de un préstamo. \n",
    "\n",
    "En base a esto, se propone comprobar las siguientes dos hipótesis si son verdaderas o no: \n",
    "- El estado civil no tiene un impacto sobre el incumplimiento en el pago de un préstamo bancario. \n",
    "- Los clientes que tengan entre 3 hijos o más suelen incumplir en el pago de los préstamos bancarios."
   ]
  },
  {
   "cell_type": "markdown",
   "metadata": {},
   "source": [
    "## Carga de librerías y datos"
   ]
  },
  {
   "cell_type": "markdown",
   "metadata": {},
   "source": [
    "En este trabajo, se utilizará una librería externa que se debe instalar primero para poder utilizarla. Se llama `missingno`. "
   ]
  },
  {
   "cell_type": "code",
   "execution_count": 1,
   "metadata": {},
   "outputs": [
    {
     "name": "stdout",
     "output_type": "stream",
     "text": [
      "Requirement already satisfied: missingno in /opt/conda/lib/python3.9/site-packages (0.5.1)\n",
      "Requirement already satisfied: matplotlib in /opt/conda/lib/python3.9/site-packages (from missingno) (3.3.4)\n",
      "Requirement already satisfied: numpy in /opt/conda/lib/python3.9/site-packages (from missingno) (1.21.1)\n",
      "Requirement already satisfied: seaborn in /opt/conda/lib/python3.9/site-packages (from missingno) (0.11.1)\n",
      "Requirement already satisfied: scipy in /opt/conda/lib/python3.9/site-packages (from missingno) (1.8.0)\n",
      "Requirement already satisfied: pillow>=6.2.0 in /opt/conda/lib/python3.9/site-packages (from matplotlib->missingno) (8.4.0)\n",
      "Requirement already satisfied: kiwisolver>=1.0.1 in /opt/conda/lib/python3.9/site-packages (from matplotlib->missingno) (1.4.2)\n",
      "Requirement already satisfied: pyparsing!=2.0.4,!=2.1.2,!=2.1.6,>=2.0.3 in /opt/conda/lib/python3.9/site-packages (from matplotlib->missingno) (2.4.7)\n",
      "Requirement already satisfied: cycler>=0.10 in /opt/conda/lib/python3.9/site-packages (from matplotlib->missingno) (0.11.0)\n",
      "Requirement already satisfied: python-dateutil>=2.1 in /opt/conda/lib/python3.9/site-packages (from matplotlib->missingno) (2.8.1)\n",
      "Requirement already satisfied: six>=1.5 in /opt/conda/lib/python3.9/site-packages (from python-dateutil>=2.1->matplotlib->missingno) (1.16.0)\n",
      "Requirement already satisfied: pandas>=0.23 in /opt/conda/lib/python3.9/site-packages (from seaborn->missingno) (1.2.4)\n",
      "Requirement already satisfied: pytz>=2017.3 in /opt/conda/lib/python3.9/site-packages (from pandas>=0.23->seaborn->missingno) (2021.1)\n",
      "Note: you may need to restart the kernel to use updated packages.\n"
     ]
    }
   ],
   "source": [
    "pip install missingno"
   ]
  },
  {
   "cell_type": "code",
   "execution_count": 2,
   "metadata": {},
   "outputs": [],
   "source": [
    "# se carga todas las librerías a utilizar\n",
    "import pandas as pd\n",
    "import numpy as np\n",
    "import missingno as msno \n",
    "import random"
   ]
  },
  {
   "cell_type": "code",
   "execution_count": 3,
   "metadata": {},
   "outputs": [],
   "source": [
    "# se carga los datos\n",
    "data = pd.read_csv(\"/datasets/credit_scoring_eng.csv\")"
   ]
  },
  {
   "cell_type": "markdown",
   "metadata": {},
   "source": [
    "## Exploración de datos\n",
    "\n",
    "A continuación, tenemos una descripción general de los datos, de cada columna o variable el cual nos indica qué información contiene o se espera:\n",
    "\n",
    "**Descripción de los datos:**\n",
    "- `children` - el número de hijos en la familia\n",
    "- `days_employed` - experiencia laboral en días\n",
    "- `dob_years` - la edad del cliente en años\n",
    "- `education` - la educación del cliente\n",
    "- `education_id` - identificador de educación\n",
    "- `family_status` - estado civil\n",
    "- `family_status_id` - identificador de estado civil\n",
    "- `gender` - género del cliente\n",
    "- `income_type` - tipo de empleo\n",
    "- `debt` - ¿había alguna deuda en el pago de un préstamo?\n",
    "- `total_income` - ingreso mensual\n",
    "- `purpose` - el propósito de obtener un préstamo\n",
    "\n",
    "Se realizará una exploración general de los datos para revisar qué información se tiene, e incluso, revisar si existe algún problema con los datos en las columnas. "
   ]
  },
  {
   "cell_type": "code",
   "execution_count": 4,
   "metadata": {},
   "outputs": [
    {
     "name": "stdout",
     "output_type": "stream",
     "text": [
      "<class 'pandas.core.frame.DataFrame'>\n",
      "RangeIndex: 21525 entries, 0 to 21524\n",
      "Data columns (total 12 columns):\n",
      " #   Column            Non-Null Count  Dtype  \n",
      "---  ------            --------------  -----  \n",
      " 0   children          21525 non-null  int64  \n",
      " 1   days_employed     19351 non-null  float64\n",
      " 2   dob_years         21525 non-null  int64  \n",
      " 3   education         21525 non-null  object \n",
      " 4   education_id      21525 non-null  int64  \n",
      " 5   family_status     21525 non-null  object \n",
      " 6   family_status_id  21525 non-null  int64  \n",
      " 7   gender            21525 non-null  object \n",
      " 8   income_type       21525 non-null  object \n",
      " 9   debt              21525 non-null  int64  \n",
      " 10  total_income      19351 non-null  float64\n",
      " 11  purpose           21525 non-null  object \n",
      "dtypes: float64(2), int64(5), object(5)\n",
      "memory usage: 2.0+ MB\n"
     ]
    },
    {
     "data": {
      "text/plain": [
       "(21525, 12)"
      ]
     },
     "execution_count": 4,
     "metadata": {},
     "output_type": "execute_result"
    }
   ],
   "source": [
    "# número de filas y columnas en el conjunto de datos\n",
    "data.info()\n",
    "data.shape"
   ]
  },
  {
   "cell_type": "markdown",
   "metadata": {},
   "source": [
    "Se tiene un total de 21,525 filas con 12 columnas, el cual se identifica que hay \"missing values\" en las variables \"days_employed\" y \"total_income\". \n",
    "\n",
    "Exploremos de forma inicial cómo están los primeros 10 datos. "
   ]
  },
  {
   "cell_type": "code",
   "execution_count": 5,
   "metadata": {
    "scrolled": true
   },
   "outputs": [
    {
     "data": {
      "text/html": [
       "<div>\n",
       "<style scoped>\n",
       "    .dataframe tbody tr th:only-of-type {\n",
       "        vertical-align: middle;\n",
       "    }\n",
       "\n",
       "    .dataframe tbody tr th {\n",
       "        vertical-align: top;\n",
       "    }\n",
       "\n",
       "    .dataframe thead th {\n",
       "        text-align: right;\n",
       "    }\n",
       "</style>\n",
       "<table border=\"1\" class=\"dataframe\">\n",
       "  <thead>\n",
       "    <tr style=\"text-align: right;\">\n",
       "      <th></th>\n",
       "      <th>children</th>\n",
       "      <th>days_employed</th>\n",
       "      <th>dob_years</th>\n",
       "      <th>education</th>\n",
       "      <th>education_id</th>\n",
       "      <th>family_status</th>\n",
       "      <th>family_status_id</th>\n",
       "      <th>gender</th>\n",
       "      <th>income_type</th>\n",
       "      <th>debt</th>\n",
       "      <th>total_income</th>\n",
       "      <th>purpose</th>\n",
       "    </tr>\n",
       "  </thead>\n",
       "  <tbody>\n",
       "    <tr>\n",
       "      <th>0</th>\n",
       "      <td>1</td>\n",
       "      <td>-8437.673028</td>\n",
       "      <td>42</td>\n",
       "      <td>bachelor's degree</td>\n",
       "      <td>0</td>\n",
       "      <td>married</td>\n",
       "      <td>0</td>\n",
       "      <td>F</td>\n",
       "      <td>employee</td>\n",
       "      <td>0</td>\n",
       "      <td>40620.102</td>\n",
       "      <td>purchase of the house</td>\n",
       "    </tr>\n",
       "    <tr>\n",
       "      <th>1</th>\n",
       "      <td>1</td>\n",
       "      <td>-4024.803754</td>\n",
       "      <td>36</td>\n",
       "      <td>secondary education</td>\n",
       "      <td>1</td>\n",
       "      <td>married</td>\n",
       "      <td>0</td>\n",
       "      <td>F</td>\n",
       "      <td>employee</td>\n",
       "      <td>0</td>\n",
       "      <td>17932.802</td>\n",
       "      <td>car purchase</td>\n",
       "    </tr>\n",
       "    <tr>\n",
       "      <th>2</th>\n",
       "      <td>0</td>\n",
       "      <td>-5623.422610</td>\n",
       "      <td>33</td>\n",
       "      <td>Secondary Education</td>\n",
       "      <td>1</td>\n",
       "      <td>married</td>\n",
       "      <td>0</td>\n",
       "      <td>M</td>\n",
       "      <td>employee</td>\n",
       "      <td>0</td>\n",
       "      <td>23341.752</td>\n",
       "      <td>purchase of the house</td>\n",
       "    </tr>\n",
       "    <tr>\n",
       "      <th>3</th>\n",
       "      <td>3</td>\n",
       "      <td>-4124.747207</td>\n",
       "      <td>32</td>\n",
       "      <td>secondary education</td>\n",
       "      <td>1</td>\n",
       "      <td>married</td>\n",
       "      <td>0</td>\n",
       "      <td>M</td>\n",
       "      <td>employee</td>\n",
       "      <td>0</td>\n",
       "      <td>42820.568</td>\n",
       "      <td>supplementary education</td>\n",
       "    </tr>\n",
       "    <tr>\n",
       "      <th>4</th>\n",
       "      <td>0</td>\n",
       "      <td>340266.072047</td>\n",
       "      <td>53</td>\n",
       "      <td>secondary education</td>\n",
       "      <td>1</td>\n",
       "      <td>civil partnership</td>\n",
       "      <td>1</td>\n",
       "      <td>F</td>\n",
       "      <td>retiree</td>\n",
       "      <td>0</td>\n",
       "      <td>25378.572</td>\n",
       "      <td>to have a wedding</td>\n",
       "    </tr>\n",
       "    <tr>\n",
       "      <th>5</th>\n",
       "      <td>0</td>\n",
       "      <td>-926.185831</td>\n",
       "      <td>27</td>\n",
       "      <td>bachelor's degree</td>\n",
       "      <td>0</td>\n",
       "      <td>civil partnership</td>\n",
       "      <td>1</td>\n",
       "      <td>M</td>\n",
       "      <td>business</td>\n",
       "      <td>0</td>\n",
       "      <td>40922.170</td>\n",
       "      <td>purchase of the house</td>\n",
       "    </tr>\n",
       "    <tr>\n",
       "      <th>6</th>\n",
       "      <td>0</td>\n",
       "      <td>-2879.202052</td>\n",
       "      <td>43</td>\n",
       "      <td>bachelor's degree</td>\n",
       "      <td>0</td>\n",
       "      <td>married</td>\n",
       "      <td>0</td>\n",
       "      <td>F</td>\n",
       "      <td>business</td>\n",
       "      <td>0</td>\n",
       "      <td>38484.156</td>\n",
       "      <td>housing transactions</td>\n",
       "    </tr>\n",
       "    <tr>\n",
       "      <th>7</th>\n",
       "      <td>0</td>\n",
       "      <td>-152.779569</td>\n",
       "      <td>50</td>\n",
       "      <td>SECONDARY EDUCATION</td>\n",
       "      <td>1</td>\n",
       "      <td>married</td>\n",
       "      <td>0</td>\n",
       "      <td>M</td>\n",
       "      <td>employee</td>\n",
       "      <td>0</td>\n",
       "      <td>21731.829</td>\n",
       "      <td>education</td>\n",
       "    </tr>\n",
       "    <tr>\n",
       "      <th>8</th>\n",
       "      <td>2</td>\n",
       "      <td>-6929.865299</td>\n",
       "      <td>35</td>\n",
       "      <td>BACHELOR'S DEGREE</td>\n",
       "      <td>0</td>\n",
       "      <td>civil partnership</td>\n",
       "      <td>1</td>\n",
       "      <td>F</td>\n",
       "      <td>employee</td>\n",
       "      <td>0</td>\n",
       "      <td>15337.093</td>\n",
       "      <td>having a wedding</td>\n",
       "    </tr>\n",
       "    <tr>\n",
       "      <th>9</th>\n",
       "      <td>0</td>\n",
       "      <td>-2188.756445</td>\n",
       "      <td>41</td>\n",
       "      <td>secondary education</td>\n",
       "      <td>1</td>\n",
       "      <td>married</td>\n",
       "      <td>0</td>\n",
       "      <td>M</td>\n",
       "      <td>employee</td>\n",
       "      <td>0</td>\n",
       "      <td>23108.150</td>\n",
       "      <td>purchase of the house for my family</td>\n",
       "    </tr>\n",
       "  </tbody>\n",
       "</table>\n",
       "</div>"
      ],
      "text/plain": [
       "   children  days_employed  dob_years            education  education_id  \\\n",
       "0         1   -8437.673028         42    bachelor's degree             0   \n",
       "1         1   -4024.803754         36  secondary education             1   \n",
       "2         0   -5623.422610         33  Secondary Education             1   \n",
       "3         3   -4124.747207         32  secondary education             1   \n",
       "4         0  340266.072047         53  secondary education             1   \n",
       "5         0    -926.185831         27    bachelor's degree             0   \n",
       "6         0   -2879.202052         43    bachelor's degree             0   \n",
       "7         0    -152.779569         50  SECONDARY EDUCATION             1   \n",
       "8         2   -6929.865299         35    BACHELOR'S DEGREE             0   \n",
       "9         0   -2188.756445         41  secondary education             1   \n",
       "\n",
       "       family_status  family_status_id gender income_type  debt  total_income  \\\n",
       "0            married                 0      F    employee     0     40620.102   \n",
       "1            married                 0      F    employee     0     17932.802   \n",
       "2            married                 0      M    employee     0     23341.752   \n",
       "3            married                 0      M    employee     0     42820.568   \n",
       "4  civil partnership                 1      F     retiree     0     25378.572   \n",
       "5  civil partnership                 1      M    business     0     40922.170   \n",
       "6            married                 0      F    business     0     38484.156   \n",
       "7            married                 0      M    employee     0     21731.829   \n",
       "8  civil partnership                 1      F    employee     0     15337.093   \n",
       "9            married                 0      M    employee     0     23108.150   \n",
       "\n",
       "                               purpose  \n",
       "0                purchase of the house  \n",
       "1                         car purchase  \n",
       "2                purchase of the house  \n",
       "3              supplementary education  \n",
       "4                    to have a wedding  \n",
       "5                purchase of the house  \n",
       "6                 housing transactions  \n",
       "7                            education  \n",
       "8                     having a wedding  \n",
       "9  purchase of the house for my family  "
      ]
     },
     "execution_count": 5,
     "metadata": {},
     "output_type": "execute_result"
    }
   ],
   "source": [
    "# primeras 10 filas\n",
    "data.head(10)"
   ]
  },
  {
   "cell_type": "markdown",
   "metadata": {},
   "source": [
    "Interesante, al parecer tenemos información inusial en la columna `days_employed` ya que muestra datos negativos y también positivos pero muy grandes. En la columna `education` al parecer hay datos duplicados implícitos, es decir, Python no los identifica que hay datos duplicados pero `secondary education` y `SECONDARY EDUCATION` son los mismos valores, solo escritos en minúsculas o mayúsculas. \n",
    "\n",
    "Estas son las columnas que ha simple vista se observa que hay datos raros o inusuales, sin embargo, siempre es bueno revisar de mejor manera cómo están todos los datos de cada una de las columnas. "
   ]
  },
  {
   "cell_type": "markdown",
   "metadata": {},
   "source": [
    "Se puede realizar un análisis inicial para ver cómo están los datos numéricos utilizando el método `describe()`. "
   ]
  },
  {
   "cell_type": "code",
   "execution_count": 6,
   "metadata": {
    "scrolled": false
   },
   "outputs": [
    {
     "data": {
      "text/html": [
       "<div>\n",
       "<style scoped>\n",
       "    .dataframe tbody tr th:only-of-type {\n",
       "        vertical-align: middle;\n",
       "    }\n",
       "\n",
       "    .dataframe tbody tr th {\n",
       "        vertical-align: top;\n",
       "    }\n",
       "\n",
       "    .dataframe thead th {\n",
       "        text-align: right;\n",
       "    }\n",
       "</style>\n",
       "<table border=\"1\" class=\"dataframe\">\n",
       "  <thead>\n",
       "    <tr style=\"text-align: right;\">\n",
       "      <th></th>\n",
       "      <th>children</th>\n",
       "      <th>days_employed</th>\n",
       "      <th>dob_years</th>\n",
       "      <th>education_id</th>\n",
       "      <th>family_status_id</th>\n",
       "      <th>debt</th>\n",
       "      <th>total_income</th>\n",
       "    </tr>\n",
       "  </thead>\n",
       "  <tbody>\n",
       "    <tr>\n",
       "      <th>count</th>\n",
       "      <td>21525.000000</td>\n",
       "      <td>19351.000000</td>\n",
       "      <td>21525.000000</td>\n",
       "      <td>21525.000000</td>\n",
       "      <td>21525.000000</td>\n",
       "      <td>21525.000000</td>\n",
       "      <td>19351.000000</td>\n",
       "    </tr>\n",
       "    <tr>\n",
       "      <th>mean</th>\n",
       "      <td>0.538908</td>\n",
       "      <td>63046.497661</td>\n",
       "      <td>43.293380</td>\n",
       "      <td>0.817236</td>\n",
       "      <td>0.972544</td>\n",
       "      <td>0.080883</td>\n",
       "      <td>26787.568355</td>\n",
       "    </tr>\n",
       "    <tr>\n",
       "      <th>std</th>\n",
       "      <td>1.381587</td>\n",
       "      <td>140827.311974</td>\n",
       "      <td>12.574584</td>\n",
       "      <td>0.548138</td>\n",
       "      <td>1.420324</td>\n",
       "      <td>0.272661</td>\n",
       "      <td>16475.450632</td>\n",
       "    </tr>\n",
       "    <tr>\n",
       "      <th>min</th>\n",
       "      <td>-1.000000</td>\n",
       "      <td>-18388.949901</td>\n",
       "      <td>0.000000</td>\n",
       "      <td>0.000000</td>\n",
       "      <td>0.000000</td>\n",
       "      <td>0.000000</td>\n",
       "      <td>3306.762000</td>\n",
       "    </tr>\n",
       "    <tr>\n",
       "      <th>25%</th>\n",
       "      <td>0.000000</td>\n",
       "      <td>-2747.423625</td>\n",
       "      <td>33.000000</td>\n",
       "      <td>1.000000</td>\n",
       "      <td>0.000000</td>\n",
       "      <td>0.000000</td>\n",
       "      <td>16488.504500</td>\n",
       "    </tr>\n",
       "    <tr>\n",
       "      <th>50%</th>\n",
       "      <td>0.000000</td>\n",
       "      <td>-1203.369529</td>\n",
       "      <td>42.000000</td>\n",
       "      <td>1.000000</td>\n",
       "      <td>0.000000</td>\n",
       "      <td>0.000000</td>\n",
       "      <td>23202.870000</td>\n",
       "    </tr>\n",
       "    <tr>\n",
       "      <th>75%</th>\n",
       "      <td>1.000000</td>\n",
       "      <td>-291.095954</td>\n",
       "      <td>53.000000</td>\n",
       "      <td>1.000000</td>\n",
       "      <td>1.000000</td>\n",
       "      <td>0.000000</td>\n",
       "      <td>32549.611000</td>\n",
       "    </tr>\n",
       "    <tr>\n",
       "      <th>max</th>\n",
       "      <td>20.000000</td>\n",
       "      <td>401755.400475</td>\n",
       "      <td>75.000000</td>\n",
       "      <td>4.000000</td>\n",
       "      <td>4.000000</td>\n",
       "      <td>1.000000</td>\n",
       "      <td>362496.645000</td>\n",
       "    </tr>\n",
       "  </tbody>\n",
       "</table>\n",
       "</div>"
      ],
      "text/plain": [
       "           children  days_employed     dob_years  education_id  \\\n",
       "count  21525.000000   19351.000000  21525.000000  21525.000000   \n",
       "mean       0.538908   63046.497661     43.293380      0.817236   \n",
       "std        1.381587  140827.311974     12.574584      0.548138   \n",
       "min       -1.000000  -18388.949901      0.000000      0.000000   \n",
       "25%        0.000000   -2747.423625     33.000000      1.000000   \n",
       "50%        0.000000   -1203.369529     42.000000      1.000000   \n",
       "75%        1.000000    -291.095954     53.000000      1.000000   \n",
       "max       20.000000  401755.400475     75.000000      4.000000   \n",
       "\n",
       "       family_status_id          debt   total_income  \n",
       "count      21525.000000  21525.000000   19351.000000  \n",
       "mean           0.972544      0.080883   26787.568355  \n",
       "std            1.420324      0.272661   16475.450632  \n",
       "min            0.000000      0.000000    3306.762000  \n",
       "25%            0.000000      0.000000   16488.504500  \n",
       "50%            0.000000      0.000000   23202.870000  \n",
       "75%            1.000000      0.000000   32549.611000  \n",
       "max            4.000000      1.000000  362496.645000  "
      ]
     },
     "execution_count": 6,
     "metadata": {},
     "output_type": "execute_result"
    }
   ],
   "source": [
    "# Obtener información sobre los datos\n",
    "data.describe()"
   ]
  },
  {
   "cell_type": "markdown",
   "metadata": {},
   "source": [
    "Como se observa en la columna `children`, el valor mínimo es -1 de la cantidad de niños, y al parecer este dato es incorrecto o incoherente, ya que no se puede tener -1 hijos a nivel de una familia, sino, el valor mínimo debería ser 0. Es importante limpiar esta columna. \n",
    "\n",
    "De igual forma, como se mencionó anteriormente, en `days_employed` se tiene muchos valores negativos, lo cual también es una inconsistencia ya que no se puede tener un registro de días negativos que alguien ha trabajado. Algo adicional que hay que tomar en cuenta es que la desviación estándar de estos datos es muy grande, y eso quiere decir que los datos están muy dispersos y alejados de la media, indicando a la vez que hay datos atípicos o outliers. Y claramente los hay, ya que se tiene un valor mínimo de -18,388 y un valor máximo de 401,755 donde realmente la media es 63,046. Hay que investigar más de cerca por qué los datos están así y cómo se puede arreglar esto. "
   ]
  },
  {
   "cell_type": "markdown",
   "metadata": {},
   "source": [
    "Antes de realizar un análisis más profundo, verifiquemos primero cuántos valores ausentes tenemos en cada fila. "
   ]
  },
  {
   "cell_type": "code",
   "execution_count": 7,
   "metadata": {},
   "outputs": [
    {
     "name": "stdout",
     "output_type": "stream",
     "text": [
      "children               0\n",
      "days_employed       2174\n",
      "dob_years              0\n",
      "education              0\n",
      "education_id           0\n",
      "family_status          0\n",
      "family_status_id       0\n",
      "gender                 0\n",
      "income_type            0\n",
      "debt                   0\n",
      "total_income        2174\n",
      "purpose                0\n",
      "dtype: int64\n",
      "\n",
      "Index(['days_employed', 'total_income'], dtype='object')\n"
     ]
    }
   ],
   "source": [
    "# comprobación de valores ausentes\n",
    "print(data.isna().sum())\n",
    "print(\"\")\n",
    "print(data.columns[data.isnull().any()])"
   ]
  },
  {
   "cell_type": "markdown",
   "metadata": {},
   "source": [
    "Se comprueba que solo en `days_employed` y `total_income` hay missing values, y al parecer los valores ausentes son simétricos ya que hay la misma cantidad de datos en cada una. \n",
    "\n",
    "Para realmente comprobar esto, vamos a filtrar los valores ausentes en las dos y ver si coinciden la cantidad total de missing values 2,174. "
   ]
  },
  {
   "cell_type": "code",
   "execution_count": 8,
   "metadata": {
    "scrolled": false
   },
   "outputs": [
    {
     "data": {
      "text/html": [
       "<div>\n",
       "<style scoped>\n",
       "    .dataframe tbody tr th:only-of-type {\n",
       "        vertical-align: middle;\n",
       "    }\n",
       "\n",
       "    .dataframe tbody tr th {\n",
       "        vertical-align: top;\n",
       "    }\n",
       "\n",
       "    .dataframe thead th {\n",
       "        text-align: right;\n",
       "    }\n",
       "</style>\n",
       "<table border=\"1\" class=\"dataframe\">\n",
       "  <thead>\n",
       "    <tr style=\"text-align: right;\">\n",
       "      <th></th>\n",
       "      <th>children</th>\n",
       "      <th>days_employed</th>\n",
       "      <th>dob_years</th>\n",
       "      <th>education</th>\n",
       "      <th>education_id</th>\n",
       "      <th>family_status</th>\n",
       "      <th>family_status_id</th>\n",
       "      <th>gender</th>\n",
       "      <th>income_type</th>\n",
       "      <th>debt</th>\n",
       "      <th>total_income</th>\n",
       "      <th>purpose</th>\n",
       "    </tr>\n",
       "  </thead>\n",
       "  <tbody>\n",
       "    <tr>\n",
       "      <th>12</th>\n",
       "      <td>0</td>\n",
       "      <td>NaN</td>\n",
       "      <td>65</td>\n",
       "      <td>secondary education</td>\n",
       "      <td>1</td>\n",
       "      <td>civil partnership</td>\n",
       "      <td>1</td>\n",
       "      <td>M</td>\n",
       "      <td>retiree</td>\n",
       "      <td>0</td>\n",
       "      <td>NaN</td>\n",
       "      <td>to have a wedding</td>\n",
       "    </tr>\n",
       "    <tr>\n",
       "      <th>26</th>\n",
       "      <td>0</td>\n",
       "      <td>NaN</td>\n",
       "      <td>41</td>\n",
       "      <td>secondary education</td>\n",
       "      <td>1</td>\n",
       "      <td>married</td>\n",
       "      <td>0</td>\n",
       "      <td>M</td>\n",
       "      <td>civil servant</td>\n",
       "      <td>0</td>\n",
       "      <td>NaN</td>\n",
       "      <td>education</td>\n",
       "    </tr>\n",
       "    <tr>\n",
       "      <th>29</th>\n",
       "      <td>0</td>\n",
       "      <td>NaN</td>\n",
       "      <td>63</td>\n",
       "      <td>secondary education</td>\n",
       "      <td>1</td>\n",
       "      <td>unmarried</td>\n",
       "      <td>4</td>\n",
       "      <td>F</td>\n",
       "      <td>retiree</td>\n",
       "      <td>0</td>\n",
       "      <td>NaN</td>\n",
       "      <td>building a real estate</td>\n",
       "    </tr>\n",
       "    <tr>\n",
       "      <th>41</th>\n",
       "      <td>0</td>\n",
       "      <td>NaN</td>\n",
       "      <td>50</td>\n",
       "      <td>secondary education</td>\n",
       "      <td>1</td>\n",
       "      <td>married</td>\n",
       "      <td>0</td>\n",
       "      <td>F</td>\n",
       "      <td>civil servant</td>\n",
       "      <td>0</td>\n",
       "      <td>NaN</td>\n",
       "      <td>second-hand car purchase</td>\n",
       "    </tr>\n",
       "    <tr>\n",
       "      <th>55</th>\n",
       "      <td>0</td>\n",
       "      <td>NaN</td>\n",
       "      <td>54</td>\n",
       "      <td>secondary education</td>\n",
       "      <td>1</td>\n",
       "      <td>civil partnership</td>\n",
       "      <td>1</td>\n",
       "      <td>F</td>\n",
       "      <td>retiree</td>\n",
       "      <td>1</td>\n",
       "      <td>NaN</td>\n",
       "      <td>to have a wedding</td>\n",
       "    </tr>\n",
       "    <tr>\n",
       "      <th>...</th>\n",
       "      <td>...</td>\n",
       "      <td>...</td>\n",
       "      <td>...</td>\n",
       "      <td>...</td>\n",
       "      <td>...</td>\n",
       "      <td>...</td>\n",
       "      <td>...</td>\n",
       "      <td>...</td>\n",
       "      <td>...</td>\n",
       "      <td>...</td>\n",
       "      <td>...</td>\n",
       "      <td>...</td>\n",
       "    </tr>\n",
       "    <tr>\n",
       "      <th>21489</th>\n",
       "      <td>2</td>\n",
       "      <td>NaN</td>\n",
       "      <td>47</td>\n",
       "      <td>Secondary Education</td>\n",
       "      <td>1</td>\n",
       "      <td>married</td>\n",
       "      <td>0</td>\n",
       "      <td>M</td>\n",
       "      <td>business</td>\n",
       "      <td>0</td>\n",
       "      <td>NaN</td>\n",
       "      <td>purchase of a car</td>\n",
       "    </tr>\n",
       "    <tr>\n",
       "      <th>21495</th>\n",
       "      <td>1</td>\n",
       "      <td>NaN</td>\n",
       "      <td>50</td>\n",
       "      <td>secondary education</td>\n",
       "      <td>1</td>\n",
       "      <td>civil partnership</td>\n",
       "      <td>1</td>\n",
       "      <td>F</td>\n",
       "      <td>employee</td>\n",
       "      <td>0</td>\n",
       "      <td>NaN</td>\n",
       "      <td>wedding ceremony</td>\n",
       "    </tr>\n",
       "    <tr>\n",
       "      <th>21497</th>\n",
       "      <td>0</td>\n",
       "      <td>NaN</td>\n",
       "      <td>48</td>\n",
       "      <td>BACHELOR'S DEGREE</td>\n",
       "      <td>0</td>\n",
       "      <td>married</td>\n",
       "      <td>0</td>\n",
       "      <td>F</td>\n",
       "      <td>business</td>\n",
       "      <td>0</td>\n",
       "      <td>NaN</td>\n",
       "      <td>building a property</td>\n",
       "    </tr>\n",
       "    <tr>\n",
       "      <th>21502</th>\n",
       "      <td>1</td>\n",
       "      <td>NaN</td>\n",
       "      <td>42</td>\n",
       "      <td>secondary education</td>\n",
       "      <td>1</td>\n",
       "      <td>married</td>\n",
       "      <td>0</td>\n",
       "      <td>F</td>\n",
       "      <td>employee</td>\n",
       "      <td>0</td>\n",
       "      <td>NaN</td>\n",
       "      <td>building a real estate</td>\n",
       "    </tr>\n",
       "    <tr>\n",
       "      <th>21510</th>\n",
       "      <td>2</td>\n",
       "      <td>NaN</td>\n",
       "      <td>28</td>\n",
       "      <td>secondary education</td>\n",
       "      <td>1</td>\n",
       "      <td>married</td>\n",
       "      <td>0</td>\n",
       "      <td>F</td>\n",
       "      <td>employee</td>\n",
       "      <td>0</td>\n",
       "      <td>NaN</td>\n",
       "      <td>car purchase</td>\n",
       "    </tr>\n",
       "  </tbody>\n",
       "</table>\n",
       "<p>2174 rows × 12 columns</p>\n",
       "</div>"
      ],
      "text/plain": [
       "       children  days_employed  dob_years            education  education_id  \\\n",
       "12            0            NaN         65  secondary education             1   \n",
       "26            0            NaN         41  secondary education             1   \n",
       "29            0            NaN         63  secondary education             1   \n",
       "41            0            NaN         50  secondary education             1   \n",
       "55            0            NaN         54  secondary education             1   \n",
       "...         ...            ...        ...                  ...           ...   \n",
       "21489         2            NaN         47  Secondary Education             1   \n",
       "21495         1            NaN         50  secondary education             1   \n",
       "21497         0            NaN         48    BACHELOR'S DEGREE             0   \n",
       "21502         1            NaN         42  secondary education             1   \n",
       "21510         2            NaN         28  secondary education             1   \n",
       "\n",
       "           family_status  family_status_id gender    income_type  debt  \\\n",
       "12     civil partnership                 1      M        retiree     0   \n",
       "26               married                 0      M  civil servant     0   \n",
       "29             unmarried                 4      F        retiree     0   \n",
       "41               married                 0      F  civil servant     0   \n",
       "55     civil partnership                 1      F        retiree     1   \n",
       "...                  ...               ...    ...            ...   ...   \n",
       "21489            married                 0      M       business     0   \n",
       "21495  civil partnership                 1      F       employee     0   \n",
       "21497            married                 0      F       business     0   \n",
       "21502            married                 0      F       employee     0   \n",
       "21510            married                 0      F       employee     0   \n",
       "\n",
       "       total_income                   purpose  \n",
       "12              NaN         to have a wedding  \n",
       "26              NaN                 education  \n",
       "29              NaN    building a real estate  \n",
       "41              NaN  second-hand car purchase  \n",
       "55              NaN         to have a wedding  \n",
       "...             ...                       ...  \n",
       "21489           NaN         purchase of a car  \n",
       "21495           NaN          wedding ceremony  \n",
       "21497           NaN       building a property  \n",
       "21502           NaN    building a real estate  \n",
       "21510           NaN              car purchase  \n",
       "\n",
       "[2174 rows x 12 columns]"
      ]
     },
     "metadata": {},
     "output_type": "display_data"
    },
    {
     "name": "stdout",
     "output_type": "stream",
     "text": [
      "(2174, 12)\n"
     ]
    }
   ],
   "source": [
    "# Veamos la tabla filtrada con valores ausentes de la primera columna donde faltan datos\n",
    "missing_values = data[data.days_employed.isnull() & data.total_income.isnull()]\n",
    "display(missing_values)\n",
    "print(missing_values.shape)"
   ]
  },
  {
   "cell_type": "markdown",
   "metadata": {},
   "source": [
    "Efectivamente, cuando se filtra las dos columnas con missing values, se obtiene un total de 2,174 filas, por lo que la cantidad de missing values en cada columna, es simétrica. \n",
    "\n",
    "De igual forma, para comprobar de otra forma, se filtra separadamente cada columna. "
   ]
  },
  {
   "cell_type": "code",
   "execution_count": 9,
   "metadata": {},
   "outputs": [
    {
     "name": "stdout",
     "output_type": "stream",
     "text": [
      "Missing values en `days_employed`: 2174\n",
      "\n",
      "Missing values en `total_income`: 2174\n"
     ]
    }
   ],
   "source": [
    "# Apliquemos múltiples condiciones para filtrar datos y veamos el número de filas en la tabla filtrada.\n",
    "missing_values_de = data[data.days_employed.isnull()]\n",
    "print(\"Missing values en `days_employed`:\", len(missing_values_de))\n",
    "print(\"\")\n",
    "missing_values_ti = data[data.total_income.isnull()]\n",
    "print(\"Missing values en `total_income`:\", len(missing_values_ti))"
   ]
  },
  {
   "cell_type": "markdown",
   "metadata": {},
   "source": [
    "Finalmente comprobamos los índices de los dos y verificamos si algún dato no es igual."
   ]
  },
  {
   "cell_type": "code",
   "execution_count": 10,
   "metadata": {},
   "outputs": [
    {
     "name": "stdout",
     "output_type": "stream",
     "text": [
      "[array([ True,  True,  True, ...,  True,  True,  True])]\n",
      "False\n"
     ]
    }
   ],
   "source": [
    "# se verifica si son las mismas filas\n",
    "index_de = missing_values_de.index\n",
    "index_ti = missing_values_ti.index\n",
    "compare_index = [index_de == index_ti]\n",
    "# verificamos si en compare_index hay algún False\n",
    "print(compare_index)\n",
    "print((compare_index[0] == False).any())"
   ]
  },
  {
   "cell_type": "markdown",
   "metadata": {},
   "source": [
    "Como se obtuvo de resultado `False`, quiere decir que no hay ningún valor que no sea igual entre los dos índices de las tablas filtradas. "
   ]
  },
  {
   "cell_type": "markdown",
   "metadata": {},
   "source": [
    "De todas formas, se encontró una librería específica para analizar los valores nulos en la base de datos. "
   ]
  },
  {
   "cell_type": "code",
   "execution_count": 11,
   "metadata": {},
   "outputs": [
    {
     "data": {
      "text/plain": [
       "<AxesSubplot:>"
      ]
     },
     "execution_count": 11,
     "metadata": {},
     "output_type": "execute_result"
    },
    {
     "data": {
      "image/png": "[encoded data removed]",
      "text/plain": [
       "<Figure size 1800x720 with 2 Axes>"
      ]
     },
     "metadata": {
      "needs_background": "light"
     },
     "output_type": "display_data"
    }
   ],
   "source": [
    "# matrix para ver datos ausentes en cada columna\n",
    "msno.matrix(data)"
   ]
  },
  {
   "cell_type": "markdown",
   "metadata": {},
   "source": [
    "Con la librería msno es otra forma de verificar los missing values, y con esta matriz visual es otra forma de identificar que en las mismas filas hay los missing values en \"days_employed\" y \"total_income\", por lo menos de forma visual, aunque sigue siendo difícil ir comparando línea por línea, tomando en cuenta que se tiene un total de 21,525 datos. "
   ]
  },
  {
   "cell_type": "markdown",
   "metadata": {},
   "source": [
    "Por último, se utiliza el heatmap de esta librería para identificar correlaciones entre la nulidad de los datos entre diferentes columnas. Si hay una correlación de 1, quiere decir que comparten los mismos valores nulos entre esas columnas. "
   ]
  },
  {
   "cell_type": "code",
   "execution_count": 12,
   "metadata": {},
   "outputs": [
    {
     "data": {
      "text/plain": [
       "<AxesSubplot:>"
      ]
     },
     "execution_count": 12,
     "metadata": {},
     "output_type": "execute_result"
    },
    {
     "data": {
      "image/png": "[encoded data removed]",
      "text/plain": [
       "<Figure size 1440x864 with 2 Axes>"
      ]
     },
     "metadata": {
      "needs_background": "light"
     },
     "output_type": "display_data"
    }
   ],
   "source": [
    "# heatmap msno\n",
    "msno.heatmap(data)"
   ]
  },
  {
   "cell_type": "markdown",
   "metadata": {},
   "source": [
    "Efectivamente, este heatmap con el 1 entre las columnas `total_income` y `days_employed` nos indica que tienen los mismos missing values en las mismas filas. "
   ]
  },
  {
   "cell_type": "markdown",
   "metadata": {},
   "source": [
    "**Conclusión intermedia**\n",
    "\n",
    "Comprobamos que el número de valores ausentes coincide en las dos columnas, por lo que para todos estos clientes no se tiene información sobre la experiencia laboral en días y el ingreso mensual. Se debe analizar qué realizar con estas filas y datos vacíos. \n",
    "\n",
    "Para verificar la información que se va a perder, se calculará el porcentaje de los valores ausentes hallados en comparación con el conjunto de datos completos, y posteriormente se analizará cada en base a la frecuencia o repetición de datos de cada columna, para verificar cómo están los datos de forma general. "
   ]
  },
  {
   "cell_type": "code",
   "execution_count": 13,
   "metadata": {},
   "outputs": [
    {
     "name": "stdout",
     "output_type": "stream",
     "text": [
      "children - 0.0%\n",
      "days_employed - 10.1%\n",
      "dob_years - 0.0%\n",
      "education - 0.0%\n",
      "education_id - 0.0%\n",
      "family_status - 0.0%\n",
      "family_status_id - 0.0%\n",
      "gender - 0.0%\n",
      "income_type - 0.0%\n",
      "debt - 0.0%\n",
      "total_income - 10.1%\n",
      "purpose - 0.0%\n"
     ]
    }
   ],
   "source": [
    "# % de missing values por columna\n",
    "for col in data.columns:\n",
    "    pct_missing = np.mean(data[col].isnull())\n",
    "    print('{} - {}%'.format(col, round(pct_missing*100, 2)))"
   ]
  },
  {
   "cell_type": "markdown",
   "metadata": {},
   "source": [
    "Se puede observar que los missing values representan apenas un 10.1% del total de los datos. En este caso, no es un número elevado pero es representativo a nivel de la cantidad de datos que se pueden perder. \n",
    "\n",
    "Si se elimina todas estas filas, se perderán un total de 2,174 datos valiosos, que representan clientes, por lo que es importante primero analizar si se puede rellenar de alguna forma esta información. "
   ]
  },
  {
   "cell_type": "markdown",
   "metadata": {},
   "source": [
    "Es importante ver cómo está el comportamiento de los datos, tanto los que tienen missing values como también los que no tienen missing values. "
   ]
  },
  {
   "cell_type": "code",
   "execution_count": 14,
   "metadata": {},
   "outputs": [
    {
     "data": {
      "text/plain": [
       "Index(['children', 'days_employed', 'dob_years', 'education', 'education_id',\n",
       "       'family_status', 'family_status_id', 'gender', 'income_type', 'debt',\n",
       "       'total_income', 'purpose'],\n",
       "      dtype='object')"
      ]
     },
     "execution_count": 14,
     "metadata": {},
     "output_type": "execute_result"
    }
   ],
   "source": [
    "# columnas de missing_values dataframe\n",
    "col_missing_values = missing_values.columns\n",
    "col_missing_values"
   ]
  },
  {
   "cell_type": "code",
   "execution_count": 15,
   "metadata": {
    "scrolled": true
   },
   "outputs": [
    {
     "name": "stdout",
     "output_type": "stream",
     "text": [
      "\n",
      "Frecuencia de categorías para columna: children\n",
      " 0     0.661914\n",
      " 1     0.218491\n",
      " 2     0.093836\n",
      " 3     0.016559\n",
      " 20    0.004140\n",
      " 4     0.003220\n",
      "-1     0.001380\n",
      " 5     0.000460\n",
      "Name: children, dtype: float64\n",
      "\n",
      "Frecuencia de categorías para columna: days_employed\n",
      "Series([], Name: days_employed, dtype: float64)\n",
      "\n",
      "Frecuencia de categorías para columna: dob_years\n",
      "34    0.031739\n",
      "40    0.030359\n",
      "31    0.029899\n",
      "42    0.029899\n",
      "35    0.029439\n",
      "36    0.028979\n",
      "47    0.027139\n",
      "41    0.027139\n",
      "30    0.026679\n",
      "28    0.026219\n",
      "Name: dob_years, dtype: float64\n",
      "\n",
      "Frecuencia de categorías para columna: education\n",
      "secondary education    0.647654\n",
      "bachelor's degree      0.228151\n",
      "SECONDARY EDUCATION    0.030819\n",
      "Secondary Education    0.029899\n",
      "some college           0.025299\n",
      "Bachelor's Degree      0.011500\n",
      "BACHELOR'S DEGREE      0.010580\n",
      "primary education      0.008740\n",
      "Some College           0.003220\n",
      "SOME COLLEGE           0.003220\n",
      "Name: education, dtype: float64\n",
      "\n",
      "Frecuencia de categorías para columna: education_id\n",
      "1    0.708372\n",
      "0    0.250230\n",
      "2    0.031739\n",
      "3    0.009660\n",
      "Name: education_id, dtype: float64\n",
      "\n",
      "Frecuencia de categorías para columna: family_status\n",
      "married              0.568997\n",
      "civil partnership    0.203312\n",
      "unmarried            0.132475\n",
      "divorced             0.051518\n",
      "widow / widower      0.043698\n",
      "Name: family_status, dtype: float64\n",
      "\n",
      "Frecuencia de categorías para columna: family_status_id\n",
      "0    0.568997\n",
      "1    0.203312\n",
      "4    0.132475\n",
      "3    0.051518\n",
      "2    0.043698\n",
      "Name: family_status_id, dtype: float64\n",
      "\n",
      "Frecuencia de categorías para columna: gender\n",
      "F    0.682613\n",
      "M    0.317387\n",
      "Name: gender, dtype: float64\n",
      "\n",
      "Frecuencia de categorías para columna: income_type\n",
      "employee         0.508280\n",
      "business         0.233671\n",
      "retiree          0.189972\n",
      "civil servant    0.067617\n",
      "entrepreneur     0.000460\n",
      "Name: income_type, dtype: float64\n",
      "\n",
      "Frecuencia de categorías para columna: debt\n",
      "0    0.921803\n",
      "1    0.078197\n",
      "Name: debt, dtype: float64\n",
      "\n",
      "Frecuencia de categorías para columna: total_income\n",
      "Series([], Name: total_income, dtype: float64)\n",
      "\n",
      "Frecuencia de categorías para columna: purpose\n",
      "having a wedding                            0.042318\n",
      "to have a wedding                           0.037259\n",
      "wedding ceremony                            0.034959\n",
      "construction of own property                0.034499\n",
      "housing transactions                        0.034039\n",
      "buy real estate                             0.033119\n",
      "transactions with my real estate            0.032659\n",
      "purchase of the house for my family         0.032659\n",
      "transactions with commercial real estate    0.032199\n",
      "housing renovation                          0.032199\n",
      "Name: purpose, dtype: float64\n"
     ]
    }
   ],
   "source": [
    "# distribución de datos repetidos por columna en missing values df\n",
    "for col in col_missing_values:\n",
    "    print ('\\nFrecuencia de categorías para columna: %s'%col)\n",
    "    print (missing_values[col].value_counts(normalize=True).head(10))"
   ]
  },
  {
   "cell_type": "markdown",
   "metadata": {},
   "source": [
    "Ahora comparemos con la información de los datos sin los missing values, para ver cómo es su comportamiento. "
   ]
  },
  {
   "cell_type": "code",
   "execution_count": 16,
   "metadata": {},
   "outputs": [
    {
     "data": {
      "text/plain": [
       "(19351, 12)"
      ]
     },
     "execution_count": 16,
     "metadata": {},
     "output_type": "execute_result"
    }
   ],
   "source": [
    "without_missing_values = data.dropna()\n",
    "without_missing_values.shape"
   ]
  },
  {
   "cell_type": "code",
   "execution_count": 17,
   "metadata": {},
   "outputs": [
    {
     "data": {
      "text/plain": [
       "Index(['children', 'days_employed', 'dob_years', 'education', 'education_id',\n",
       "       'family_status', 'family_status_id', 'gender', 'income_type', 'debt',\n",
       "       'total_income', 'purpose'],\n",
       "      dtype='object')"
      ]
     },
     "execution_count": 17,
     "metadata": {},
     "output_type": "execute_result"
    }
   ],
   "source": [
    "# columnas de without_missing_values dataframe\n",
    "col_without_missing_values = missing_values.columns\n",
    "col_without_missing_values"
   ]
  },
  {
   "cell_type": "code",
   "execution_count": 18,
   "metadata": {
    "scrolled": true
   },
   "outputs": [
    {
     "name": "stdout",
     "output_type": "stream",
     "text": [
      "\n",
      "Frecuencia de categorías para columna: children\n",
      " 0     0.656814\n",
      " 1     0.224433\n",
      " 2     0.095654\n",
      " 3     0.015193\n",
      " 20    0.003462\n",
      "-1     0.002274\n",
      " 4     0.001757\n",
      " 5     0.000413\n",
      "Name: children, dtype: float64\n",
      "\n",
      "Frecuencia de categorías para columna: days_employed\n",
      "-327.685916       0.000052\n",
      "-1580.622577      0.000052\n",
      "-4122.460569      0.000052\n",
      "-2828.237691      0.000052\n",
      "-2636.090517      0.000052\n",
      "-410.978864       0.000052\n",
      " 371146.815668    0.000052\n",
      "-2186.168272      0.000052\n",
      "-4399.664923      0.000052\n",
      "-598.186547       0.000052\n",
      "Name: days_employed, dtype: float64\n",
      "\n",
      "Frecuencia de categorías para columna: dob_years\n",
      "35    0.028577\n",
      "41    0.028319\n",
      "38    0.028112\n",
      "40    0.028061\n",
      "34    0.027595\n",
      "42    0.027492\n",
      "33    0.027389\n",
      "39    0.026975\n",
      "44    0.025993\n",
      "29    0.025580\n",
      "Name: dob_years, dtype: float64\n",
      "\n",
      "Frecuencia de categorías para columna: education\n",
      "secondary education    0.637796\n",
      "bachelor's degree      0.218180\n",
      "SECONDARY EDUCATION    0.036432\n",
      "Secondary Education    0.033383\n",
      "some college           0.031678\n",
      "BACHELOR'S DEGREE      0.012971\n",
      "Bachelor's Degree      0.012557\n",
      "primary education      0.011937\n",
      "Some College           0.002067\n",
      "SOME COLLEGE           0.001137\n",
      "Name: education, dtype: float64\n",
      "\n",
      "Frecuencia de categorías para columna: education_id\n",
      "1    0.707612\n",
      "0    0.243708\n",
      "2    0.034882\n",
      "3    0.013488\n",
      "4    0.000310\n",
      "Name: education_id, dtype: float64\n",
      "\n",
      "Frecuencia de categorías para columna: family_status\n",
      "married              0.575836\n",
      "civil partnership    0.193013\n",
      "unmarried            0.130484\n",
      "divorced             0.055966\n",
      "widow / widower      0.044701\n",
      "Name: family_status, dtype: float64\n",
      "\n",
      "Frecuencia de categorías para columna: family_status_id\n",
      "0    0.575836\n",
      "1    0.193013\n",
      "4    0.130484\n",
      "3    0.055966\n",
      "2    0.044701\n",
      "Name: family_status_id, dtype: float64\n",
      "\n",
      "Frecuencia de categorías para columna: gender\n",
      "F      0.658984\n",
      "M      0.340964\n",
      "XNA    0.000052\n",
      "Name: gender, dtype: float64\n",
      "\n",
      "Frecuencia de categorías para columna: income_type\n",
      "employee                       0.517493\n",
      "business                       0.236525\n",
      "retiree                        0.177924\n",
      "civil servant                  0.067800\n",
      "unemployed                     0.000103\n",
      "paternity / maternity leave    0.000052\n",
      "student                        0.000052\n",
      "entrepreneur                   0.000052\n",
      "Name: income_type, dtype: float64\n",
      "\n",
      "Frecuencia de categorías para columna: debt\n",
      "0    0.918816\n",
      "1    0.081184\n",
      "Name: debt, dtype: float64\n",
      "\n",
      "Frecuencia de categorías para columna: total_income\n",
      "42413.096    0.000103\n",
      "17312.717    0.000103\n",
      "31791.384    0.000103\n",
      "14427.878    0.000052\n",
      "20837.034    0.000052\n",
      "10588.133    0.000052\n",
      "41772.645    0.000052\n",
      "31219.807    0.000052\n",
      "15447.301    0.000052\n",
      "15209.404    0.000052\n",
      "Name: total_income, dtype: float64\n",
      "\n",
      "Frecuencia de categorías para columna: purpose\n",
      "wedding ceremony                            0.037259\n",
      "to have a wedding                           0.035812\n",
      "having a wedding                            0.035399\n",
      "real estate transactions                    0.031781\n",
      "buy commercial real estate                  0.030851\n",
      "purchase of the house                       0.030748\n",
      "buying property for renting out             0.030386\n",
      "housing                                     0.030334\n",
      "transactions with commercial real estate    0.030024\n",
      "building a real estate                      0.029973\n",
      "Name: purpose, dtype: float64\n"
     ]
    }
   ],
   "source": [
    "# distribución de datos repetidos por columna en without_missing_values df\n",
    "for col in col_without_missing_values:\n",
    "    print ('\\nFrecuencia de categorías para columna: %s'%col)\n",
    "    print (without_missing_values[col].value_counts(normalize=True).head(10))"
   ]
  },
  {
   "cell_type": "markdown",
   "metadata": {},
   "source": [
    "Al parecer tanto el dataframe con valores ausentes `missing_values` y el dataframe sin valores ausentes `without_missing_values` tiene un comportamiento bastante similar en la cantidad de datos que se repite en cada columna. \n",
    "\n",
    "Como ejemplo, tenemos la columna `children` en los dos casos, la distribución de hijos que tiene cada cliente en cada grupo de datos es el mismo, incluso la cantidad de datos repartidos en cada sección. Hay poca alteración entre los datos que más se repiten en cada caso, por lo que podremos decir que el comportamiento de los datos con valores ausentes es igual al comportamiento de los datos sin valores ausentes. \n",
    "\n",
    "Pero, ¿qué quiere decir esto? Básicamente que los datos ausentes son aleatorios, es decir, no hay una razón específica de por qué esas filas exactas tienen valores ausentes en `days_employed` y `total_income`. \n",
    "\n",
    "**¿Posibles razones por las que hay valores ausentes en los datos?**\n",
    "\n",
    "Realmente no hay ninguna específica, ya que hemos comprobado que los datos ausentes tienen igual un comportamiento igual al alzar. Puede haber varias razones de fondo, como se perdió registros de esos específicos clientes en base a los datos de esas columnas, al exportar la información hubo algún error, entre otras razones. \n",
    "\n",
    "Lo importante a tomar en cuenta es que el comportamiento de los datos ausentes es aleatorio. "
   ]
  },
  {
   "cell_type": "markdown",
   "metadata": {},
   "source": [
    "Ahora, veamos el comportamiento de la distribución de los datos del dataframe completo sin utilizar `normalize=True`, y veamos qué hallazgos encontramos:"
   ]
  },
  {
   "cell_type": "code",
   "execution_count": 19,
   "metadata": {},
   "outputs": [
    {
     "data": {
      "text/plain": [
       "Index(['children', 'days_employed', 'dob_years', 'education', 'education_id',\n",
       "       'family_status', 'family_status_id', 'gender', 'income_type', 'debt',\n",
       "       'total_income', 'purpose'],\n",
       "      dtype='object')"
      ]
     },
     "execution_count": 19,
     "metadata": {},
     "output_type": "execute_result"
    }
   ],
   "source": [
    "column_names = data.columns\n",
    "column_names"
   ]
  },
  {
   "cell_type": "code",
   "execution_count": 20,
   "metadata": {
    "scrolled": true
   },
   "outputs": [
    {
     "name": "stdout",
     "output_type": "stream",
     "text": [
      "\n",
      "Frecuencia de categorías para columna: children\n",
      " 0     14149\n",
      " 1      4818\n",
      " 2      2055\n",
      " 3       330\n",
      " 20       76\n",
      "-1        47\n",
      " 4        41\n",
      " 5         9\n",
      "Name: children, dtype: int64\n",
      "\n",
      "Frecuencia de categorías para columna: days_employed\n",
      "-327.685916       1\n",
      "-1580.622577      1\n",
      "-4122.460569      1\n",
      "-2828.237691      1\n",
      "-2636.090517      1\n",
      "-410.978864       1\n",
      " 371146.815668    1\n",
      "-2186.168272      1\n",
      "-4399.664923      1\n",
      "-598.186547       1\n",
      "Name: days_employed, dtype: int64\n",
      "\n",
      "Frecuencia de categorías para columna: dob_years\n",
      "35    617\n",
      "40    609\n",
      "41    607\n",
      "34    603\n",
      "38    598\n",
      "42    597\n",
      "33    581\n",
      "39    573\n",
      "31    560\n",
      "36    555\n",
      "Name: dob_years, dtype: int64\n",
      "\n",
      "Frecuencia de categorías para columna: education\n",
      "secondary education    13750\n",
      "bachelor's degree       4718\n",
      "SECONDARY EDUCATION      772\n",
      "Secondary Education      711\n",
      "some college             668\n",
      "BACHELOR'S DEGREE        274\n",
      "Bachelor's Degree        268\n",
      "primary education        250\n",
      "Some College              47\n",
      "SOME COLLEGE              29\n",
      "Name: education, dtype: int64\n",
      "\n",
      "Frecuencia de categorías para columna: education_id\n",
      "1    15233\n",
      "0     5260\n",
      "2      744\n",
      "3      282\n",
      "4        6\n",
      "Name: education_id, dtype: int64\n",
      "\n",
      "Frecuencia de categorías para columna: family_status\n",
      "married              12380\n",
      "civil partnership     4177\n",
      "unmarried             2813\n",
      "divorced              1195\n",
      "widow / widower        960\n",
      "Name: family_status, dtype: int64\n",
      "\n",
      "Frecuencia de categorías para columna: family_status_id\n",
      "0    12380\n",
      "1     4177\n",
      "4     2813\n",
      "3     1195\n",
      "2      960\n",
      "Name: family_status_id, dtype: int64\n",
      "\n",
      "Frecuencia de categorías para columna: gender\n",
      "F      14236\n",
      "M       7288\n",
      "XNA        1\n",
      "Name: gender, dtype: int64\n",
      "\n",
      "Frecuencia de categorías para columna: income_type\n",
      "employee                       11119\n",
      "business                        5085\n",
      "retiree                         3856\n",
      "civil servant                   1459\n",
      "unemployed                         2\n",
      "entrepreneur                       2\n",
      "paternity / maternity leave        1\n",
      "student                            1\n",
      "Name: income_type, dtype: int64\n",
      "\n",
      "Frecuencia de categorías para columna: debt\n",
      "0    19784\n",
      "1     1741\n",
      "Name: debt, dtype: int64\n",
      "\n",
      "Frecuencia de categorías para columna: total_income\n",
      "42413.096    2\n",
      "17312.717    2\n",
      "31791.384    2\n",
      "14427.878    1\n",
      "20837.034    1\n",
      "10588.133    1\n",
      "41772.645    1\n",
      "31219.807    1\n",
      "15447.301    1\n",
      "15209.404    1\n",
      "Name: total_income, dtype: int64\n",
      "\n",
      "Frecuencia de categorías para columna: purpose\n",
      "wedding ceremony                            797\n",
      "having a wedding                            777\n",
      "to have a wedding                           774\n",
      "real estate transactions                    676\n",
      "buy commercial real estate                  664\n",
      "housing transactions                        653\n",
      "buying property for renting out             653\n",
      "transactions with commercial real estate    651\n",
      "housing                                     647\n",
      "purchase of the house                       647\n",
      "Name: purpose, dtype: int64\n"
     ]
    }
   ],
   "source": [
    "# frecuencia de datos repetidos por columna\n",
    "for col in column_names:\n",
    "    print ('\\nFrecuencia de categorías para columna: %s'%col)\n",
    "    print (data[col].value_counts().head(10))"
   ]
  },
  {
   "cell_type": "markdown",
   "metadata": {},
   "source": [
    "**Conclusión intermedia**\n",
    "\n",
    "Con la información que tenemos arriba, podemos observar distinta información: \n",
    "- En `children` hay datos con 20 hijos y -1 hijo, lo cual podemos decir que esta información es errónea y se debe corregir. \n",
    "- En `days_employed` como ya se comprobó antes se tiene datos tipo `float` el cual indica la cantidad de días que ha trabajado una persona. Tener datos tipo float aquí es raro, pero más inusual es tener tantos datos positivos como negativos donde los datos están bastante dispersos. Hay que explorar más a detalle esta columna, tal vez dividiendo los datos positivos con los negativos. \n",
    "- En `dob_years` por lo menos los 10 primeros datos que más se repiten no muestra información inusual. \n",
    "- En `education` hay que eliminar los duplicados implícitos. Esto se puede realizar transformando todo a minúscula. \n",
    "- `education_id` debería tener la misma información que education, por lo que deberíamos tener solo 5 categorías en `education`. \n",
    "- `family_status` y `family_status_id` tienen la misma cantidad de datos que se repiten en cada categoría, y las mismas categorías por lo que se podría indicar que están bien. \n",
    "- En `gender` se tiene una tercera categoría solo 1 dato único, por lo que se podría reemplazar con la moda que es `F` de Femenino. \n",
    "- En `income_type` al parecer está bien en la mayoría aunque hay datos atípicos en las últimas 4 categorías, lo cual tal vez se podría cambiar a las categorías que más se repiten. Como son apenas 1 o 2 datos, no cambiaría el análisis o la distribución de los datos, solo reducimos la categorización. \n",
    "- En `debt` tenemos una categoría binaria de 0 y 1, por lo que quiere decir que 0 es no tienen deuda y 1 si tienen deuda. \n",
    "- En `total_income` al parecer está completamente normal los datos, tocaría ver con más detalle cómo está la distribución nuevamente. \n",
    "- En `purpose` que es la razón por la que sacan un préstamo en el banco al parecer hay duplicados implícitos, pero escritos de diferente forma como las tres primeras categorías. Hay que ver esto más a fondo. \n",
    "\n",
    "Junto con esto, se puede realizar ya una correción en las columnas que se indicó, tomando en cuenta de realizar siempre un análisis más profundo revisando todos los datos. "
   ]
  },
  {
   "cell_type": "code",
   "execution_count": 21,
   "metadata": {
    "scrolled": true
   },
   "outputs": [
    {
     "data": {
      "text/html": [
       "<div>\n",
       "<style scoped>\n",
       "    .dataframe tbody tr th:only-of-type {\n",
       "        vertical-align: middle;\n",
       "    }\n",
       "\n",
       "    .dataframe tbody tr th {\n",
       "        vertical-align: top;\n",
       "    }\n",
       "\n",
       "    .dataframe thead th {\n",
       "        text-align: right;\n",
       "    }\n",
       "</style>\n",
       "<table border=\"1\" class=\"dataframe\">\n",
       "  <thead>\n",
       "    <tr style=\"text-align: right;\">\n",
       "      <th></th>\n",
       "      <th>children</th>\n",
       "      <th>days_employed</th>\n",
       "      <th>dob_years</th>\n",
       "      <th>education_id</th>\n",
       "      <th>family_status_id</th>\n",
       "      <th>debt</th>\n",
       "      <th>total_income</th>\n",
       "    </tr>\n",
       "  </thead>\n",
       "  <tbody>\n",
       "    <tr>\n",
       "      <th>count</th>\n",
       "      <td>21525.000000</td>\n",
       "      <td>19351.000000</td>\n",
       "      <td>21525.000000</td>\n",
       "      <td>21525.000000</td>\n",
       "      <td>21525.000000</td>\n",
       "      <td>21525.000000</td>\n",
       "      <td>19351.000000</td>\n",
       "    </tr>\n",
       "    <tr>\n",
       "      <th>mean</th>\n",
       "      <td>0.538908</td>\n",
       "      <td>63046.497661</td>\n",
       "      <td>43.293380</td>\n",
       "      <td>0.817236</td>\n",
       "      <td>0.972544</td>\n",
       "      <td>0.080883</td>\n",
       "      <td>26787.568355</td>\n",
       "    </tr>\n",
       "    <tr>\n",
       "      <th>std</th>\n",
       "      <td>1.381587</td>\n",
       "      <td>140827.311974</td>\n",
       "      <td>12.574584</td>\n",
       "      <td>0.548138</td>\n",
       "      <td>1.420324</td>\n",
       "      <td>0.272661</td>\n",
       "      <td>16475.450632</td>\n",
       "    </tr>\n",
       "    <tr>\n",
       "      <th>min</th>\n",
       "      <td>-1.000000</td>\n",
       "      <td>-18388.949901</td>\n",
       "      <td>0.000000</td>\n",
       "      <td>0.000000</td>\n",
       "      <td>0.000000</td>\n",
       "      <td>0.000000</td>\n",
       "      <td>3306.762000</td>\n",
       "    </tr>\n",
       "    <tr>\n",
       "      <th>25%</th>\n",
       "      <td>0.000000</td>\n",
       "      <td>-2747.423625</td>\n",
       "      <td>33.000000</td>\n",
       "      <td>1.000000</td>\n",
       "      <td>0.000000</td>\n",
       "      <td>0.000000</td>\n",
       "      <td>16488.504500</td>\n",
       "    </tr>\n",
       "    <tr>\n",
       "      <th>50%</th>\n",
       "      <td>0.000000</td>\n",
       "      <td>-1203.369529</td>\n",
       "      <td>42.000000</td>\n",
       "      <td>1.000000</td>\n",
       "      <td>0.000000</td>\n",
       "      <td>0.000000</td>\n",
       "      <td>23202.870000</td>\n",
       "    </tr>\n",
       "    <tr>\n",
       "      <th>75%</th>\n",
       "      <td>1.000000</td>\n",
       "      <td>-291.095954</td>\n",
       "      <td>53.000000</td>\n",
       "      <td>1.000000</td>\n",
       "      <td>1.000000</td>\n",
       "      <td>0.000000</td>\n",
       "      <td>32549.611000</td>\n",
       "    </tr>\n",
       "    <tr>\n",
       "      <th>max</th>\n",
       "      <td>20.000000</td>\n",
       "      <td>401755.400475</td>\n",
       "      <td>75.000000</td>\n",
       "      <td>4.000000</td>\n",
       "      <td>4.000000</td>\n",
       "      <td>1.000000</td>\n",
       "      <td>362496.645000</td>\n",
       "    </tr>\n",
       "  </tbody>\n",
       "</table>\n",
       "</div>"
      ],
      "text/plain": [
       "           children  days_employed     dob_years  education_id  \\\n",
       "count  21525.000000   19351.000000  21525.000000  21525.000000   \n",
       "mean       0.538908   63046.497661     43.293380      0.817236   \n",
       "std        1.381587  140827.311974     12.574584      0.548138   \n",
       "min       -1.000000  -18388.949901      0.000000      0.000000   \n",
       "25%        0.000000   -2747.423625     33.000000      1.000000   \n",
       "50%        0.000000   -1203.369529     42.000000      1.000000   \n",
       "75%        1.000000    -291.095954     53.000000      1.000000   \n",
       "max       20.000000  401755.400475     75.000000      4.000000   \n",
       "\n",
       "       family_status_id          debt   total_income  \n",
       "count      21525.000000  21525.000000   19351.000000  \n",
       "mean           0.972544      0.080883   26787.568355  \n",
       "std            1.420324      0.272661   16475.450632  \n",
       "min            0.000000      0.000000    3306.762000  \n",
       "25%            0.000000      0.000000   16488.504500  \n",
       "50%            0.000000      0.000000   23202.870000  \n",
       "75%            1.000000      0.000000   32549.611000  \n",
       "max            4.000000      1.000000  362496.645000  "
      ]
     },
     "execution_count": 21,
     "metadata": {},
     "output_type": "execute_result"
    }
   ],
   "source": [
    "# patrones estadísticos\n",
    "data.describe()"
   ]
  },
  {
   "cell_type": "markdown",
   "metadata": {},
   "source": [
    "Adicional de las columnas antes explicada, al parecer todas están bien. A nivel de `total_income` puede ser que haya datos atípicos, tomando en cuenta que el percentil 75 llega a 32,000 y el valor máximo se eleva a 362,496. "
   ]
  },
  {
   "cell_type": "markdown",
   "metadata": {},
   "source": [
    "**Conclusiones**\n",
    "\n",
    "Finalmente se concluye que no hay un patrón definido de por qué hay valores ausentes. Se llegó esta conclusión comparando el comportamiento de los datos que tienen valores ausentes y los que no tienen. Verificando datos estadísticos y la frecuencia de las categorías que más se repiten, se pudo encontrar que ambos grupos de datos tienen un comportamiento bien similar en todas las columnas. \n",
    "\n",
    "La mejor manera para abordar los valores ausentes es verificando columna por columna cómo están los datos y ver alguna alternativa para poder reemplazar los datos. Hay que recordar que si se elimina los datos, se pierde información valiosa de los clientes. \n",
    "\n",
    "A continuación, se realizará una transformación exhaustiva de cada columna, corrigiendo y que esté correcto los datos en base a cada una de ellas, y el comportamiento general. "
   ]
  },
  {
   "cell_type": "markdown",
   "metadata": {},
   "source": [
    "## Transformación de datos\n",
    "\n",
    "Es importante verificar cómo está la información actualmente de cada columna de forma más profunda, y corregir cualquier dato erróneo que se pueda presenta. "
   ]
  },
  {
   "cell_type": "markdown",
   "metadata": {},
   "source": [
    "### Análisis en `education`"
   ]
  },
  {
   "cell_type": "markdown",
   "metadata": {},
   "source": [
    "Comenzamos con la eliminación de duplicados implícitos y corrección de la columna `education`."
   ]
  },
  {
   "cell_type": "code",
   "execution_count": 22,
   "metadata": {},
   "outputs": [
    {
     "name": "stdout",
     "output_type": "stream",
     "text": [
      "secondary education    0.638792\n",
      "bachelor's degree      0.219187\n",
      "SECONDARY EDUCATION    0.035865\n",
      "Secondary Education    0.033031\n",
      "some college           0.031034\n",
      "BACHELOR'S DEGREE      0.012729\n",
      "Bachelor's Degree      0.012451\n",
      "primary education      0.011614\n",
      "Some College           0.002184\n",
      "SOME COLLEGE           0.001347\n",
      "PRIMARY EDUCATION      0.000790\n",
      "Primary Education      0.000697\n",
      "graduate degree        0.000186\n",
      "GRADUATE DEGREE        0.000046\n",
      "Graduate Degree        0.000046\n",
      "Name: education, dtype: float64\n"
     ]
    }
   ],
   "source": [
    "# distribución de categorías en `education`\n",
    "print(data[\"education\"].value_counts(normalize=True))"
   ]
  },
  {
   "cell_type": "markdown",
   "metadata": {},
   "source": [
    "Se procede a eliminar los duplicados implícitos, transformando todo en minúscula. "
   ]
  },
  {
   "cell_type": "code",
   "execution_count": 23,
   "metadata": {
    "scrolled": true
   },
   "outputs": [],
   "source": [
    "# se transforma todo a minúscula\n",
    "data[\"education\"] = data[\"education\"].str.lower()"
   ]
  },
  {
   "cell_type": "code",
   "execution_count": 24,
   "metadata": {},
   "outputs": [
    {
     "name": "stdout",
     "output_type": "stream",
     "text": [
      "secondary education    0.707689\n",
      "bachelor's degree      0.244367\n",
      "some college           0.034564\n",
      "primary education      0.013101\n",
      "graduate degree        0.000279\n",
      "Name: education, dtype: float64\n"
     ]
    }
   ],
   "source": [
    "# se comprueba nuevamente\n",
    "print(data[\"education\"].value_counts(normalize=True))"
   ]
  },
  {
   "cell_type": "markdown",
   "metadata": {},
   "source": [
    "Se logró corregir todos los duplicados, reduciendo de 15 categorías a 5 categorías, donde `secondary education` representa el 70% de los clientes y `bachelor´s degree` el 24%, siendo las dos categorías más grandes. "
   ]
  },
  {
   "cell_type": "markdown",
   "metadata": {},
   "source": [
    "### Análisis en `children`"
   ]
  },
  {
   "cell_type": "markdown",
   "metadata": {},
   "source": [
    "Continuemos con la columna `children`"
   ]
  },
  {
   "cell_type": "code",
   "execution_count": 25,
   "metadata": {},
   "outputs": [
    {
     "name": "stdout",
     "output_type": "stream",
     "text": [
      " 0     0.657329\n",
      " 1     0.223833\n",
      " 2     0.095470\n",
      " 3     0.015331\n",
      " 20    0.003531\n",
      "-1     0.002184\n",
      " 4     0.001905\n",
      " 5     0.000418\n",
      "Name: children, dtype: float64\n"
     ]
    }
   ],
   "source": [
    "# Veamos la distribución de los valores en la columna `children`\n",
    "print(data[\"children\"].value_counts(normalize=True))"
   ]
  },
  {
   "cell_type": "code",
   "execution_count": 26,
   "metadata": {},
   "outputs": [
    {
     "name": "stdout",
     "output_type": "stream",
     "text": [
      " 0     14149\n",
      " 1      4818\n",
      " 2      2055\n",
      " 3       330\n",
      " 20       76\n",
      "-1        47\n",
      " 4        41\n",
      " 5         9\n",
      "Name: children, dtype: int64\n"
     ]
    }
   ],
   "source": [
    "# Veamos la distribución de los valores en la columna `children`\n",
    "print(data[\"children\"].value_counts())"
   ]
  },
  {
   "cell_type": "markdown",
   "metadata": {},
   "source": [
    "Se observa dos datos inusuales en la columna, el valor -1 y 20 hijos. Se concluye que estos datos son erroneos desde el ingreso de la información a la base de datos, donde puede haber sido un error humano de digitación, tomando en cuenta que el primer valor es imposible porque nadie puede tener -1 hijos, el segundo es improbable que 76 clientes tengan 20 hijos. \n",
    "\n",
    "Se verificará el porcentaje total de estos datos problemáticos. "
   ]
  },
  {
   "cell_type": "code",
   "execution_count": 27,
   "metadata": {},
   "outputs": [
    {
     "name": "stdout",
     "output_type": "stream",
     "text": [
      "0.5714285714285714\n"
     ]
    }
   ],
   "source": [
    "# porcentaje total de datos problemáticos\n",
    "total_data = len(data[\"children\"])\n",
    "children_20 = len(data[data[\"children\"] == 20])\n",
    "children_minus1 = len(data[data[\"children\"] == -1])\n",
    "print(((children_minus1 + children_20)/total_data)*100)"
   ]
  },
  {
   "cell_type": "markdown",
   "metadata": {},
   "source": [
    "Estos datos problemáticos apenas representan el 0.57% de todos los datos. Como es un porcentaje pequeño, se cambiará los datos de la siguiente manera: \n",
    "- El valor de 20 se cambiará a 2, ya que se estima que el 0 está de más y el digitar 20 fue error humano. \n",
    "- El valor de -1 se cambiará a 1, ya que se estima que realmente era 1 hijo. \n",
    "\n",
    "Tomar en cuenta que el reemplazar los datos inconsistentes de esta manera es mínimo y puede no impactar de forma significativa en conclusiones futuras. "
   ]
  },
  {
   "cell_type": "code",
   "execution_count": 28,
   "metadata": {},
   "outputs": [],
   "source": [
    "# correción de datos erróneos\n",
    "data['children'] = data['children'].replace(20, 2)\n",
    "data['children'] = data['children'].replace(-1, 1)"
   ]
  },
  {
   "cell_type": "markdown",
   "metadata": {},
   "source": [
    "Comprobamos que los datos reemplazados estén correctamente. "
   ]
  },
  {
   "cell_type": "code",
   "execution_count": 29,
   "metadata": {},
   "outputs": [
    {
     "name": "stdout",
     "output_type": "stream",
     "text": [
      "0    0.657329\n",
      "1    0.226016\n",
      "2    0.099001\n",
      "3    0.015331\n",
      "4    0.001905\n",
      "5    0.000418\n",
      "Name: children, dtype: float64\n"
     ]
    }
   ],
   "source": [
    "# verificación de datos en `children`\n",
    "print(data[\"children\"].value_counts(normalize=True))"
   ]
  },
  {
   "cell_type": "markdown",
   "metadata": {},
   "source": [
    "### Análisis de `dob_years`"
   ]
  },
  {
   "cell_type": "markdown",
   "metadata": {},
   "source": [
    "Se revisará a continuación la columna `dob_years` que es la edad de los clientes. "
   ]
  },
  {
   "cell_type": "code",
   "execution_count": 30,
   "metadata": {},
   "outputs": [
    {
     "name": "stdout",
     "output_type": "stream",
     "text": [
      "35    617\n",
      "40    609\n",
      "41    607\n",
      "34    603\n",
      "38    598\n",
      "42    597\n",
      "33    581\n",
      "39    573\n",
      "31    560\n",
      "36    555\n",
      "44    547\n",
      "29    545\n",
      "30    540\n",
      "48    538\n",
      "37    537\n",
      "50    514\n",
      "43    513\n",
      "32    510\n",
      "49    508\n",
      "28    503\n",
      "45    497\n",
      "27    493\n",
      "56    487\n",
      "52    484\n",
      "47    480\n",
      "54    479\n",
      "46    475\n",
      "58    461\n",
      "57    460\n",
      "53    459\n",
      "51    448\n",
      "59    444\n",
      "55    443\n",
      "26    408\n",
      "60    377\n",
      "25    357\n",
      "61    355\n",
      "62    352\n",
      "63    269\n",
      "64    265\n",
      "24    264\n",
      "23    254\n",
      "65    194\n",
      "66    183\n",
      "22    183\n",
      "67    167\n",
      "21    111\n",
      "0     101\n",
      "68     99\n",
      "69     85\n",
      "70     65\n",
      "71     58\n",
      "20     51\n",
      "72     33\n",
      "19     14\n",
      "73      8\n",
      "74      6\n",
      "75      1\n",
      "Name: dob_years, dtype: int64\n"
     ]
    }
   ],
   "source": [
    "# conteo de datos en `dob_years`\n",
    "print(data[\"dob_years\"].value_counts())"
   ]
  },
  {
   "cell_type": "markdown",
   "metadata": {},
   "source": [
    "Verifiquemos a nivel de porcentajes: "
   ]
  },
  {
   "cell_type": "code",
   "execution_count": 31,
   "metadata": {},
   "outputs": [
    {
     "name": "stdout",
     "output_type": "stream",
     "text": [
      "35    0.028664\n",
      "40    0.028293\n",
      "41    0.028200\n",
      "34    0.028014\n",
      "38    0.027782\n",
      "42    0.027735\n",
      "33    0.026992\n",
      "39    0.026620\n",
      "31    0.026016\n",
      "36    0.025784\n",
      "44    0.025412\n",
      "29    0.025319\n",
      "30    0.025087\n",
      "48    0.024994\n",
      "37    0.024948\n",
      "50    0.023879\n",
      "43    0.023833\n",
      "32    0.023693\n",
      "49    0.023600\n",
      "28    0.023368\n",
      "45    0.023089\n",
      "27    0.022904\n",
      "56    0.022625\n",
      "52    0.022485\n",
      "47    0.022300\n",
      "54    0.022253\n",
      "46    0.022067\n",
      "58    0.021417\n",
      "57    0.021370\n",
      "53    0.021324\n",
      "51    0.020813\n",
      "59    0.020627\n",
      "55    0.020581\n",
      "26    0.018955\n",
      "60    0.017515\n",
      "25    0.016585\n",
      "61    0.016492\n",
      "62    0.016353\n",
      "63    0.012497\n",
      "64    0.012311\n",
      "24    0.012265\n",
      "23    0.011800\n",
      "65    0.009013\n",
      "66    0.008502\n",
      "22    0.008502\n",
      "67    0.007758\n",
      "21    0.005157\n",
      "0     0.004692\n",
      "68    0.004599\n",
      "69    0.003949\n",
      "70    0.003020\n",
      "71    0.002695\n",
      "20    0.002369\n",
      "72    0.001533\n",
      "19    0.000650\n",
      "73    0.000372\n",
      "74    0.000279\n",
      "75    0.000046\n",
      "Name: dob_years, dtype: float64\n"
     ]
    }
   ],
   "source": [
    "# conteo de datos en `dob_years` con porcentaje\n",
    "print(data[\"dob_years\"].value_counts(normalize=True))"
   ]
  },
  {
   "cell_type": "markdown",
   "metadata": {},
   "source": [
    "Reordenamos la información para comprobar: "
   ]
  },
  {
   "cell_type": "code",
   "execution_count": 32,
   "metadata": {},
   "outputs": [
    {
     "data": {
      "text/plain": [
       "array([ 0, 19, 20, 21, 22, 23, 24, 25, 26, 27, 28, 29, 30, 31, 32, 33, 34,\n",
       "       35, 36, 37, 38, 39, 40, 41, 42, 43, 44, 45, 46, 47, 48, 49, 50, 51,\n",
       "       52, 53, 54, 55, 56, 57, 58, 59, 60, 61, 62, 63, 64, 65, 66, 67, 68,\n",
       "       69, 70, 71, 72, 73, 74, 75])"
      ]
     },
     "metadata": {},
     "output_type": "display_data"
    }
   ],
   "source": [
    "# datos ordenados de años\n",
    "unique_dob_years = data[\"dob_years\"].unique()\n",
    "unique_dob_years.sort()\n",
    "display(unique_dob_years)"
   ]
  },
  {
   "cell_type": "markdown",
   "metadata": {},
   "source": [
    "Al parecer hay 101 clientes que tienen 0 años de edad, lo cual es raro obtener ese tipo de datos. En total, estos representan el 0.46% de los datos. Para poder corregir estos datos, se decide analizar conjuntamente con la columna `days_employed`, para verificar cuántos días han trabajado esas personas, y ver si se puede transformar en años para sacar su posible edad. "
   ]
  },
  {
   "cell_type": "code",
   "execution_count": 33,
   "metadata": {},
   "outputs": [
    {
     "data": {
      "text/html": [
       "<div>\n",
       "<style scoped>\n",
       "    .dataframe tbody tr th:only-of-type {\n",
       "        vertical-align: middle;\n",
       "    }\n",
       "\n",
       "    .dataframe tbody tr th {\n",
       "        vertical-align: top;\n",
       "    }\n",
       "\n",
       "    .dataframe thead th {\n",
       "        text-align: right;\n",
       "    }\n",
       "</style>\n",
       "<table border=\"1\" class=\"dataframe\">\n",
       "  <thead>\n",
       "    <tr style=\"text-align: right;\">\n",
       "      <th></th>\n",
       "      <th>children</th>\n",
       "      <th>days_employed</th>\n",
       "      <th>dob_years</th>\n",
       "      <th>education_id</th>\n",
       "      <th>family_status_id</th>\n",
       "      <th>debt</th>\n",
       "      <th>total_income</th>\n",
       "    </tr>\n",
       "  </thead>\n",
       "  <tbody>\n",
       "    <tr>\n",
       "      <th>count</th>\n",
       "      <td>101.000000</td>\n",
       "      <td>91.000000</td>\n",
       "      <td>101.0</td>\n",
       "      <td>101.000000</td>\n",
       "      <td>101.000000</td>\n",
       "      <td>101.000000</td>\n",
       "      <td>91.000000</td>\n",
       "    </tr>\n",
       "    <tr>\n",
       "      <th>mean</th>\n",
       "      <td>0.495050</td>\n",
       "      <td>65937.471974</td>\n",
       "      <td>0.0</td>\n",
       "      <td>0.673267</td>\n",
       "      <td>1.237624</td>\n",
       "      <td>0.079208</td>\n",
       "      <td>25334.072890</td>\n",
       "    </tr>\n",
       "    <tr>\n",
       "      <th>std</th>\n",
       "      <td>0.807759</td>\n",
       "      <td>143332.816768</td>\n",
       "      <td>0.0</td>\n",
       "      <td>0.512033</td>\n",
       "      <td>1.524129</td>\n",
       "      <td>0.271410</td>\n",
       "      <td>11901.096532</td>\n",
       "    </tr>\n",
       "    <tr>\n",
       "      <th>min</th>\n",
       "      <td>0.000000</td>\n",
       "      <td>-10689.250498</td>\n",
       "      <td>0.0</td>\n",
       "      <td>0.000000</td>\n",
       "      <td>0.000000</td>\n",
       "      <td>0.000000</td>\n",
       "      <td>5595.912000</td>\n",
       "    </tr>\n",
       "    <tr>\n",
       "      <th>25%</th>\n",
       "      <td>0.000000</td>\n",
       "      <td>-2258.921067</td>\n",
       "      <td>0.0</td>\n",
       "      <td>0.000000</td>\n",
       "      <td>0.000000</td>\n",
       "      <td>0.000000</td>\n",
       "      <td>15933.259000</td>\n",
       "    </tr>\n",
       "    <tr>\n",
       "      <th>50%</th>\n",
       "      <td>0.000000</td>\n",
       "      <td>-1146.689586</td>\n",
       "      <td>0.0</td>\n",
       "      <td>1.000000</td>\n",
       "      <td>1.000000</td>\n",
       "      <td>0.000000</td>\n",
       "      <td>24387.070000</td>\n",
       "    </tr>\n",
       "    <tr>\n",
       "      <th>75%</th>\n",
       "      <td>1.000000</td>\n",
       "      <td>-245.276828</td>\n",
       "      <td>0.0</td>\n",
       "      <td>1.000000</td>\n",
       "      <td>3.000000</td>\n",
       "      <td>0.000000</td>\n",
       "      <td>34007.907500</td>\n",
       "    </tr>\n",
       "    <tr>\n",
       "      <th>max</th>\n",
       "      <td>3.000000</td>\n",
       "      <td>400992.375704</td>\n",
       "      <td>0.0</td>\n",
       "      <td>2.000000</td>\n",
       "      <td>4.000000</td>\n",
       "      <td>1.000000</td>\n",
       "      <td>61819.782000</td>\n",
       "    </tr>\n",
       "  </tbody>\n",
       "</table>\n",
       "</div>"
      ],
      "text/plain": [
       "         children  days_employed  dob_years  education_id  family_status_id  \\\n",
       "count  101.000000      91.000000      101.0    101.000000        101.000000   \n",
       "mean     0.495050   65937.471974        0.0      0.673267          1.237624   \n",
       "std      0.807759  143332.816768        0.0      0.512033          1.524129   \n",
       "min      0.000000  -10689.250498        0.0      0.000000          0.000000   \n",
       "25%      0.000000   -2258.921067        0.0      0.000000          0.000000   \n",
       "50%      0.000000   -1146.689586        0.0      1.000000          1.000000   \n",
       "75%      1.000000    -245.276828        0.0      1.000000          3.000000   \n",
       "max      3.000000  400992.375704        0.0      2.000000          4.000000   \n",
       "\n",
       "             debt  total_income  \n",
       "count  101.000000     91.000000  \n",
       "mean     0.079208  25334.072890  \n",
       "std      0.271410  11901.096532  \n",
       "min      0.000000   5595.912000  \n",
       "25%      0.000000  15933.259000  \n",
       "50%      0.000000  24387.070000  \n",
       "75%      0.000000  34007.907500  \n",
       "max      1.000000  61819.782000  "
      ]
     },
     "metadata": {},
     "output_type": "display_data"
    },
    {
     "data": {
      "text/html": [
       "<div>\n",
       "<style scoped>\n",
       "    .dataframe tbody tr th:only-of-type {\n",
       "        vertical-align: middle;\n",
       "    }\n",
       "\n",
       "    .dataframe tbody tr th {\n",
       "        vertical-align: top;\n",
       "    }\n",
       "\n",
       "    .dataframe thead th {\n",
       "        text-align: right;\n",
       "    }\n",
       "</style>\n",
       "<table border=\"1\" class=\"dataframe\">\n",
       "  <thead>\n",
       "    <tr style=\"text-align: right;\">\n",
       "      <th></th>\n",
       "      <th>children</th>\n",
       "      <th>days_employed</th>\n",
       "      <th>dob_years</th>\n",
       "      <th>education</th>\n",
       "      <th>education_id</th>\n",
       "      <th>family_status</th>\n",
       "      <th>family_status_id</th>\n",
       "      <th>gender</th>\n",
       "      <th>income_type</th>\n",
       "      <th>debt</th>\n",
       "      <th>total_income</th>\n",
       "      <th>purpose</th>\n",
       "    </tr>\n",
       "  </thead>\n",
       "  <tbody>\n",
       "    <tr>\n",
       "      <th>99</th>\n",
       "      <td>0</td>\n",
       "      <td>346541.618895</td>\n",
       "      <td>0</td>\n",
       "      <td>secondary education</td>\n",
       "      <td>1</td>\n",
       "      <td>married</td>\n",
       "      <td>0</td>\n",
       "      <td>F</td>\n",
       "      <td>retiree</td>\n",
       "      <td>0</td>\n",
       "      <td>11406.644</td>\n",
       "      <td>car</td>\n",
       "    </tr>\n",
       "    <tr>\n",
       "      <th>149</th>\n",
       "      <td>0</td>\n",
       "      <td>-2664.273168</td>\n",
       "      <td>0</td>\n",
       "      <td>secondary education</td>\n",
       "      <td>1</td>\n",
       "      <td>divorced</td>\n",
       "      <td>3</td>\n",
       "      <td>F</td>\n",
       "      <td>employee</td>\n",
       "      <td>0</td>\n",
       "      <td>11228.230</td>\n",
       "      <td>housing transactions</td>\n",
       "    </tr>\n",
       "    <tr>\n",
       "      <th>270</th>\n",
       "      <td>3</td>\n",
       "      <td>-1872.663186</td>\n",
       "      <td>0</td>\n",
       "      <td>secondary education</td>\n",
       "      <td>1</td>\n",
       "      <td>married</td>\n",
       "      <td>0</td>\n",
       "      <td>F</td>\n",
       "      <td>employee</td>\n",
       "      <td>0</td>\n",
       "      <td>16346.633</td>\n",
       "      <td>housing renovation</td>\n",
       "    </tr>\n",
       "    <tr>\n",
       "      <th>578</th>\n",
       "      <td>0</td>\n",
       "      <td>397856.565013</td>\n",
       "      <td>0</td>\n",
       "      <td>secondary education</td>\n",
       "      <td>1</td>\n",
       "      <td>married</td>\n",
       "      <td>0</td>\n",
       "      <td>F</td>\n",
       "      <td>retiree</td>\n",
       "      <td>0</td>\n",
       "      <td>15619.310</td>\n",
       "      <td>construction of own property</td>\n",
       "    </tr>\n",
       "    <tr>\n",
       "      <th>1040</th>\n",
       "      <td>0</td>\n",
       "      <td>-1158.029561</td>\n",
       "      <td>0</td>\n",
       "      <td>bachelor's degree</td>\n",
       "      <td>0</td>\n",
       "      <td>divorced</td>\n",
       "      <td>3</td>\n",
       "      <td>F</td>\n",
       "      <td>business</td>\n",
       "      <td>0</td>\n",
       "      <td>48639.062</td>\n",
       "      <td>to own a car</td>\n",
       "    </tr>\n",
       "  </tbody>\n",
       "</table>\n",
       "</div>"
      ],
      "text/plain": [
       "      children  days_employed  dob_years            education  education_id  \\\n",
       "99           0  346541.618895          0  secondary education             1   \n",
       "149          0   -2664.273168          0  secondary education             1   \n",
       "270          3   -1872.663186          0  secondary education             1   \n",
       "578          0  397856.565013          0  secondary education             1   \n",
       "1040         0   -1158.029561          0    bachelor's degree             0   \n",
       "\n",
       "     family_status  family_status_id gender income_type  debt  total_income  \\\n",
       "99         married                 0      F     retiree     0     11406.644   \n",
       "149       divorced                 3      F    employee     0     11228.230   \n",
       "270        married                 0      F    employee     0     16346.633   \n",
       "578        married                 0      F     retiree     0     15619.310   \n",
       "1040      divorced                 3      F    business     0     48639.062   \n",
       "\n",
       "                           purpose  \n",
       "99                             car  \n",
       "149           housing transactions  \n",
       "270             housing renovation  \n",
       "578   construction of own property  \n",
       "1040                  to own a car  "
      ]
     },
     "metadata": {},
     "output_type": "display_data"
    }
   ],
   "source": [
    "# filtro datos solo con 0\n",
    "data_dy_0 = data[data.dob_years == 0]\n",
    "# describe\n",
    "display(data_dy_0.describe())\n",
    "# primeros valores\n",
    "display(data_dy_0.head())"
   ]
  },
  {
   "cell_type": "markdown",
   "metadata": {},
   "source": [
    "Al parecer ahorita no se podrá corregir los datos de `dob_years` que sean igual a cero, ya que los datos de `days_employed` están dispersos e incorrectos. Revisemos primero esta columna para ver cómo podemos proceder. "
   ]
  },
  {
   "cell_type": "markdown",
   "metadata": {},
   "source": [
    "### Análisis en `days_employed`"
   ]
  },
  {
   "cell_type": "markdown",
   "metadata": {},
   "source": [
    "Comenzamos el análisis de la columna `days_employed` verificando cómo están los datos. "
   ]
  },
  {
   "cell_type": "code",
   "execution_count": 34,
   "metadata": {},
   "outputs": [
    {
     "name": "stdout",
     "output_type": "stream",
     "text": [
      "-327.685916     1\n",
      "-1580.622577    1\n",
      "-4122.460569    1\n",
      "-2828.237691    1\n",
      "-2636.090517    1\n",
      "               ..\n",
      "-7120.517564    1\n",
      "-2146.884040    1\n",
      "-881.454684     1\n",
      "-794.666350     1\n",
      "-3382.113891    1\n",
      "Name: days_employed, Length: 19351, dtype: int64\n"
     ]
    }
   ],
   "source": [
    "# value_counts en `days_employed`\n",
    "print(data[\"days_employed\"].value_counts())"
   ]
  },
  {
   "cell_type": "markdown",
   "metadata": {},
   "source": [
    "Al parecer no hay datos que se repiten, comprobemos los datos únicos:"
   ]
  },
  {
   "cell_type": "code",
   "execution_count": 35,
   "metadata": {},
   "outputs": [
    {
     "name": "stdout",
     "output_type": "stream",
     "text": [
      "19352\n"
     ]
    }
   ],
   "source": [
    "# longitud de los datos days_employed\n",
    "print(len(data[\"days_employed\"].unique()))"
   ]
  },
  {
   "cell_type": "markdown",
   "metadata": {},
   "source": [
    "Todos son datos únicos, por lo que es raro, ya que hay una gran cantidad de datos que son negativos, y son tipo float. \n",
    "\n",
    "Para entender mejor los datos, se va a transformar a años creando una nueva columna `years_employed`."
   ]
  },
  {
   "cell_type": "code",
   "execution_count": 36,
   "metadata": {},
   "outputs": [],
   "source": [
    "# transformación de días a años\n",
    "data[\"years_employed\"] = data[\"days_employed\"]/365"
   ]
  },
  {
   "cell_type": "markdown",
   "metadata": {},
   "source": [
    "Eliminamos la columna `days_employed` ya que la reemplaza `years_employed`."
   ]
  },
  {
   "cell_type": "code",
   "execution_count": 37,
   "metadata": {},
   "outputs": [],
   "source": [
    "# eliminar columna days_employed\n",
    "data = data.drop([\"days_employed\"], axis=1)"
   ]
  },
  {
   "cell_type": "markdown",
   "metadata": {},
   "source": [
    "Ahora que tenemos nuestros datos en años, podemos entender mejor la situación inicial de `days_employed`\n",
    "\n",
    "Verifiquemos la información estadística de la nueva columna `years_employed`."
   ]
  },
  {
   "cell_type": "code",
   "execution_count": 38,
   "metadata": {},
   "outputs": [
    {
     "data": {
      "text/plain": [
       "count    19351.000000\n",
       "mean       172.730131\n",
       "std        385.828252\n",
       "min        -50.380685\n",
       "25%         -7.527188\n",
       "50%         -3.296903\n",
       "75%         -0.797523\n",
       "max       1100.699727\n",
       "Name: years_employed, dtype: float64"
      ]
     },
     "execution_count": 38,
     "metadata": {},
     "output_type": "execute_result"
    }
   ],
   "source": [
    "# resumen estadístico de years_employed\n",
    "data[\"years_employed\"].describe()"
   ]
  },
  {
   "cell_type": "markdown",
   "metadata": {},
   "source": [
    "Se tiene valores negativos de 50, 7, 3 años según el mínimo y los cuartiles, sin embargo el máximo valor es 1100 años. Claramente los valores están inconsistentes. Verifiquemos si tanto los valores negativos como los positivos están inconsistentes. \n",
    "\n",
    "Procedemos a separar en dos variables estos datos: "
   ]
  },
  {
   "cell_type": "code",
   "execution_count": 39,
   "metadata": {
    "scrolled": true
   },
   "outputs": [
    {
     "name": "stdout",
     "output_type": "stream",
     "text": [
      "Valores positivos: (3445, 12)\n",
      "Valores negativos: (15906, 12)\n"
     ]
    }
   ],
   "source": [
    "# separación de datos positivos y negativos en years_employed\n",
    "positive_years = data[data[\"years_employed\"] > 0]\n",
    "negative_years = data[data[\"years_employed\"] <= 0]\n",
    "print(\"Valores positivos:\", positive_years.shape)\n",
    "print(\"Valores negativos:\", negative_years.shape)"
   ]
  },
  {
   "cell_type": "markdown",
   "metadata": {},
   "source": [
    "Al parecer los datos positivos son pocos en comparación con los negativos, evaluemos qué porcentaje representan del total de los datos."
   ]
  },
  {
   "cell_type": "code",
   "execution_count": 40,
   "metadata": {},
   "outputs": [
    {
     "name": "stdout",
     "output_type": "stream",
     "text": [
      "16.004645760743323\n",
      "73.89547038327527\n",
      "Total = 89.9001161440186\n"
     ]
    }
   ],
   "source": [
    "# porcentaje representativo de cada código\n",
    "percentage_positive = len(positive_years)/len(data)*100\n",
    "percentage_negative = len(negative_years)/len(data)*100\n",
    "print(percentage_positive)\n",
    "print(percentage_negative)\n",
    "print(\"Total =\", percentage_positive + percentage_negative)"
   ]
  },
  {
   "cell_type": "markdown",
   "metadata": {},
   "source": [
    "Apenas un 16% son datos positivos, y un 74% son negativos. Tomar en cuenta que el total de estos datos, representan un 89.90%, queriendo decir que el 10.10% de los datos están faltantes. \n",
    "\n",
    "Ahora analicemos cómo están los valores negativos y positivos a nivel de datos estadísticos:"
   ]
  },
  {
   "cell_type": "code",
   "execution_count": 41,
   "metadata": {},
   "outputs": [
    {
     "data": {
      "text/plain": [
       "count    3445.000000\n",
       "mean     1000.011808\n",
       "std        57.739771\n",
       "min       900.626632\n",
       "25%       949.697024\n",
       "50%      1000.584401\n",
       "75%      1049.990258\n",
       "max      1100.699727\n",
       "Name: years_employed, dtype: float64"
      ]
     },
     "execution_count": 41,
     "metadata": {},
     "output_type": "execute_result"
    }
   ],
   "source": [
    "# resumen estadístico positivo `years_employed` \n",
    "positive_years[\"years_employed\"].describe()"
   ]
  },
  {
   "cell_type": "code",
   "execution_count": 42,
   "metadata": {},
   "outputs": [
    {
     "data": {
      "text/plain": [
       "count    15906.000000\n",
       "mean        -6.446619\n",
       "std          6.312997\n",
       "min        -50.380685\n",
       "25%         -8.650630\n",
       "50%         -4.465807\n",
       "75%         -2.072252\n",
       "max         -0.066141\n",
       "Name: years_employed, dtype: float64"
      ]
     },
     "execution_count": 42,
     "metadata": {},
     "output_type": "execute_result"
    }
   ],
   "source": [
    "# resumen estadístico negativo `years_employed` \n",
    "negative_years[\"years_employed\"].describe()"
   ]
  },
  {
   "cell_type": "markdown",
   "metadata": {},
   "source": [
    "Al parecer solo los datos positivos son inconsistentes, ya que el año mínimo es 900 y el máximo es 1100, en cambio los datos negativos su valor mínimo es -50 y el máximo -0.06.\n",
    "\n",
    "Antes de confirmar que los valores negativos están correctos, se evalúa cuántos años han trabajado según la edad. \n",
    "\n",
    "Esto se realiza con un pivot_table con `dob_years` y obteniendo el promedio de `years_employed`. "
   ]
  },
  {
   "cell_type": "code",
   "execution_count": 43,
   "metadata": {},
   "outputs": [],
   "source": [
    "# pivot_table de dob_years y years_employed\n",
    "table_years_negative = pd.pivot_table(negative_years, \n",
    "                                      values=\"years_employed\", \n",
    "                                      index=\"dob_years\", \n",
    "                                      aggfunc=[\"mean\", \"median\", \"min\", \"max\"])"
   ]
  },
  {
   "cell_type": "code",
   "execution_count": 44,
   "metadata": {},
   "outputs": [
    {
     "name": "stdout",
     "output_type": "stream",
     "text": [
      "                    mean         median            min            max\n",
      "          years_employed years_employed years_employed years_employed\n",
      "dob_years                                                            \n",
      "0              -6.028427      -4.276440     -29.285618      -0.298540\n",
      "19             -1.736104      -1.984911      -2.795022      -0.306199\n",
      "20             -1.876560      -1.848874      -4.240559      -0.305760\n",
      "21             -1.943674      -1.695161      -5.339534      -0.141087\n",
      "22             -2.140758      -1.915236      -5.771288      -0.249748\n",
      "23             -2.266601      -1.890970      -7.045418      -0.192032\n",
      "24             -2.812070      -2.596523      -9.274298      -0.269348\n",
      "25             -2.981935      -2.518354     -10.675904      -0.221324\n",
      "26             -3.288460      -2.939654     -11.648501      -0.254289\n",
      "27             -3.720968      -3.152549     -12.362366      -0.235633\n",
      "28             -3.829241      -3.114490     -12.920822      -0.205887\n",
      "29             -4.257050      -3.603982     -15.544842      -0.168757\n",
      "30             -4.646683      -3.892019     -14.682607      -0.226501\n",
      "31             -4.527994      -3.568560     -16.641184      -0.066141\n",
      "32             -4.755568      -3.933650     -16.683030      -0.066413\n",
      "33             -5.119603      -3.902146     -18.184200      -0.128638\n",
      "34             -5.434861      -4.384203     -18.391014      -0.109463\n",
      "35             -5.777758      -4.404135     -20.884139      -0.249062\n",
      "36             -6.226778      -4.917919     -23.112743      -0.103361\n",
      "37             -5.969684      -4.931381     -22.156130      -0.166130\n",
      "38             -6.320720      -4.903552     -24.510256      -0.202712\n",
      "39             -6.593327      -5.096844     -26.747507      -0.238150\n",
      "40             -6.425437      -4.654588     -25.555468      -0.147968\n",
      "41             -6.667430      -5.091937     -25.089888      -0.216711\n",
      "42             -7.652520      -6.061399     -29.970684      -0.198975\n",
      "43             -6.829175      -4.829809     -27.657277      -0.091837\n",
      "44             -7.710617      -5.218765     -30.238900      -0.151988\n",
      "45             -7.647417      -5.934655     -27.835666      -0.240770\n",
      "46             -7.855102      -5.555883     -34.263886      -0.227427\n",
      "47             -8.118889      -5.582065     -36.193110      -0.082727\n",
      "48             -7.940267      -6.132203     -34.962679      -0.229235\n",
      "49             -8.484773      -6.510123     -33.975982      -0.129068\n",
      "50             -8.483336      -6.032947     -37.600613      -0.207938\n",
      "51             -8.357072      -5.650256     -36.875959      -0.274290\n",
      "52             -8.938986      -6.407455     -34.485652      -0.159662\n",
      "53             -8.988510      -6.171335     -39.016253      -0.244284\n",
      "54             -8.164290      -5.755207     -35.723485      -0.293646\n",
      "55             -9.801479      -7.254936     -41.312921      -0.256841\n",
      "56             -8.962213      -6.178670     -41.828880      -0.223484\n",
      "57             -9.414903      -5.315529     -41.624746      -0.324346\n",
      "58             -8.956514      -6.221927     -39.953842      -0.338963\n",
      "59            -10.590322      -7.467826     -44.560821      -0.284844\n",
      "60            -10.383553      -7.512472     -45.461569      -0.436009\n",
      "61            -11.051142      -7.991459     -50.380685      -0.366958\n",
      "62             -8.298967      -6.318902     -38.118948      -0.274820\n",
      "63            -12.016089      -8.594867     -39.401495      -1.276702\n",
      "64            -11.083179      -5.795759     -44.163528      -0.458420\n",
      "65            -11.121412      -9.026185     -42.219290      -0.312460\n",
      "66            -10.684755      -7.754415     -33.939850      -0.322139\n",
      "67             -9.901584      -5.328141     -39.506864      -0.587244\n",
      "68            -12.469699     -10.517377     -40.405172      -2.662089\n",
      "69            -10.344958      -8.773093     -20.534819      -3.351114\n",
      "70            -12.784051      -9.381448     -38.146233      -1.333321\n",
      "71             -7.602364      -4.123080     -21.698856      -2.002396\n",
      "72            -18.092932     -23.604154     -27.654407      -3.020235\n",
      "73             -9.395084      -9.395084      -9.395084      -9.395084\n",
      "74            -11.523973     -11.523973     -18.309227      -4.738719\n",
      "75             -4.599917      -4.599917      -4.599917      -4.599917\n"
     ]
    }
   ],
   "source": [
    "# impresión datos\n",
    "print(table_years_negative)"
   ]
  },
  {
   "cell_type": "markdown",
   "metadata": {},
   "source": [
    "De forma general, vemos que hay bastantes datos que llegan al medio año o 1 año como valor mínimo (en este caso máximo porque aún siguen en negativo), por lo que se cree que estos datos están correctos, ya que los valores máximos (en este caso mínimos), corresponden con la edad que tienen los clientes. \n",
    "\n",
    "- Ejemplo: si una persona tiene 43 años, el cliente con los años trabajados más grande es 27, y eso quiere decir que la edad que inició el trabajo es 16. Por lo tanto, se cree que si hay personas que han iniciado su trabajo muy tarde. "
   ]
  },
  {
   "cell_type": "markdown",
   "metadata": {},
   "source": [
    "Ahora verifiquemos la información de los valores positivos:"
   ]
  },
  {
   "cell_type": "code",
   "execution_count": 45,
   "metadata": {},
   "outputs": [],
   "source": [
    "# pivot_table de dob_years y years_employed\n",
    "table_years_positive = pd.pivot_table(positive_years, \n",
    "                                      values=\"years_employed\", \n",
    "                                      index=\"dob_years\", \n",
    "                                      aggfunc=[\"mean\", \"median\", \"min\", \"max\"])"
   ]
  },
  {
   "cell_type": "code",
   "execution_count": 46,
   "metadata": {},
   "outputs": [
    {
     "name": "stdout",
     "output_type": "stream",
     "text": [
      "                    mean         median            min            max\n",
      "          years_employed years_employed years_employed years_employed\n",
      "dob_years                                                            \n",
      "0             993.253466    1002.925427     908.379592    1098.609249\n",
      "22            917.162356     917.162356     917.162356     917.162356\n",
      "26           1032.527897    1032.527897     998.214239    1066.841555\n",
      "27            991.870679    1032.396126     903.511521    1039.704390\n",
      "28            959.837699     959.837699     959.837699     959.837699\n",
      "31            924.724567     924.724567     924.724567     924.724567\n",
      "32            929.768748     921.132558     900.896837     967.276850\n",
      "33           1001.779458    1001.779458     913.408222    1090.150694\n",
      "34           1057.594568    1073.866504    1009.742494    1089.174705\n",
      "35            985.034508     985.034508     985.034508     985.034508\n",
      "36           1005.396114    1011.787284     970.951720    1033.449339\n",
      "37            987.317113     974.165604     928.601758    1051.595190\n",
      "38           1000.130940     981.088446     918.325169    1082.052818\n",
      "39           1033.035571    1022.233017     993.812008    1093.864243\n",
      "40           1011.929159    1015.331358     912.804534    1090.977074\n",
      "41            999.401767    1001.658971     900.643627    1086.704052\n",
      "42            994.289068     958.975946     921.508171    1097.407667\n",
      "43            982.974045     954.864439     919.572972    1085.910337\n",
      "44            991.342262     996.929862     901.127659    1069.963663\n",
      "45           1004.822854    1022.520888     913.532794    1089.510972\n",
      "46           1020.603645    1030.235091     903.348617    1097.414297\n",
      "47           1007.187961    1006.787403     915.202207    1097.373723\n",
      "48           1035.848675    1037.676096     967.749618    1094.685269\n",
      "49            994.872411     992.660068     905.395271    1098.504789\n",
      "50            994.094476     984.053771     901.752352    1099.147719\n",
      "51            984.878960     977.008740     900.937986    1094.587873\n",
      "52            997.606032     989.837233     906.542098    1099.675989\n",
      "53            992.129121     980.319171     902.632718    1098.686692\n",
      "54            999.790062    1000.047122     901.025399    1100.202480\n",
      "55           1003.062526    1005.276696     900.915820    1100.206018\n",
      "56           1002.788102    1004.543361     900.743401    1100.699727\n",
      "57           1002.721468     999.468611     901.160132    1100.066463\n",
      "58            997.463583    1001.411431     901.084555    1100.247814\n",
      "59            999.576598    1003.427160     901.508012    1100.313632\n",
      "60            997.899477     997.838724     901.120604    1100.477991\n",
      "61            996.009151     992.510053     901.353600    1100.479708\n",
      "62           1001.648760    1001.820247     900.810210    1099.837902\n",
      "63           1001.734748    1002.794951     903.285886    1100.327762\n",
      "64           1000.851700    1004.430130     902.792547    1099.963580\n",
      "65           1004.468004    1003.400880     903.118978    1099.512232\n",
      "66           1005.724601    1017.146741     901.495817    1099.577881\n",
      "67            994.052109     988.367569     905.407856    1099.667317\n",
      "68           1005.999759    1013.569446     902.499318    1100.155489\n",
      "69           1001.342669     997.773713     902.929585    1100.591265\n",
      "70            998.639029    1002.486665     904.608220    1099.538819\n",
      "71           1005.820817     997.958273     902.511984    1095.167288\n",
      "72           1008.679133    1016.361252     900.626632    1095.913844\n",
      "73           1001.601810    1003.652189     922.596809    1094.695569\n",
      "74            985.728393     982.856082     935.693496    1041.507910\n"
     ]
    }
   ],
   "source": [
    "# impresión datos\n",
    "print(table_years_positive)"
   ]
  },
  {
   "cell_type": "markdown",
   "metadata": {},
   "source": [
    "Claramente los datos positivos están erroneos. Es importante corregir esto, antes de transformar los valores negativos a positivos. \n",
    "\n",
    "Para esto, se procede a realizar otro pivot_table de los negativos, en base a la categorización de las columnas `education` y `family_status` para así poder reemplazar con la media o mediana de forma condicionada:"
   ]
  },
  {
   "cell_type": "code",
   "execution_count": 47,
   "metadata": {},
   "outputs": [],
   "source": [
    "# pivot_table de negative_years con valores de years_employed y varias columnas\n",
    "table_years_negative = pd.pivot_table(negative_years, \n",
    "                                      values=\"years_employed\", \n",
    "                                      index=[\"dob_years\", \"education\", \"family_status\"], \n",
    "                                      aggfunc=[\"median\", \"mean\"])"
   ]
  },
  {
   "cell_type": "code",
   "execution_count": 48,
   "metadata": {},
   "outputs": [
    {
     "data": {
      "text/html": [
       "<div>\n",
       "<style scoped>\n",
       "    .dataframe tbody tr th:only-of-type {\n",
       "        vertical-align: middle;\n",
       "    }\n",
       "\n",
       "    .dataframe tbody tr th {\n",
       "        vertical-align: top;\n",
       "    }\n",
       "\n",
       "    .dataframe thead tr th {\n",
       "        text-align: left;\n",
       "    }\n",
       "\n",
       "    .dataframe thead tr:last-of-type th {\n",
       "        text-align: right;\n",
       "    }\n",
       "</style>\n",
       "<table border=\"1\" class=\"dataframe\">\n",
       "  <thead>\n",
       "    <tr>\n",
       "      <th></th>\n",
       "      <th></th>\n",
       "      <th></th>\n",
       "      <th>median</th>\n",
       "      <th>mean</th>\n",
       "    </tr>\n",
       "    <tr>\n",
       "      <th></th>\n",
       "      <th></th>\n",
       "      <th></th>\n",
       "      <th>years_employed</th>\n",
       "      <th>years_employed</th>\n",
       "    </tr>\n",
       "    <tr>\n",
       "      <th>dob_years</th>\n",
       "      <th>education</th>\n",
       "      <th>family_status</th>\n",
       "      <th></th>\n",
       "      <th></th>\n",
       "    </tr>\n",
       "  </thead>\n",
       "  <tbody>\n",
       "    <tr>\n",
       "      <th rowspan=\"9\" valign=\"top\">0</th>\n",
       "      <th rowspan=\"4\" valign=\"top\">bachelor's degree</th>\n",
       "      <th>civil partnership</th>\n",
       "      <td>-4.819282</td>\n",
       "      <td>-6.353522</td>\n",
       "    </tr>\n",
       "    <tr>\n",
       "      <th>divorced</th>\n",
       "      <td>-4.237578</td>\n",
       "      <td>-8.123504</td>\n",
       "    </tr>\n",
       "    <tr>\n",
       "      <th>married</th>\n",
       "      <td>-4.601307</td>\n",
       "      <td>-5.791261</td>\n",
       "    </tr>\n",
       "    <tr>\n",
       "      <th>unmarried</th>\n",
       "      <td>-4.250357</td>\n",
       "      <td>-6.128044</td>\n",
       "    </tr>\n",
       "    <tr>\n",
       "      <th rowspan=\"4\" valign=\"top\">secondary education</th>\n",
       "      <th>civil partnership</th>\n",
       "      <td>-2.501790</td>\n",
       "      <td>-5.091108</td>\n",
       "    </tr>\n",
       "    <tr>\n",
       "      <th>divorced</th>\n",
       "      <td>-8.511494</td>\n",
       "      <td>-8.158634</td>\n",
       "    </tr>\n",
       "    <tr>\n",
       "      <th>married</th>\n",
       "      <td>-4.306992</td>\n",
       "      <td>-6.524935</td>\n",
       "    </tr>\n",
       "    <tr>\n",
       "      <th>unmarried</th>\n",
       "      <td>-3.444036</td>\n",
       "      <td>-4.090620</td>\n",
       "    </tr>\n",
       "    <tr>\n",
       "      <th>some college</th>\n",
       "      <th>civil partnership</th>\n",
       "      <td>-0.663976</td>\n",
       "      <td>-0.663976</td>\n",
       "    </tr>\n",
       "    <tr>\n",
       "      <th rowspan=\"6\" valign=\"top\">19</th>\n",
       "      <th rowspan=\"3\" valign=\"top\">secondary education</th>\n",
       "      <th>civil partnership</th>\n",
       "      <td>-0.594228</td>\n",
       "      <td>-0.594228</td>\n",
       "    </tr>\n",
       "    <tr>\n",
       "      <th>married</th>\n",
       "      <td>-2.124618</td>\n",
       "      <td>-2.124618</td>\n",
       "    </tr>\n",
       "    <tr>\n",
       "      <th>unmarried</th>\n",
       "      <td>-1.754221</td>\n",
       "      <td>-1.655233</td>\n",
       "    </tr>\n",
       "    <tr>\n",
       "      <th rowspan=\"3\" valign=\"top\">some college</th>\n",
       "      <th>civil partnership</th>\n",
       "      <td>-2.597879</td>\n",
       "      <td>-2.597879</td>\n",
       "    </tr>\n",
       "    <tr>\n",
       "      <th>married</th>\n",
       "      <td>-2.183517</td>\n",
       "      <td>-2.183517</td>\n",
       "    </tr>\n",
       "    <tr>\n",
       "      <th>unmarried</th>\n",
       "      <td>-1.906764</td>\n",
       "      <td>-1.909778</td>\n",
       "    </tr>\n",
       "    <tr>\n",
       "      <th rowspan=\"5\" valign=\"top\">20</th>\n",
       "      <th rowspan=\"3\" valign=\"top\">bachelor's degree</th>\n",
       "      <th>civil partnership</th>\n",
       "      <td>-1.622105</td>\n",
       "      <td>-1.622105</td>\n",
       "    </tr>\n",
       "    <tr>\n",
       "      <th>married</th>\n",
       "      <td>-2.437520</td>\n",
       "      <td>-2.437520</td>\n",
       "    </tr>\n",
       "    <tr>\n",
       "      <th>unmarried</th>\n",
       "      <td>-1.353504</td>\n",
       "      <td>-1.538047</td>\n",
       "    </tr>\n",
       "    <tr>\n",
       "      <th rowspan=\"2\" valign=\"top\">secondary education</th>\n",
       "      <th>civil partnership</th>\n",
       "      <td>-1.787275</td>\n",
       "      <td>-1.680105</td>\n",
       "    </tr>\n",
       "    <tr>\n",
       "      <th>divorced</th>\n",
       "      <td>-3.579166</td>\n",
       "      <td>-3.579166</td>\n",
       "    </tr>\n",
       "  </tbody>\n",
       "</table>\n",
       "</div>"
      ],
      "text/plain": [
       "                                                        median           mean\n",
       "                                                years_employed years_employed\n",
       "dob_years education           family_status                                  \n",
       "0         bachelor's degree   civil partnership      -4.819282      -6.353522\n",
       "                              divorced               -4.237578      -8.123504\n",
       "                              married                -4.601307      -5.791261\n",
       "                              unmarried              -4.250357      -6.128044\n",
       "          secondary education civil partnership      -2.501790      -5.091108\n",
       "                              divorced               -8.511494      -8.158634\n",
       "                              married                -4.306992      -6.524935\n",
       "                              unmarried              -3.444036      -4.090620\n",
       "          some college        civil partnership      -0.663976      -0.663976\n",
       "19        secondary education civil partnership      -0.594228      -0.594228\n",
       "                              married                -2.124618      -2.124618\n",
       "                              unmarried              -1.754221      -1.655233\n",
       "          some college        civil partnership      -2.597879      -2.597879\n",
       "                              married                -2.183517      -2.183517\n",
       "                              unmarried              -1.906764      -1.909778\n",
       "20        bachelor's degree   civil partnership      -1.622105      -1.622105\n",
       "                              married                -2.437520      -2.437520\n",
       "                              unmarried              -1.353504      -1.538047\n",
       "          secondary education civil partnership      -1.787275      -1.680105\n",
       "                              divorced               -3.579166      -3.579166"
      ]
     },
     "execution_count": 48,
     "metadata": {},
     "output_type": "execute_result"
    }
   ],
   "source": [
    "# Verificación de nueva información\n",
    "table_years_negative.head(20)"
   ]
  },
  {
   "cell_type": "markdown",
   "metadata": {},
   "source": [
    "Vemos que la diferencia es significativa entre la media y mediana, sin embargo, vimos antes que entre en cada edad hay una diferencia grande entre los años que trabajan las personas. Por lo tanto, es mejor utilizar la mediana.  "
   ]
  },
  {
   "cell_type": "code",
   "execution_count": 49,
   "metadata": {},
   "outputs": [
    {
     "data": {
      "text/html": [
       "<div>\n",
       "<style scoped>\n",
       "    .dataframe tbody tr th:only-of-type {\n",
       "        vertical-align: middle;\n",
       "    }\n",
       "\n",
       "    .dataframe tbody tr th {\n",
       "        vertical-align: top;\n",
       "    }\n",
       "\n",
       "    .dataframe thead th {\n",
       "        text-align: right;\n",
       "    }\n",
       "</style>\n",
       "<table border=\"1\" class=\"dataframe\">\n",
       "  <thead>\n",
       "    <tr style=\"text-align: right;\">\n",
       "      <th></th>\n",
       "      <th></th>\n",
       "      <th></th>\n",
       "      <th>years_employed</th>\n",
       "    </tr>\n",
       "    <tr>\n",
       "      <th>dob_years</th>\n",
       "      <th>education</th>\n",
       "      <th>family_status</th>\n",
       "      <th></th>\n",
       "    </tr>\n",
       "  </thead>\n",
       "  <tbody>\n",
       "    <tr>\n",
       "      <th rowspan=\"9\" valign=\"top\">0</th>\n",
       "      <th rowspan=\"4\" valign=\"top\">bachelor's degree</th>\n",
       "      <th>civil partnership</th>\n",
       "      <td>-4.819282</td>\n",
       "    </tr>\n",
       "    <tr>\n",
       "      <th>divorced</th>\n",
       "      <td>-4.237578</td>\n",
       "    </tr>\n",
       "    <tr>\n",
       "      <th>married</th>\n",
       "      <td>-4.601307</td>\n",
       "    </tr>\n",
       "    <tr>\n",
       "      <th>unmarried</th>\n",
       "      <td>-4.250357</td>\n",
       "    </tr>\n",
       "    <tr>\n",
       "      <th rowspan=\"4\" valign=\"top\">secondary education</th>\n",
       "      <th>civil partnership</th>\n",
       "      <td>-2.501790</td>\n",
       "    </tr>\n",
       "    <tr>\n",
       "      <th>divorced</th>\n",
       "      <td>-8.511494</td>\n",
       "    </tr>\n",
       "    <tr>\n",
       "      <th>married</th>\n",
       "      <td>-4.306992</td>\n",
       "    </tr>\n",
       "    <tr>\n",
       "      <th>unmarried</th>\n",
       "      <td>-3.444036</td>\n",
       "    </tr>\n",
       "    <tr>\n",
       "      <th>some college</th>\n",
       "      <th>civil partnership</th>\n",
       "      <td>-0.663976</td>\n",
       "    </tr>\n",
       "    <tr>\n",
       "      <th rowspan=\"6\" valign=\"top\">19</th>\n",
       "      <th rowspan=\"3\" valign=\"top\">secondary education</th>\n",
       "      <th>civil partnership</th>\n",
       "      <td>-0.594228</td>\n",
       "    </tr>\n",
       "    <tr>\n",
       "      <th>married</th>\n",
       "      <td>-2.124618</td>\n",
       "    </tr>\n",
       "    <tr>\n",
       "      <th>unmarried</th>\n",
       "      <td>-1.754221</td>\n",
       "    </tr>\n",
       "    <tr>\n",
       "      <th rowspan=\"3\" valign=\"top\">some college</th>\n",
       "      <th>civil partnership</th>\n",
       "      <td>-2.597879</td>\n",
       "    </tr>\n",
       "    <tr>\n",
       "      <th>married</th>\n",
       "      <td>-2.183517</td>\n",
       "    </tr>\n",
       "    <tr>\n",
       "      <th>unmarried</th>\n",
       "      <td>-1.906764</td>\n",
       "    </tr>\n",
       "    <tr>\n",
       "      <th rowspan=\"5\" valign=\"top\">20</th>\n",
       "      <th rowspan=\"3\" valign=\"top\">bachelor's degree</th>\n",
       "      <th>civil partnership</th>\n",
       "      <td>-1.622105</td>\n",
       "    </tr>\n",
       "    <tr>\n",
       "      <th>married</th>\n",
       "      <td>-2.437520</td>\n",
       "    </tr>\n",
       "    <tr>\n",
       "      <th>unmarried</th>\n",
       "      <td>-1.353504</td>\n",
       "    </tr>\n",
       "    <tr>\n",
       "      <th rowspan=\"2\" valign=\"top\">secondary education</th>\n",
       "      <th>civil partnership</th>\n",
       "      <td>-1.787275</td>\n",
       "    </tr>\n",
       "    <tr>\n",
       "      <th>divorced</th>\n",
       "      <td>-3.579166</td>\n",
       "    </tr>\n",
       "  </tbody>\n",
       "</table>\n",
       "</div>"
      ],
      "text/plain": [
       "                                                 years_employed\n",
       "dob_years education           family_status                    \n",
       "0         bachelor's degree   civil partnership       -4.819282\n",
       "                              divorced                -4.237578\n",
       "                              married                 -4.601307\n",
       "                              unmarried               -4.250357\n",
       "          secondary education civil partnership       -2.501790\n",
       "                              divorced                -8.511494\n",
       "                              married                 -4.306992\n",
       "                              unmarried               -3.444036\n",
       "          some college        civil partnership       -0.663976\n",
       "19        secondary education civil partnership       -0.594228\n",
       "                              married                 -2.124618\n",
       "                              unmarried               -1.754221\n",
       "          some college        civil partnership       -2.597879\n",
       "                              married                 -2.183517\n",
       "                              unmarried               -1.906764\n",
       "20        bachelor's degree   civil partnership       -1.622105\n",
       "                              married                 -2.437520\n",
       "                              unmarried               -1.353504\n",
       "          secondary education civil partnership       -1.787275\n",
       "                              divorced                -3.579166"
      ]
     },
     "execution_count": 49,
     "metadata": {},
     "output_type": "execute_result"
    }
   ],
   "source": [
    "# pivot_table de negative_years con valores de years_employed y varias columnas\n",
    "table_years_negative = pd.pivot_table(negative_years, \n",
    "                                      values=\"years_employed\", \n",
    "                                      index=[\"dob_years\", \"education\", \"family_status\"], \n",
    "                                      aggfunc=\"median\")\n",
    "table_years_negative.head(20)"
   ]
  },
  {
   "cell_type": "markdown",
   "metadata": {},
   "source": [
    "Verificamos que si depende los años trabajados según la edad, el tipo de estudio y el estatus familiar. Por lo tanto, se reemplazará los valores positivos con la mediana de estos valores negativos. Posteriormente, se transformará todo a positivo.\n",
    "\n",
    "Para esto, se debe setear como índice `dob_years`, `education` y `family_status`."
   ]
  },
  {
   "cell_type": "code",
   "execution_count": 50,
   "metadata": {},
   "outputs": [],
   "source": [
    "# índice\n",
    "data = data.set_index([\"dob_years\", \"education\", \"family_status\"])"
   ]
  },
  {
   "cell_type": "code",
   "execution_count": 51,
   "metadata": {},
   "outputs": [
    {
     "data": {
      "text/html": [
       "<div>\n",
       "<style scoped>\n",
       "    .dataframe tbody tr th:only-of-type {\n",
       "        vertical-align: middle;\n",
       "    }\n",
       "\n",
       "    .dataframe tbody tr th {\n",
       "        vertical-align: top;\n",
       "    }\n",
       "\n",
       "    .dataframe thead th {\n",
       "        text-align: right;\n",
       "    }\n",
       "</style>\n",
       "<table border=\"1\" class=\"dataframe\">\n",
       "  <thead>\n",
       "    <tr style=\"text-align: right;\">\n",
       "      <th></th>\n",
       "      <th></th>\n",
       "      <th></th>\n",
       "      <th>children</th>\n",
       "      <th>education_id</th>\n",
       "      <th>family_status_id</th>\n",
       "      <th>gender</th>\n",
       "      <th>income_type</th>\n",
       "      <th>debt</th>\n",
       "      <th>total_income</th>\n",
       "      <th>purpose</th>\n",
       "      <th>years_employed</th>\n",
       "    </tr>\n",
       "    <tr>\n",
       "      <th>dob_years</th>\n",
       "      <th>education</th>\n",
       "      <th>family_status</th>\n",
       "      <th></th>\n",
       "      <th></th>\n",
       "      <th></th>\n",
       "      <th></th>\n",
       "      <th></th>\n",
       "      <th></th>\n",
       "      <th></th>\n",
       "      <th></th>\n",
       "      <th></th>\n",
       "    </tr>\n",
       "  </thead>\n",
       "  <tbody>\n",
       "    <tr>\n",
       "      <th>42</th>\n",
       "      <th>bachelor's degree</th>\n",
       "      <th>married</th>\n",
       "      <td>1</td>\n",
       "      <td>0</td>\n",
       "      <td>0</td>\n",
       "      <td>F</td>\n",
       "      <td>employee</td>\n",
       "      <td>0</td>\n",
       "      <td>40620.102</td>\n",
       "      <td>purchase of the house</td>\n",
       "      <td>-23.116912</td>\n",
       "    </tr>\n",
       "    <tr>\n",
       "      <th>36</th>\n",
       "      <th>secondary education</th>\n",
       "      <th>married</th>\n",
       "      <td>1</td>\n",
       "      <td>1</td>\n",
       "      <td>0</td>\n",
       "      <td>F</td>\n",
       "      <td>employee</td>\n",
       "      <td>0</td>\n",
       "      <td>17932.802</td>\n",
       "      <td>car purchase</td>\n",
       "      <td>-11.026860</td>\n",
       "    </tr>\n",
       "    <tr>\n",
       "      <th>33</th>\n",
       "      <th>secondary education</th>\n",
       "      <th>married</th>\n",
       "      <td>0</td>\n",
       "      <td>1</td>\n",
       "      <td>0</td>\n",
       "      <td>M</td>\n",
       "      <td>employee</td>\n",
       "      <td>0</td>\n",
       "      <td>23341.752</td>\n",
       "      <td>purchase of the house</td>\n",
       "      <td>-15.406637</td>\n",
       "    </tr>\n",
       "    <tr>\n",
       "      <th>32</th>\n",
       "      <th>secondary education</th>\n",
       "      <th>married</th>\n",
       "      <td>3</td>\n",
       "      <td>1</td>\n",
       "      <td>0</td>\n",
       "      <td>M</td>\n",
       "      <td>employee</td>\n",
       "      <td>0</td>\n",
       "      <td>42820.568</td>\n",
       "      <td>supplementary education</td>\n",
       "      <td>-11.300677</td>\n",
       "    </tr>\n",
       "    <tr>\n",
       "      <th>53</th>\n",
       "      <th>secondary education</th>\n",
       "      <th>civil partnership</th>\n",
       "      <td>0</td>\n",
       "      <td>1</td>\n",
       "      <td>1</td>\n",
       "      <td>F</td>\n",
       "      <td>retiree</td>\n",
       "      <td>0</td>\n",
       "      <td>25378.572</td>\n",
       "      <td>to have a wedding</td>\n",
       "      <td>932.235814</td>\n",
       "    </tr>\n",
       "  </tbody>\n",
       "</table>\n",
       "</div>"
      ],
      "text/plain": [
       "                                                 children  education_id  \\\n",
       "dob_years education           family_status                               \n",
       "42        bachelor's degree   married                   1             0   \n",
       "36        secondary education married                   1             1   \n",
       "33        secondary education married                   0             1   \n",
       "32        secondary education married                   3             1   \n",
       "53        secondary education civil partnership         0             1   \n",
       "\n",
       "                                                 family_status_id gender  \\\n",
       "dob_years education           family_status                                \n",
       "42        bachelor's degree   married                           0      F   \n",
       "36        secondary education married                           0      F   \n",
       "33        secondary education married                           0      M   \n",
       "32        secondary education married                           0      M   \n",
       "53        secondary education civil partnership                 1      F   \n",
       "\n",
       "                                                income_type  debt  \\\n",
       "dob_years education           family_status                         \n",
       "42        bachelor's degree   married              employee     0   \n",
       "36        secondary education married              employee     0   \n",
       "33        secondary education married              employee     0   \n",
       "32        secondary education married              employee     0   \n",
       "53        secondary education civil partnership     retiree     0   \n",
       "\n",
       "                                                 total_income  \\\n",
       "dob_years education           family_status                     \n",
       "42        bachelor's degree   married               40620.102   \n",
       "36        secondary education married               17932.802   \n",
       "33        secondary education married               23341.752   \n",
       "32        secondary education married               42820.568   \n",
       "53        secondary education civil partnership     25378.572   \n",
       "\n",
       "                                                                 purpose  \\\n",
       "dob_years education           family_status                                \n",
       "42        bachelor's degree   married              purchase of the house   \n",
       "36        secondary education married                       car purchase   \n",
       "33        secondary education married              purchase of the house   \n",
       "32        secondary education married            supplementary education   \n",
       "53        secondary education civil partnership        to have a wedding   \n",
       "\n",
       "                                                 years_employed  \n",
       "dob_years education           family_status                      \n",
       "42        bachelor's degree   married                -23.116912  \n",
       "36        secondary education married                -11.026860  \n",
       "33        secondary education married                -15.406637  \n",
       "32        secondary education married                -11.300677  \n",
       "53        secondary education civil partnership      932.235814  "
      ]
     },
     "execution_count": 51,
     "metadata": {},
     "output_type": "execute_result"
    }
   ],
   "source": [
    "# datos iniciales\n",
    "data.head()"
   ]
  },
  {
   "cell_type": "markdown",
   "metadata": {},
   "source": [
    "Se agrega la columna `years_employed_mean` el cual son los promedios de cada año de trabajo, tipo de educación y estatus de familia."
   ]
  },
  {
   "cell_type": "code",
   "execution_count": 52,
   "metadata": {},
   "outputs": [
    {
     "data": {
      "text/html": [
       "<div>\n",
       "<style scoped>\n",
       "    .dataframe tbody tr th:only-of-type {\n",
       "        vertical-align: middle;\n",
       "    }\n",
       "\n",
       "    .dataframe tbody tr th {\n",
       "        vertical-align: top;\n",
       "    }\n",
       "\n",
       "    .dataframe thead th {\n",
       "        text-align: right;\n",
       "    }\n",
       "</style>\n",
       "<table border=\"1\" class=\"dataframe\">\n",
       "  <thead>\n",
       "    <tr style=\"text-align: right;\">\n",
       "      <th></th>\n",
       "      <th></th>\n",
       "      <th></th>\n",
       "      <th>children</th>\n",
       "      <th>education_id</th>\n",
       "      <th>family_status_id</th>\n",
       "      <th>gender</th>\n",
       "      <th>income_type</th>\n",
       "      <th>debt</th>\n",
       "      <th>total_income</th>\n",
       "      <th>purpose</th>\n",
       "      <th>years_employed</th>\n",
       "      <th>years_employed_mean</th>\n",
       "    </tr>\n",
       "    <tr>\n",
       "      <th>dob_years</th>\n",
       "      <th>education</th>\n",
       "      <th>family_status</th>\n",
       "      <th></th>\n",
       "      <th></th>\n",
       "      <th></th>\n",
       "      <th></th>\n",
       "      <th></th>\n",
       "      <th></th>\n",
       "      <th></th>\n",
       "      <th></th>\n",
       "      <th></th>\n",
       "      <th></th>\n",
       "    </tr>\n",
       "  </thead>\n",
       "  <tbody>\n",
       "    <tr>\n",
       "      <th>42</th>\n",
       "      <th>bachelor's degree</th>\n",
       "      <th>married</th>\n",
       "      <td>1</td>\n",
       "      <td>0</td>\n",
       "      <td>0</td>\n",
       "      <td>F</td>\n",
       "      <td>employee</td>\n",
       "      <td>0</td>\n",
       "      <td>40620.102</td>\n",
       "      <td>purchase of the house</td>\n",
       "      <td>-23.116912</td>\n",
       "      <td>-6.966121</td>\n",
       "    </tr>\n",
       "    <tr>\n",
       "      <th>36</th>\n",
       "      <th>secondary education</th>\n",
       "      <th>married</th>\n",
       "      <td>1</td>\n",
       "      <td>1</td>\n",
       "      <td>0</td>\n",
       "      <td>F</td>\n",
       "      <td>employee</td>\n",
       "      <td>0</td>\n",
       "      <td>17932.802</td>\n",
       "      <td>car purchase</td>\n",
       "      <td>-11.026860</td>\n",
       "      <td>-5.541782</td>\n",
       "    </tr>\n",
       "    <tr>\n",
       "      <th>33</th>\n",
       "      <th>secondary education</th>\n",
       "      <th>married</th>\n",
       "      <td>0</td>\n",
       "      <td>1</td>\n",
       "      <td>0</td>\n",
       "      <td>M</td>\n",
       "      <td>employee</td>\n",
       "      <td>0</td>\n",
       "      <td>23341.752</td>\n",
       "      <td>purchase of the house</td>\n",
       "      <td>-15.406637</td>\n",
       "      <td>-3.866100</td>\n",
       "    </tr>\n",
       "    <tr>\n",
       "      <th>32</th>\n",
       "      <th>secondary education</th>\n",
       "      <th>married</th>\n",
       "      <td>3</td>\n",
       "      <td>1</td>\n",
       "      <td>0</td>\n",
       "      <td>M</td>\n",
       "      <td>employee</td>\n",
       "      <td>0</td>\n",
       "      <td>42820.568</td>\n",
       "      <td>supplementary education</td>\n",
       "      <td>-11.300677</td>\n",
       "      <td>-3.963349</td>\n",
       "    </tr>\n",
       "    <tr>\n",
       "      <th>53</th>\n",
       "      <th>secondary education</th>\n",
       "      <th>civil partnership</th>\n",
       "      <td>0</td>\n",
       "      <td>1</td>\n",
       "      <td>1</td>\n",
       "      <td>F</td>\n",
       "      <td>retiree</td>\n",
       "      <td>0</td>\n",
       "      <td>25378.572</td>\n",
       "      <td>to have a wedding</td>\n",
       "      <td>932.235814</td>\n",
       "      <td>-6.581900</td>\n",
       "    </tr>\n",
       "  </tbody>\n",
       "</table>\n",
       "</div>"
      ],
      "text/plain": [
       "                                                 children  education_id  \\\n",
       "dob_years education           family_status                               \n",
       "42        bachelor's degree   married                   1             0   \n",
       "36        secondary education married                   1             1   \n",
       "33        secondary education married                   0             1   \n",
       "32        secondary education married                   3             1   \n",
       "53        secondary education civil partnership         0             1   \n",
       "\n",
       "                                                 family_status_id gender  \\\n",
       "dob_years education           family_status                                \n",
       "42        bachelor's degree   married                           0      F   \n",
       "36        secondary education married                           0      F   \n",
       "33        secondary education married                           0      M   \n",
       "32        secondary education married                           0      M   \n",
       "53        secondary education civil partnership                 1      F   \n",
       "\n",
       "                                                income_type  debt  \\\n",
       "dob_years education           family_status                         \n",
       "42        bachelor's degree   married              employee     0   \n",
       "36        secondary education married              employee     0   \n",
       "33        secondary education married              employee     0   \n",
       "32        secondary education married              employee     0   \n",
       "53        secondary education civil partnership     retiree     0   \n",
       "\n",
       "                                                 total_income  \\\n",
       "dob_years education           family_status                     \n",
       "42        bachelor's degree   married               40620.102   \n",
       "36        secondary education married               17932.802   \n",
       "33        secondary education married               23341.752   \n",
       "32        secondary education married               42820.568   \n",
       "53        secondary education civil partnership     25378.572   \n",
       "\n",
       "                                                                 purpose  \\\n",
       "dob_years education           family_status                                \n",
       "42        bachelor's degree   married              purchase of the house   \n",
       "36        secondary education married                       car purchase   \n",
       "33        secondary education married              purchase of the house   \n",
       "32        secondary education married            supplementary education   \n",
       "53        secondary education civil partnership        to have a wedding   \n",
       "\n",
       "                                                 years_employed  \\\n",
       "dob_years education           family_status                       \n",
       "42        bachelor's degree   married                -23.116912   \n",
       "36        secondary education married                -11.026860   \n",
       "33        secondary education married                -15.406637   \n",
       "32        secondary education married                -11.300677   \n",
       "53        secondary education civil partnership      932.235814   \n",
       "\n",
       "                                                 years_employed_mean  \n",
       "dob_years education           family_status                           \n",
       "42        bachelor's degree   married                      -6.966121  \n",
       "36        secondary education married                      -5.541782  \n",
       "33        secondary education married                      -3.866100  \n",
       "32        secondary education married                      -3.963349  \n",
       "53        secondary education civil partnership            -6.581900  "
      ]
     },
     "execution_count": 52,
     "metadata": {},
     "output_type": "execute_result"
    }
   ],
   "source": [
    "# nueva columna `years_employed_mean`\n",
    "data[\"years_employed_mean\"] = table_years_negative[\"years_employed\"]\n",
    "data.head()"
   ]
  },
  {
   "cell_type": "markdown",
   "metadata": {},
   "source": [
    "Ahora se reemplaza los valores positivos con los valores promedios de `years_employed_mean`:"
   ]
  },
  {
   "cell_type": "code",
   "execution_count": 53,
   "metadata": {},
   "outputs": [],
   "source": [
    "# reemplazo de valores positivos a negativos en base a years_employed_mean\n",
    "data['years_employed'] = data.apply(lambda x: x['years_employed_mean'] if x['years_employed']>0 else x['years_employed'], axis=1)"
   ]
  },
  {
   "cell_type": "markdown",
   "metadata": {},
   "source": [
    "Se elimina la columna `years_employed_mean`."
   ]
  },
  {
   "cell_type": "code",
   "execution_count": 54,
   "metadata": {},
   "outputs": [],
   "source": [
    "# eliminar la columna years_employed_mean\n",
    "data.drop(\"years_employed_mean\", axis=1, inplace=True)"
   ]
  },
  {
   "cell_type": "markdown",
   "metadata": {},
   "source": [
    "Y se reinicia el índice para volver las columnas `dob_years`, `education` y `family_status`."
   ]
  },
  {
   "cell_type": "code",
   "execution_count": 55,
   "metadata": {},
   "outputs": [],
   "source": [
    "# resetear el índice de la tabla\n",
    "data.reset_index(inplace=True)"
   ]
  },
  {
   "cell_type": "markdown",
   "metadata": {},
   "source": [
    "Finalmente transformamos toda la columna `years_employed` a positivo:"
   ]
  },
  {
   "cell_type": "code",
   "execution_count": 56,
   "metadata": {},
   "outputs": [],
   "source": [
    "# convertimos todos los datos en positivos con .abs()\n",
    "data[\"years_employed\"] = data[\"years_employed\"].abs()"
   ]
  },
  {
   "cell_type": "markdown",
   "metadata": {},
   "source": [
    "Verificamos los datos estadísticos de la columna:"
   ]
  },
  {
   "cell_type": "code",
   "execution_count": 57,
   "metadata": {},
   "outputs": [
    {
     "data": {
      "text/plain": [
       "count    19103.000000\n",
       "mean         6.582274\n",
       "std          6.001968\n",
       "min          0.066141\n",
       "25%          2.496998\n",
       "50%          5.129869\n",
       "75%          8.354350\n",
       "max         50.380685\n",
       "Name: years_employed, dtype: float64"
      ]
     },
     "execution_count": 57,
     "metadata": {},
     "output_type": "execute_result"
    }
   ],
   "source": [
    "# resumen estadístico\n",
    "data[\"years_employed\"].describe()"
   ]
  },
  {
   "cell_type": "markdown",
   "metadata": {},
   "source": [
    "Ahora sí, actualizamos la información de `data_dy_0`:"
   ]
  },
  {
   "cell_type": "code",
   "execution_count": 58,
   "metadata": {},
   "outputs": [
    {
     "data": {
      "text/html": [
       "<div>\n",
       "<style scoped>\n",
       "    .dataframe tbody tr th:only-of-type {\n",
       "        vertical-align: middle;\n",
       "    }\n",
       "\n",
       "    .dataframe tbody tr th {\n",
       "        vertical-align: top;\n",
       "    }\n",
       "\n",
       "    .dataframe thead th {\n",
       "        text-align: right;\n",
       "    }\n",
       "</style>\n",
       "<table border=\"1\" class=\"dataframe\">\n",
       "  <thead>\n",
       "    <tr style=\"text-align: right;\">\n",
       "      <th></th>\n",
       "      <th>dob_years</th>\n",
       "      <th>children</th>\n",
       "      <th>education_id</th>\n",
       "      <th>family_status_id</th>\n",
       "      <th>debt</th>\n",
       "      <th>total_income</th>\n",
       "      <th>years_employed</th>\n",
       "    </tr>\n",
       "  </thead>\n",
       "  <tbody>\n",
       "    <tr>\n",
       "      <th>count</th>\n",
       "      <td>101.0</td>\n",
       "      <td>101.000000</td>\n",
       "      <td>101.000000</td>\n",
       "      <td>101.000000</td>\n",
       "      <td>101.000000</td>\n",
       "      <td>91.000000</td>\n",
       "      <td>87.000000</td>\n",
       "    </tr>\n",
       "    <tr>\n",
       "      <th>mean</th>\n",
       "      <td>0.0</td>\n",
       "      <td>0.495050</td>\n",
       "      <td>0.673267</td>\n",
       "      <td>1.237624</td>\n",
       "      <td>0.079208</td>\n",
       "      <td>25334.072890</td>\n",
       "      <td>5.801771</td>\n",
       "    </tr>\n",
       "    <tr>\n",
       "      <th>std</th>\n",
       "      <td>0.0</td>\n",
       "      <td>0.807759</td>\n",
       "      <td>0.512033</td>\n",
       "      <td>1.524129</td>\n",
       "      <td>0.271410</td>\n",
       "      <td>11901.096532</td>\n",
       "      <td>5.558628</td>\n",
       "    </tr>\n",
       "    <tr>\n",
       "      <th>min</th>\n",
       "      <td>0.0</td>\n",
       "      <td>0.000000</td>\n",
       "      <td>0.000000</td>\n",
       "      <td>0.000000</td>\n",
       "      <td>0.000000</td>\n",
       "      <td>5595.912000</td>\n",
       "      <td>0.298540</td>\n",
       "    </tr>\n",
       "    <tr>\n",
       "      <th>25%</th>\n",
       "      <td>0.0</td>\n",
       "      <td>0.000000</td>\n",
       "      <td>0.000000</td>\n",
       "      <td>0.000000</td>\n",
       "      <td>0.000000</td>\n",
       "      <td>15933.259000</td>\n",
       "      <td>2.577986</td>\n",
       "    </tr>\n",
       "    <tr>\n",
       "      <th>50%</th>\n",
       "      <td>0.0</td>\n",
       "      <td>0.000000</td>\n",
       "      <td>1.000000</td>\n",
       "      <td>1.000000</td>\n",
       "      <td>0.000000</td>\n",
       "      <td>24387.070000</td>\n",
       "      <td>4.306992</td>\n",
       "    </tr>\n",
       "    <tr>\n",
       "      <th>75%</th>\n",
       "      <td>0.0</td>\n",
       "      <td>1.000000</td>\n",
       "      <td>1.000000</td>\n",
       "      <td>3.000000</td>\n",
       "      <td>0.000000</td>\n",
       "      <td>34007.907500</td>\n",
       "      <td>6.767833</td>\n",
       "    </tr>\n",
       "    <tr>\n",
       "      <th>max</th>\n",
       "      <td>0.0</td>\n",
       "      <td>3.000000</td>\n",
       "      <td>2.000000</td>\n",
       "      <td>4.000000</td>\n",
       "      <td>1.000000</td>\n",
       "      <td>61819.782000</td>\n",
       "      <td>29.285618</td>\n",
       "    </tr>\n",
       "  </tbody>\n",
       "</table>\n",
       "</div>"
      ],
      "text/plain": [
       "       dob_years    children  education_id  family_status_id        debt  \\\n",
       "count      101.0  101.000000    101.000000        101.000000  101.000000   \n",
       "mean         0.0    0.495050      0.673267          1.237624    0.079208   \n",
       "std          0.0    0.807759      0.512033          1.524129    0.271410   \n",
       "min          0.0    0.000000      0.000000          0.000000    0.000000   \n",
       "25%          0.0    0.000000      0.000000          0.000000    0.000000   \n",
       "50%          0.0    0.000000      1.000000          1.000000    0.000000   \n",
       "75%          0.0    1.000000      1.000000          3.000000    0.000000   \n",
       "max          0.0    3.000000      2.000000          4.000000    1.000000   \n",
       "\n",
       "       total_income  years_employed  \n",
       "count     91.000000       87.000000  \n",
       "mean   25334.072890        5.801771  \n",
       "std    11901.096532        5.558628  \n",
       "min     5595.912000        0.298540  \n",
       "25%    15933.259000        2.577986  \n",
       "50%    24387.070000        4.306992  \n",
       "75%    34007.907500        6.767833  \n",
       "max    61819.782000       29.285618  "
      ]
     },
     "metadata": {},
     "output_type": "display_data"
    },
    {
     "data": {
      "text/html": [
       "<div>\n",
       "<style scoped>\n",
       "    .dataframe tbody tr th:only-of-type {\n",
       "        vertical-align: middle;\n",
       "    }\n",
       "\n",
       "    .dataframe tbody tr th {\n",
       "        vertical-align: top;\n",
       "    }\n",
       "\n",
       "    .dataframe thead th {\n",
       "        text-align: right;\n",
       "    }\n",
       "</style>\n",
       "<table border=\"1\" class=\"dataframe\">\n",
       "  <thead>\n",
       "    <tr style=\"text-align: right;\">\n",
       "      <th></th>\n",
       "      <th>dob_years</th>\n",
       "      <th>education</th>\n",
       "      <th>family_status</th>\n",
       "      <th>children</th>\n",
       "      <th>education_id</th>\n",
       "      <th>family_status_id</th>\n",
       "      <th>gender</th>\n",
       "      <th>income_type</th>\n",
       "      <th>debt</th>\n",
       "      <th>total_income</th>\n",
       "      <th>purpose</th>\n",
       "      <th>years_employed</th>\n",
       "    </tr>\n",
       "  </thead>\n",
       "  <tbody>\n",
       "    <tr>\n",
       "      <th>99</th>\n",
       "      <td>0</td>\n",
       "      <td>secondary education</td>\n",
       "      <td>married</td>\n",
       "      <td>0</td>\n",
       "      <td>1</td>\n",
       "      <td>0</td>\n",
       "      <td>F</td>\n",
       "      <td>retiree</td>\n",
       "      <td>0</td>\n",
       "      <td>11406.644</td>\n",
       "      <td>car</td>\n",
       "      <td>4.306992</td>\n",
       "    </tr>\n",
       "    <tr>\n",
       "      <th>149</th>\n",
       "      <td>0</td>\n",
       "      <td>secondary education</td>\n",
       "      <td>divorced</td>\n",
       "      <td>0</td>\n",
       "      <td>1</td>\n",
       "      <td>3</td>\n",
       "      <td>F</td>\n",
       "      <td>employee</td>\n",
       "      <td>0</td>\n",
       "      <td>11228.230</td>\n",
       "      <td>housing transactions</td>\n",
       "      <td>7.299379</td>\n",
       "    </tr>\n",
       "    <tr>\n",
       "      <th>270</th>\n",
       "      <td>0</td>\n",
       "      <td>secondary education</td>\n",
       "      <td>married</td>\n",
       "      <td>3</td>\n",
       "      <td>1</td>\n",
       "      <td>0</td>\n",
       "      <td>F</td>\n",
       "      <td>employee</td>\n",
       "      <td>0</td>\n",
       "      <td>16346.633</td>\n",
       "      <td>housing renovation</td>\n",
       "      <td>5.130584</td>\n",
       "    </tr>\n",
       "    <tr>\n",
       "      <th>578</th>\n",
       "      <td>0</td>\n",
       "      <td>secondary education</td>\n",
       "      <td>married</td>\n",
       "      <td>0</td>\n",
       "      <td>1</td>\n",
       "      <td>0</td>\n",
       "      <td>F</td>\n",
       "      <td>retiree</td>\n",
       "      <td>0</td>\n",
       "      <td>15619.310</td>\n",
       "      <td>construction of own property</td>\n",
       "      <td>4.306992</td>\n",
       "    </tr>\n",
       "    <tr>\n",
       "      <th>1040</th>\n",
       "      <td>0</td>\n",
       "      <td>bachelor's degree</td>\n",
       "      <td>divorced</td>\n",
       "      <td>0</td>\n",
       "      <td>0</td>\n",
       "      <td>3</td>\n",
       "      <td>F</td>\n",
       "      <td>business</td>\n",
       "      <td>0</td>\n",
       "      <td>48639.062</td>\n",
       "      <td>to own a car</td>\n",
       "      <td>3.172684</td>\n",
       "    </tr>\n",
       "  </tbody>\n",
       "</table>\n",
       "</div>"
      ],
      "text/plain": [
       "      dob_years            education family_status  children  education_id  \\\n",
       "99            0  secondary education       married         0             1   \n",
       "149           0  secondary education      divorced         0             1   \n",
       "270           0  secondary education       married         3             1   \n",
       "578           0  secondary education       married         0             1   \n",
       "1040          0    bachelor's degree      divorced         0             0   \n",
       "\n",
       "      family_status_id gender income_type  debt  total_income  \\\n",
       "99                   0      F     retiree     0     11406.644   \n",
       "149                  3      F    employee     0     11228.230   \n",
       "270                  0      F    employee     0     16346.633   \n",
       "578                  0      F     retiree     0     15619.310   \n",
       "1040                 3      F    business     0     48639.062   \n",
       "\n",
       "                           purpose  years_employed  \n",
       "99                             car        4.306992  \n",
       "149           housing transactions        7.299379  \n",
       "270             housing renovation        5.130584  \n",
       "578   construction of own property        4.306992  \n",
       "1040                  to own a car        3.172684  "
      ]
     },
     "metadata": {},
     "output_type": "display_data"
    }
   ],
   "source": [
    "# filtro datos solo con 0\n",
    "data_dy_0 = data[data.dob_years == 0]\n",
    "# describe\n",
    "display(data_dy_0.describe())\n",
    "# primeros valores\n",
    "display(data_dy_0.head())"
   ]
  },
  {
   "cell_type": "markdown",
   "metadata": {},
   "source": [
    "Listo, al parecer tenemos ya los valores correctos de `years_employed`. Lo que vamos a realizar aquí es reemplazar en `data` todos los valores con cero en `dob_years` en base a `years_employed`, sumando ese valor más 19, pero que sean enteros, ya que no queremos pasar los decimales. Fijamos el mínimo en 19 ya que la mayoría de clientes tiene esa edad cuando trabaja. Entonces en la primera fila de arriba si sumamos 19 más 4 sería 23 años. "
   ]
  },
  {
   "cell_type": "markdown",
   "metadata": {},
   "source": [
    "Antes de reemplazar verifiquemos nuevamente los datos de `dob_years`: "
   ]
  },
  {
   "cell_type": "code",
   "execution_count": 59,
   "metadata": {},
   "outputs": [
    {
     "data": {
      "text/plain": [
       "35    0.028664\n",
       "40    0.028293\n",
       "41    0.028200\n",
       "34    0.028014\n",
       "38    0.027782\n",
       "42    0.027735\n",
       "33    0.026992\n",
       "39    0.026620\n",
       "31    0.026016\n",
       "36    0.025784\n",
       "44    0.025412\n",
       "29    0.025319\n",
       "30    0.025087\n",
       "48    0.024994\n",
       "37    0.024948\n",
       "50    0.023879\n",
       "43    0.023833\n",
       "32    0.023693\n",
       "49    0.023600\n",
       "28    0.023368\n",
       "45    0.023089\n",
       "27    0.022904\n",
       "56    0.022625\n",
       "52    0.022485\n",
       "47    0.022300\n",
       "54    0.022253\n",
       "46    0.022067\n",
       "58    0.021417\n",
       "57    0.021370\n",
       "53    0.021324\n",
       "51    0.020813\n",
       "59    0.020627\n",
       "55    0.020581\n",
       "26    0.018955\n",
       "60    0.017515\n",
       "25    0.016585\n",
       "61    0.016492\n",
       "62    0.016353\n",
       "63    0.012497\n",
       "64    0.012311\n",
       "24    0.012265\n",
       "23    0.011800\n",
       "65    0.009013\n",
       "66    0.008502\n",
       "22    0.008502\n",
       "67    0.007758\n",
       "21    0.005157\n",
       "0     0.004692\n",
       "68    0.004599\n",
       "69    0.003949\n",
       "70    0.003020\n",
       "71    0.002695\n",
       "20    0.002369\n",
       "72    0.001533\n",
       "19    0.000650\n",
       "73    0.000372\n",
       "74    0.000279\n",
       "75    0.000046\n",
       "Name: dob_years, dtype: float64"
      ]
     },
     "execution_count": 59,
     "metadata": {},
     "output_type": "execute_result"
    }
   ],
   "source": [
    "# valores en dob_years\n",
    "data[\"dob_years\"].value_counts(normalize=True)"
   ]
  },
  {
   "cell_type": "markdown",
   "metadata": {},
   "source": [
    "Para esto, creamos la siguiente función que nos ayudará con el reemplazo de los datos con `dob_years` igual a 0 y tomando en cuenta que en algunos casos `years_employed` hay valores nulos: "
   ]
  },
  {
   "cell_type": "code",
   "execution_count": 60,
   "metadata": {},
   "outputs": [],
   "source": [
    "# reemplazamos los datos de 0 en dob_years\n",
    "def replace_dob_years(df):\n",
    "    df.loc[(df['dob_years'] == 0) & (df['years_employed'].notnull()), 'dob_years'] = df.loc[(df['dob_years'] == 0) & (df['years_employed'].notnull()), 'years_employed'].apply(lambda x: int(round(x + 19)))\n",
    "    df['dob_years'] = df['dob_years'].astype(int)\n",
    "    return df"
   ]
  },
  {
   "cell_type": "code",
   "execution_count": 61,
   "metadata": {},
   "outputs": [],
   "source": [
    "# aplicamos la función \n",
    "data = replace_dob_years(data)"
   ]
  },
  {
   "cell_type": "markdown",
   "metadata": {},
   "source": [
    "Verificamos nuevamente la información en `dob_years`"
   ]
  },
  {
   "cell_type": "code",
   "execution_count": 62,
   "metadata": {},
   "outputs": [
    {
     "data": {
      "text/plain": [
       "35    0.028711\n",
       "40    0.028293\n",
       "41    0.028246\n",
       "34    0.028014\n",
       "38    0.027782\n",
       "42    0.027735\n",
       "33    0.027085\n",
       "39    0.026620\n",
       "31    0.026156\n",
       "36    0.025784\n",
       "44    0.025412\n",
       "29    0.025412\n",
       "30    0.025087\n",
       "48    0.025087\n",
       "37    0.024994\n",
       "50    0.023879\n",
       "32    0.023833\n",
       "43    0.023833\n",
       "49    0.023600\n",
       "28    0.023508\n",
       "45    0.023089\n",
       "27    0.022904\n",
       "56    0.022625\n",
       "52    0.022485\n",
       "47    0.022300\n",
       "54    0.022253\n",
       "46    0.022067\n",
       "58    0.021417\n",
       "57    0.021370\n",
       "53    0.021324\n",
       "51    0.020813\n",
       "59    0.020627\n",
       "55    0.020581\n",
       "26    0.019187\n",
       "60    0.017515\n",
       "25    0.016725\n",
       "61    0.016492\n",
       "62    0.016353\n",
       "23    0.012683\n",
       "24    0.012636\n",
       "63    0.012497\n",
       "64    0.012311\n",
       "22    0.009152\n",
       "65    0.009013\n",
       "66    0.008502\n",
       "67    0.007758\n",
       "21    0.005528\n",
       "68    0.004599\n",
       "69    0.003949\n",
       "70    0.003020\n",
       "20    0.002787\n",
       "71    0.002695\n",
       "72    0.001533\n",
       "19    0.000790\n",
       "0     0.000650\n",
       "73    0.000372\n",
       "74    0.000279\n",
       "75    0.000046\n",
       "Name: dob_years, dtype: float64"
      ]
     },
     "execution_count": 62,
     "metadata": {},
     "output_type": "execute_result"
    }
   ],
   "source": [
    "# valores en dob_years\n",
    "data[\"dob_years\"].value_counts(normalize=True)"
   ]
  },
  {
   "cell_type": "markdown",
   "metadata": {},
   "source": [
    "Los datos con valores en 0 han disminuido en menor cantidad. Finalmente, decidimos estos datos reemplazar por los cinco datos que más se repiten que son: 35, 40, 41, 34 y 38. De esta forma distribuimos de mejor forma los datos y no solo a uno en específico. \n",
    "\n",
    "Creamos la siguiente función `replace_zeros`:"
   ]
  },
  {
   "cell_type": "code",
   "execution_count": 63,
   "metadata": {},
   "outputs": [],
   "source": [
    "# función para reemplazar los datos que más se repiten\n",
    "def replace_zeros(df):\n",
    "    df.loc[df['dob_years'] == 0, 'dob_years'] = random.choice([35, 40, 41, 34, 38])\n",
    "    return df"
   ]
  },
  {
   "cell_type": "code",
   "execution_count": 64,
   "metadata": {},
   "outputs": [],
   "source": [
    "# aplicamos la función\n",
    "data = replace_zeros(data)"
   ]
  },
  {
   "cell_type": "code",
   "execution_count": 65,
   "metadata": {},
   "outputs": [
    {
     "data": {
      "text/plain": [
       "35    0.029361\n",
       "40    0.028293\n",
       "41    0.028246\n",
       "34    0.028014\n",
       "38    0.027782\n",
       "42    0.027735\n",
       "33    0.027085\n",
       "39    0.026620\n",
       "31    0.026156\n",
       "36    0.025784\n",
       "29    0.025412\n",
       "44    0.025412\n",
       "30    0.025087\n",
       "48    0.025087\n",
       "37    0.024994\n",
       "50    0.023879\n",
       "43    0.023833\n",
       "32    0.023833\n",
       "49    0.023600\n",
       "28    0.023508\n",
       "45    0.023089\n",
       "27    0.022904\n",
       "56    0.022625\n",
       "52    0.022485\n",
       "47    0.022300\n",
       "54    0.022253\n",
       "46    0.022067\n",
       "58    0.021417\n",
       "57    0.021370\n",
       "53    0.021324\n",
       "51    0.020813\n",
       "59    0.020627\n",
       "55    0.020581\n",
       "26    0.019187\n",
       "60    0.017515\n",
       "25    0.016725\n",
       "61    0.016492\n",
       "62    0.016353\n",
       "23    0.012683\n",
       "24    0.012636\n",
       "63    0.012497\n",
       "64    0.012311\n",
       "22    0.009152\n",
       "65    0.009013\n",
       "66    0.008502\n",
       "67    0.007758\n",
       "21    0.005528\n",
       "68    0.004599\n",
       "69    0.003949\n",
       "70    0.003020\n",
       "20    0.002787\n",
       "71    0.002695\n",
       "72    0.001533\n",
       "19    0.000790\n",
       "73    0.000372\n",
       "74    0.000279\n",
       "75    0.000046\n",
       "Name: dob_years, dtype: float64"
      ]
     },
     "execution_count": 65,
     "metadata": {},
     "output_type": "execute_result"
    }
   ],
   "source": [
    "# valores en dob_years\n",
    "data[\"dob_years\"].value_counts(normalize=True)"
   ]
  },
  {
   "cell_type": "markdown",
   "metadata": {},
   "source": [
    "Finalmente, los datos no cambiaron en proporción, y se pudo eliminar el dato erróneo de edad que era 0."
   ]
  },
  {
   "cell_type": "markdown",
   "metadata": {},
   "source": [
    "### Análisis de `family_status`"
   ]
  },
  {
   "cell_type": "markdown",
   "metadata": {},
   "source": [
    "Ahora revisamos la columna `family_status`"
   ]
  },
  {
   "cell_type": "code",
   "execution_count": 66,
   "metadata": {},
   "outputs": [
    {
     "name": "stdout",
     "output_type": "stream",
     "text": [
      "married              12380\n",
      "civil partnership     4177\n",
      "unmarried             2813\n",
      "divorced              1195\n",
      "widow / widower        960\n",
      "Name: family_status, dtype: int64\n"
     ]
    }
   ],
   "source": [
    "# Veamos los valores de la columna\n",
    "print(data[\"family_status\"].value_counts())"
   ]
  },
  {
   "cell_type": "markdown",
   "metadata": {},
   "source": [
    "Según los datos analizados de la columna `family_status`, no se tiene ningún valor problemático, por lo que no es necesario arreglarlos. "
   ]
  },
  {
   "cell_type": "markdown",
   "metadata": {},
   "source": [
    "### Análisis `gender`"
   ]
  },
  {
   "cell_type": "markdown",
   "metadata": {},
   "source": [
    "Continuemos con la columna `gender`. "
   ]
  },
  {
   "cell_type": "code",
   "execution_count": 67,
   "metadata": {},
   "outputs": [
    {
     "name": "stdout",
     "output_type": "stream",
     "text": [
      "F      14236\n",
      "M       7288\n",
      "XNA        1\n",
      "Name: gender, dtype: int64\n"
     ]
    }
   ],
   "source": [
    "# Veamos los valores en la columna\n",
    "print(data[\"gender\"].value_counts())"
   ]
  },
  {
   "cell_type": "markdown",
   "metadata": {},
   "source": [
    "Se tiene un dato con el valor XNA, el cual puede ser alguien que no se identifique con másculino o femenino, o no se tenía esa información a la mano, o un error de información. \n",
    "\n",
    "Para esto, se reemplazará el valor con \"F\", siendo Femenino, y el dato que más se repite en esta categoría. "
   ]
  },
  {
   "cell_type": "code",
   "execution_count": 68,
   "metadata": {},
   "outputs": [],
   "source": [
    "# reemplazo de dato\n",
    "data['gender'] = data['gender'].replace(\"XNA\", \"F\")"
   ]
  },
  {
   "cell_type": "code",
   "execution_count": 69,
   "metadata": {},
   "outputs": [
    {
     "name": "stdout",
     "output_type": "stream",
     "text": [
      "F    14237\n",
      "M     7288\n",
      "Name: gender, dtype: int64\n"
     ]
    }
   ],
   "source": [
    "# verificación de datos corregidos\n",
    "print(data[\"gender\"].value_counts())"
   ]
  },
  {
   "cell_type": "markdown",
   "metadata": {},
   "source": [
    "### Análisis en `income_type`"
   ]
  },
  {
   "cell_type": "markdown",
   "metadata": {},
   "source": [
    "Ahora sigamos con la columna `income_type`. "
   ]
  },
  {
   "cell_type": "code",
   "execution_count": 70,
   "metadata": {},
   "outputs": [
    {
     "name": "stdout",
     "output_type": "stream",
     "text": [
      "employee                       11119\n",
      "business                        5085\n",
      "retiree                         3856\n",
      "civil servant                   1459\n",
      "unemployed                         2\n",
      "entrepreneur                       2\n",
      "paternity / maternity leave        1\n",
      "student                            1\n",
      "Name: income_type, dtype: int64\n"
     ]
    }
   ],
   "source": [
    "# Veamos los valores en la columna\n",
    "print(data[\"income_type\"].value_counts())"
   ]
  },
  {
   "cell_type": "code",
   "execution_count": 71,
   "metadata": {},
   "outputs": [
    {
     "name": "stdout",
     "output_type": "stream",
     "text": [
      "employee                       0.516562\n",
      "business                       0.236237\n",
      "retiree                        0.179141\n",
      "civil servant                  0.067782\n",
      "unemployed                     0.000093\n",
      "entrepreneur                   0.000093\n",
      "paternity / maternity leave    0.000046\n",
      "student                        0.000046\n",
      "Name: income_type, dtype: float64\n"
     ]
    }
   ],
   "source": [
    "# porcentaje en los datos según categorías\n",
    "print(data[\"income_type\"].value_counts(normalize=True))"
   ]
  },
  {
   "cell_type": "markdown",
   "metadata": {},
   "source": [
    "Tenemos valores atípicos o cuatro categorías que no se repiten mucho. Eliminar estas categorías afectaría poco en la información de los datos en general, sin embargo, por temas de no afectar tanto a los datos, se las deja intacta. "
   ]
  },
  {
   "cell_type": "markdown",
   "metadata": {},
   "source": [
    "### Análisis en `total_income`"
   ]
  },
  {
   "cell_type": "markdown",
   "metadata": {},
   "source": [
    "Sigamos con la columna `total_income` donde verificamos cómo está la distribución de los datos a nivel estadístico. "
   ]
  },
  {
   "cell_type": "code",
   "execution_count": 72,
   "metadata": {},
   "outputs": [
    {
     "data": {
      "text/plain": [
       "count     19351.000000\n",
       "mean      26787.568355\n",
       "std       16475.450632\n",
       "min        3306.762000\n",
       "25%       16488.504500\n",
       "50%       23202.870000\n",
       "75%       32549.611000\n",
       "max      362496.645000\n",
       "Name: total_income, dtype: float64"
      ]
     },
     "execution_count": 72,
     "metadata": {},
     "output_type": "execute_result"
    }
   ],
   "source": [
    "data[\"total_income\"].describe()"
   ]
  },
  {
   "cell_type": "markdown",
   "metadata": {},
   "source": [
    "Sin tomar en cuenta los valores ausentes de la columna, al parecer los valores sobre el ingreso mensual de los clientes está correcto. Aunque hay que tomar en cuenta que hay mucha separación entre el dato mínimo y máximo, siendo el ingreso mensual mínimo de 3,306 y el máximo de 362,496. Lo importante a resaltar es que el 75% de los datos tienen un ingreso mensual de 32,539. Esto quiere decir que hay datos atípicos que afectan sobre todo al promedio del ingreso total. Más adelante se podría realizar un estudio general de cómo eliminar de forma correcta estos datos atípicos. \n",
    "\n",
    "Finalmente, se concluye que los datos de esta columna están correctos."
   ]
  },
  {
   "cell_type": "markdown",
   "metadata": {},
   "source": [
    "### Análisis en `debt`"
   ]
  },
  {
   "cell_type": "markdown",
   "metadata": {},
   "source": [
    "Verifiquemos cómo está la columna `debt`: "
   ]
  },
  {
   "cell_type": "code",
   "execution_count": 73,
   "metadata": {},
   "outputs": [
    {
     "data": {
      "text/plain": [
       "0    0.919117\n",
       "1    0.080883\n",
       "Name: debt, dtype: float64"
      ]
     },
     "execution_count": 73,
     "metadata": {},
     "output_type": "execute_result"
    }
   ],
   "source": [
    "data[\"debt\"].value_counts(normalize=True)"
   ]
  },
  {
   "cell_type": "markdown",
   "metadata": {},
   "source": [
    "Al parecer no hay datos erroneos en esta columna, sin embargo, podemos ver que casi el 92% de clientes no tienen ninguna deuda `(0)` y el 8% si tienen deuda `(1)`. Es importante luego comparar si hay algún patrón específico sobre el comportamiento de los clientes que tienen deuda. "
   ]
  },
  {
   "cell_type": "markdown",
   "metadata": {},
   "source": [
    "### Análisis en `purpose`"
   ]
  },
  {
   "cell_type": "markdown",
   "metadata": {},
   "source": [
    "Por último, analizamos la columna `purpose`: "
   ]
  },
  {
   "cell_type": "code",
   "execution_count": 74,
   "metadata": {},
   "outputs": [
    {
     "data": {
      "text/plain": [
       "wedding ceremony                            0.037027\n",
       "having a wedding                            0.036098\n",
       "to have a wedding                           0.035958\n",
       "real estate transactions                    0.031405\n",
       "buy commercial real estate                  0.030848\n",
       "housing transactions                        0.030337\n",
       "buying property for renting out             0.030337\n",
       "transactions with commercial real estate    0.030244\n",
       "housing                                     0.030058\n",
       "purchase of the house                       0.030058\n",
       "purchase of the house for my family         0.029779\n",
       "construction of own property                0.029501\n",
       "property                                    0.029454\n",
       "transactions with my real estate            0.029268\n",
       "building a real estate                      0.029082\n",
       "buy real estate                             0.028990\n",
       "purchase of my own house                    0.028804\n",
       "building a property                         0.028804\n",
       "housing renovation                          0.028432\n",
       "buy residential real estate                 0.028200\n",
       "buying my own car                           0.023461\n",
       "going to university                         0.023043\n",
       "car                                         0.022997\n",
       "second-hand car purchase                    0.022718\n",
       "to own a car                                0.022300\n",
       "buying a second-hand car                    0.022253\n",
       "cars                                        0.022207\n",
       "to buy a car                                0.021928\n",
       "supplementary education                     0.021463\n",
       "car purchase                                0.021463\n",
       "purchase of a car                           0.021138\n",
       "university education                        0.021045\n",
       "education                                   0.020767\n",
       "to get a supplementary education            0.020767\n",
       "getting an education                        0.020581\n",
       "profile education                           0.020256\n",
       "getting higher education                    0.019791\n",
       "to become educated                          0.019141\n",
       "Name: purpose, dtype: float64"
      ]
     },
     "execution_count": 74,
     "metadata": {},
     "output_type": "execute_result"
    }
   ],
   "source": [
    "data[\"purpose\"].value_counts(normalize=True)"
   ]
  },
  {
   "cell_type": "code",
   "execution_count": 75,
   "metadata": {},
   "outputs": [
    {
     "data": {
      "text/plain": [
       "38"
      ]
     },
     "execution_count": 75,
     "metadata": {},
     "output_type": "execute_result"
    }
   ],
   "source": [
    "len(data[\"purpose\"].value_counts(normalize=True))"
   ]
  },
  {
   "cell_type": "markdown",
   "metadata": {},
   "source": [
    "Claramente se puede observar que hay ciertas categorías repetidas, las cuales se puede simplificar uniendo la información y así tener menos categorías y ya no 38. \n",
    "\n",
    "Para realizar esto, se crea la siguiente función: "
   ]
  },
  {
   "cell_type": "code",
   "execution_count": 76,
   "metadata": {},
   "outputs": [],
   "source": [
    "# función para `purpose` que unirá categorías\n",
    "def purpose_group(row):\n",
    "    purpose = row[\"purpose\"]\n",
    "    \n",
    "    if \"wedding\" in purpose: \n",
    "        return \"wedding ceremony\"\n",
    "    if \"real estate\" in purpose:\n",
    "        return \"real estate transactions\"\n",
    "    if \"education\" in purpose: \n",
    "        return \"getting an education\"\n",
    "    if \"educated\" in purpose:\n",
    "        return \"getting an education\"\n",
    "    if \"university\" in purpose:\n",
    "        return \"getting an education\"\n",
    "    if \"car\" in purpose:\n",
    "        return \"purchase of a car\"\n",
    "    if \"housing\" in purpose:\n",
    "        return \"housing transactions\"\n",
    "    if \"house\" in purpose:\n",
    "        return \"housing transactions\"\n",
    "    if \"property\" in purpose:\n",
    "        return \"housing transactions\""
   ]
  },
  {
   "cell_type": "code",
   "execution_count": 77,
   "metadata": {},
   "outputs": [],
   "source": [
    "# se aplica la función\n",
    "data[\"purpose_1\"] = data.apply(purpose_group, axis=1)"
   ]
  },
  {
   "cell_type": "markdown",
   "metadata": {},
   "source": [
    "Se comprueba que se tenga la misma cantidad de datos en las dos columnas."
   ]
  },
  {
   "cell_type": "code",
   "execution_count": 78,
   "metadata": {},
   "outputs": [
    {
     "name": "stdout",
     "output_type": "stream",
     "text": [
      "wedding ceremony                            0.037027\n",
      "having a wedding                            0.036098\n",
      "to have a wedding                           0.035958\n",
      "real estate transactions                    0.031405\n",
      "buy commercial real estate                  0.030848\n",
      "housing transactions                        0.030337\n",
      "buying property for renting out             0.030337\n",
      "transactions with commercial real estate    0.030244\n",
      "housing                                     0.030058\n",
      "purchase of the house                       0.030058\n",
      "purchase of the house for my family         0.029779\n",
      "construction of own property                0.029501\n",
      "property                                    0.029454\n",
      "transactions with my real estate            0.029268\n",
      "building a real estate                      0.029082\n",
      "buy real estate                             0.028990\n",
      "purchase of my own house                    0.028804\n",
      "building a property                         0.028804\n",
      "housing renovation                          0.028432\n",
      "buy residential real estate                 0.028200\n",
      "buying my own car                           0.023461\n",
      "going to university                         0.023043\n",
      "car                                         0.022997\n",
      "second-hand car purchase                    0.022718\n",
      "to own a car                                0.022300\n",
      "buying a second-hand car                    0.022253\n",
      "cars                                        0.022207\n",
      "to buy a car                                0.021928\n",
      "supplementary education                     0.021463\n",
      "car purchase                                0.021463\n",
      "purchase of a car                           0.021138\n",
      "university education                        0.021045\n",
      "education                                   0.020767\n",
      "to get a supplementary education            0.020767\n",
      "getting an education                        0.020581\n",
      "profile education                           0.020256\n",
      "getting higher education                    0.019791\n",
      "to become educated                          0.019141\n",
      "Name: purpose, dtype: float64\n",
      "\n",
      "housing transactions        0.295563\n",
      "real estate transactions    0.208037\n",
      "purchase of a car           0.200465\n",
      "getting an education        0.186852\n",
      "wedding ceremony            0.109082\n",
      "Name: purpose_1, dtype: float64 \n",
      "\n",
      "21525\n",
      "21525\n"
     ]
    }
   ],
   "source": [
    "# conteo de categorías\n",
    "print(data[\"purpose\"].value_counts(normalize=True))\n",
    "print()\n",
    "print(data[\"purpose_1\"].value_counts(normalize=True), \"\\n\")\n",
    "\n",
    "# verificación de total de datos en cada columna\n",
    "print(len(data[\"purpose\"]))\n",
    "print(len(data[\"purpose_1\"]))"
   ]
  },
  {
   "cell_type": "markdown",
   "metadata": {},
   "source": [
    "Eliminamos la columna `purpose`, y renombramos a `purpose_1` con `purpose`: "
   ]
  },
  {
   "cell_type": "code",
   "execution_count": 79,
   "metadata": {},
   "outputs": [],
   "source": [
    "# eliminar y renombrar\n",
    "data = data.drop(\"purpose\", 1)\n",
    "data.rename(columns = {'purpose_1':'purpose'}, inplace = True)"
   ]
  },
  {
   "cell_type": "code",
   "execution_count": 80,
   "metadata": {},
   "outputs": [
    {
     "name": "stdout",
     "output_type": "stream",
     "text": [
      "<class 'pandas.core.frame.DataFrame'>\n",
      "RangeIndex: 21525 entries, 0 to 21524\n",
      "Data columns (total 12 columns):\n",
      " #   Column            Non-Null Count  Dtype  \n",
      "---  ------            --------------  -----  \n",
      " 0   dob_years         21525 non-null  int64  \n",
      " 1   education         21525 non-null  object \n",
      " 2   family_status     21525 non-null  object \n",
      " 3   children          21525 non-null  int64  \n",
      " 4   education_id      21525 non-null  int64  \n",
      " 5   family_status_id  21525 non-null  int64  \n",
      " 6   gender            21525 non-null  object \n",
      " 7   income_type       21525 non-null  object \n",
      " 8   debt              21525 non-null  int64  \n",
      " 9   total_income      19351 non-null  float64\n",
      " 10  years_employed    19103 non-null  float64\n",
      " 11  purpose           21525 non-null  object \n",
      "dtypes: float64(2), int64(5), object(5)\n",
      "memory usage: 2.0+ MB\n"
     ]
    }
   ],
   "source": [
    "# verificamos la información\n",
    "data.info()"
   ]
  },
  {
   "cell_type": "markdown",
   "metadata": {},
   "source": [
    "Se redujo a 5 categorías de por qué piden un préstamo. Aquí nos podemos dar cuenta que la razón principal no es por realizar una boda, sino por alguna transacción de vivienda como comprar una casa, remodelar, comprar un terreno, etc. De ahí la segunda razón es transacciones inmobiliarias como construir una inmobiliaria, comprar bienes raíces comerciales, entre otros. Los otros dos son comprar un carro y tener una mejor educación, y finalmente realizar una boda, siendo la última categoría. "
   ]
  },
  {
   "cell_type": "markdown",
   "metadata": {},
   "source": [
    "### Datos duplicados"
   ]
  },
  {
   "cell_type": "markdown",
   "metadata": {},
   "source": [
    "Ahora con todas las columnas limpias, verifiquemos si hay datos duplicados. "
   ]
  },
  {
   "cell_type": "code",
   "execution_count": 81,
   "metadata": {},
   "outputs": [
    {
     "name": "stdout",
     "output_type": "stream",
     "text": [
      "True\n"
     ]
    }
   ],
   "source": [
    "# Comprobar los duplicados\n",
    "print(data.duplicated().any())"
   ]
  },
  {
   "cell_type": "code",
   "execution_count": 82,
   "metadata": {},
   "outputs": [
    {
     "name": "stdout",
     "output_type": "stream",
     "text": [
      "317\n"
     ]
    }
   ],
   "source": [
    "# Comprobar cantidad de datos duplicados\n",
    "print(data.duplicated().sum())"
   ]
  },
  {
   "cell_type": "markdown",
   "metadata": {},
   "source": [
    "Verificamos que hay 317 filas con datos duplicados, por lo tanto es importante limpiar todos estos datos. "
   ]
  },
  {
   "cell_type": "code",
   "execution_count": 83,
   "metadata": {},
   "outputs": [
    {
     "data": {
      "text/plain": [
       "(21525, 12)"
      ]
     },
     "execution_count": 83,
     "metadata": {},
     "output_type": "execute_result"
    }
   ],
   "source": [
    "# Datos actuales, antes de verificar los duplicados\n",
    "data.shape"
   ]
  },
  {
   "cell_type": "code",
   "execution_count": 84,
   "metadata": {},
   "outputs": [],
   "source": [
    "# eliminación de duplicados\n",
    "data_wd = data.drop_duplicates().reset_index(drop=True)"
   ]
  },
  {
   "cell_type": "code",
   "execution_count": 85,
   "metadata": {},
   "outputs": [
    {
     "name": "stdout",
     "output_type": "stream",
     "text": [
      "<class 'pandas.core.frame.DataFrame'>\n",
      "RangeIndex: 21208 entries, 0 to 21207\n",
      "Data columns (total 12 columns):\n",
      " #   Column            Non-Null Count  Dtype  \n",
      "---  ------            --------------  -----  \n",
      " 0   dob_years         21208 non-null  int64  \n",
      " 1   education         21208 non-null  object \n",
      " 2   family_status     21208 non-null  object \n",
      " 3   children          21208 non-null  int64  \n",
      " 4   education_id      21208 non-null  int64  \n",
      " 5   family_status_id  21208 non-null  int64  \n",
      " 6   gender            21208 non-null  object \n",
      " 7   income_type       21208 non-null  object \n",
      " 8   debt              21208 non-null  int64  \n",
      " 9   total_income      19351 non-null  float64\n",
      " 10  years_employed    19103 non-null  float64\n",
      " 11  purpose           21208 non-null  object \n",
      "dtypes: float64(2), int64(5), object(5)\n",
      "memory usage: 1.9+ MB\n"
     ]
    },
    {
     "data": {
      "text/plain": [
       "(21208, 12)"
      ]
     },
     "execution_count": 85,
     "metadata": {},
     "output_type": "execute_result"
    }
   ],
   "source": [
    "# Verificación del nuevo conjunto de datos. \n",
    "data_wd.info()\n",
    "data_wd.shape"
   ]
  },
  {
   "cell_type": "code",
   "execution_count": 86,
   "metadata": {},
   "outputs": [
    {
     "name": "stdout",
     "output_type": "stream",
     "text": [
      "False\n"
     ]
    }
   ],
   "source": [
    "# se comprueba si hay duplicates\n",
    "print(data_wd.duplicated().any())"
   ]
  },
  {
   "cell_type": "markdown",
   "metadata": {},
   "source": [
    "El nuevo conjunto de datos se llama `data_wd` (data without duplicates). Se ha arreglado la base de datos en general, ya que se tenía datos repetidos en categorías el cual estaban algunas mal escritas, otras con datos raros o no consistentes, y otras con valores negativos que no hacían sentido. \n",
    "\n",
    "Finalmente, se eliminó 317 valores repetidos, quedándonos con 21,208 datos de clientes. "
   ]
  },
  {
   "cell_type": "markdown",
   "metadata": {},
   "source": [
    "# Trabajar con valores ausentes"
   ]
  },
  {
   "cell_type": "markdown",
   "metadata": {},
   "source": [
    "Ahora que tenemos todos los datos limpios, verifiquemos la información acerca del ID con cada categoría correspondiente, según la columna. "
   ]
  },
  {
   "cell_type": "code",
   "execution_count": 87,
   "metadata": {},
   "outputs": [
    {
     "name": "stdout",
     "output_type": "stream",
     "text": [
      "secondary education    0.704923\n",
      "bachelor's degree      0.246416\n",
      "some college           0.035081\n",
      "primary education      0.013297\n",
      "graduate degree        0.000283\n",
      "Name: education, dtype: float64\n"
     ]
    }
   ],
   "source": [
    "# Comprobar todos los valores en la columna para asegurarnos de que los hayamos corregido\n",
    "print(data_wd[\"education\"].value_counts(normalize=True))"
   ]
  },
  {
   "cell_type": "code",
   "execution_count": 88,
   "metadata": {},
   "outputs": [
    {
     "name": "stdout",
     "output_type": "stream",
     "text": [
      "1    0.704923\n",
      "0    0.246416\n",
      "2    0.035081\n",
      "3    0.013297\n",
      "4    0.000283\n",
      "Name: education_id, dtype: float64\n"
     ]
    }
   ],
   "source": [
    "# Comprobar todos los valores en la columna para asegurarnos de que los hayamos corregido\n",
    "print(data_wd[\"education_id\"].value_counts(normalize=True))"
   ]
  },
  {
   "cell_type": "code",
   "execution_count": 89,
   "metadata": {},
   "outputs": [
    {
     "name": "stdout",
     "output_type": "stream",
     "text": [
      "married              0.572897\n",
      "civil partnership    0.194596\n",
      "unmarried            0.131554\n",
      "divorced             0.056300\n",
      "widow / widower      0.044653\n",
      "Name: family_status, dtype: float64\n"
     ]
    }
   ],
   "source": [
    "# Comprobar todos los valores en la columna para asegurarnos de que los hayamos corregido\n",
    "print(data_wd[\"family_status\"].value_counts(normalize=True))"
   ]
  },
  {
   "cell_type": "code",
   "execution_count": 90,
   "metadata": {},
   "outputs": [
    {
     "name": "stdout",
     "output_type": "stream",
     "text": [
      "0    0.572897\n",
      "1    0.194596\n",
      "4    0.131554\n",
      "3    0.056300\n",
      "2    0.044653\n",
      "Name: family_status_id, dtype: float64\n"
     ]
    }
   ],
   "source": [
    "# Comprobar todos los valores en la columna para asegurarnos de que los hayamos corregido\n",
    "print(data_wd[\"family_status_id\"].value_counts(normalize=True))"
   ]
  },
  {
   "cell_type": "markdown",
   "metadata": {},
   "source": [
    "Prácticamente tenemos el mismo porcentaje en cada categoría tanto en `education` y `education_id`, como también en `family_status` y `family_status_id`. "
   ]
  },
  {
   "cell_type": "markdown",
   "metadata": {},
   "source": [
    "Para asegurar la información que tenemos, podemos unir los IDs con las categorías correspondientes. "
   ]
  },
  {
   "cell_type": "code",
   "execution_count": 91,
   "metadata": {},
   "outputs": [
    {
     "name": "stdout",
     "output_type": "stream",
     "text": [
      "Index(['dob_years', 'education', 'family_status', 'children', 'education_id',\n",
      "       'family_status_id', 'gender', 'income_type', 'debt', 'total_income',\n",
      "       'years_employed', 'purpose'],\n",
      "      dtype='object')\n"
     ]
    }
   ],
   "source": [
    "# impresión de columnas\n",
    "print(data_wd.columns)"
   ]
  },
  {
   "cell_type": "markdown",
   "metadata": {},
   "source": [
    "Unión de IDs con columnas de `family_status` y `family_status_id`"
   ]
  },
  {
   "cell_type": "code",
   "execution_count": 92,
   "metadata": {},
   "outputs": [
    {
     "name": "stdout",
     "output_type": "stream",
     "text": [
      "[['married' 0]\n",
      " ['married' 0]\n",
      " ['married' 0]\n",
      " ...\n",
      " ['civil partnership' 1]\n",
      " ['married' 0]\n",
      " ['married' 0]]\n"
     ]
    }
   ],
   "source": [
    "# valores de family_status\n",
    "column_values = data_wd[[\"family_status\", \"family_status_id\"]].values\n",
    "print(column_values)"
   ]
  },
  {
   "cell_type": "markdown",
   "metadata": {},
   "source": [
    "Se transforma en un array o lista de listas, y se separa todo. "
   ]
  },
  {
   "cell_type": "code",
   "execution_count": 93,
   "metadata": {},
   "outputs": [
    {
     "name": "stdout",
     "output_type": "stream",
     "text": [
      "['married' 0 'married' ... 0 'married' 0]\n"
     ]
    }
   ],
   "source": [
    "column_values = data_wd[[\"family_status\", \"family_status_id\"]].values.ravel()\n",
    "print(column_values)"
   ]
  },
  {
   "cell_type": "markdown",
   "metadata": {},
   "source": [
    "Y finalmente sacamos los valores únicos"
   ]
  },
  {
   "cell_type": "code",
   "execution_count": 94,
   "metadata": {},
   "outputs": [
    {
     "name": "stdout",
     "output_type": "stream",
     "text": [
      "['married' 0 'civil partnership' 1 'widow / widower' 2 'divorced' 3\n",
      " 'unmarried' 4]\n"
     ]
    }
   ],
   "source": [
    "unique_values_family_status =  pd.unique(column_values)\n",
    "print(unique_values_family_status)"
   ]
  },
  {
   "cell_type": "markdown",
   "metadata": {},
   "source": [
    "Podemos ver arriba qué ID pertenece a cada categoría correspondientemente. \n",
    "\n",
    "Realizamos lo mismo con `education` pero todo más rápido. "
   ]
  },
  {
   "cell_type": "code",
   "execution_count": 95,
   "metadata": {},
   "outputs": [
    {
     "name": "stdout",
     "output_type": "stream",
     "text": [
      "[\"bachelor's degree\" 0 'secondary education' 1 'some college' 2\n",
      " 'primary education' 3 'graduate degree' 4]\n"
     ]
    }
   ],
   "source": [
    "# valores de education\n",
    "column_values = data_wd[[\"education\", \"education_id\"]].values.ravel()\n",
    "unique_values_education =  pd.unique(column_values)\n",
    "print(unique_values_education)"
   ]
  },
  {
   "cell_type": "markdown",
   "metadata": {},
   "source": [
    "Ahora que tenemos esta información adicional, podemos utilizarla de mejor manera en nuestro futuro análisis. "
   ]
  },
  {
   "cell_type": "markdown",
   "metadata": {},
   "source": [
    "### Restaurar valores ausentes en `total_income`"
   ]
  },
  {
   "cell_type": "markdown",
   "metadata": {},
   "source": [
    "Verifiquemos nuevamente la cantidad de valores ausentes que tenemosen general:"
   ]
  },
  {
   "cell_type": "code",
   "execution_count": 96,
   "metadata": {},
   "outputs": [
    {
     "name": "stdout",
     "output_type": "stream",
     "text": [
      "dob_years              0\n",
      "education              0\n",
      "family_status          0\n",
      "children               0\n",
      "education_id           0\n",
      "family_status_id       0\n",
      "gender                 0\n",
      "income_type            0\n",
      "debt                   0\n",
      "total_income        1857\n",
      "years_employed      2105\n",
      "purpose                0\n",
      "dtype: int64\n"
     ]
    }
   ],
   "source": [
    "# valores ausentes\n",
    "print(data_wd.isna().sum())"
   ]
  },
  {
   "cell_type": "markdown",
   "metadata": {},
   "source": [
    "Con los valores duplicados que hemos eliminado, se han reducido también la cantidad de valores ausentes en las columnas `total_income` y `years_employed` como se puede observar. \n",
    "\n",
    "Vamos a proceder con el análisis de cómo rellenar la información de los valores ausentes en `total_income`. \n",
    "\n",
    "Primero, empezaremos a categorizar la información de los clientes por edad de la columna `dob_years`:"
   ]
  },
  {
   "cell_type": "code",
   "execution_count": 97,
   "metadata": {},
   "outputs": [
    {
     "data": {
      "text/plain": [
       "array([19, 20, 21, 22, 23, 24, 25, 26, 27, 28, 29, 30, 31, 32, 33, 34, 35,\n",
       "       36, 37, 38, 39, 40, 41, 42, 43, 44, 45, 46, 47, 48, 49, 50, 51, 52,\n",
       "       53, 54, 55, 56, 57, 58, 59, 60, 61, 62, 63, 64, 65, 66, 67, 68, 69,\n",
       "       70, 71, 72, 73, 74, 75])"
      ]
     },
     "metadata": {},
     "output_type": "display_data"
    }
   ],
   "source": [
    "# datos únicos en dob_years\n",
    "unique_dob_years = data_wd[\"dob_years\"].unique()\n",
    "unique_dob_years.sort()\n",
    "display(unique_dob_years)"
   ]
  },
  {
   "cell_type": "markdown",
   "metadata": {},
   "source": [
    "Hay edades de clientes desde los 19 hasta los 75 años. Con esta información se decide dividir en 4 grupos: \n",
    "- Young adult\n",
    "- Adult\n",
    "- Older adult\n",
    "- Elder"
   ]
  },
  {
   "cell_type": "code",
   "execution_count": 98,
   "metadata": {},
   "outputs": [],
   "source": [
    "# función que calcula la categoría de edad\n",
    "def age_group(row):\n",
    "    age = row[\"dob_years\"]\n",
    "    \n",
    "    if 19 <= age < 30: \n",
    "        return \"young adult\"\n",
    "    if 30 <= age < 50:\n",
    "        return \"adult\"\n",
    "    if 50 <= age < 65:\n",
    "        return \"older adult\"\n",
    "    if 65 <= age <= 75:\n",
    "        return \"elder\""
   ]
  },
  {
   "cell_type": "markdown",
   "metadata": {},
   "source": [
    "Se crea una nueva columan \"age_group\", con las categorías de edad. "
   ]
  },
  {
   "cell_type": "code",
   "execution_count": 99,
   "metadata": {},
   "outputs": [],
   "source": [
    "# columna `age_group` en base a la función\n",
    "data_wd[\"age_group\"] = data_wd.apply(age_group, axis=1)"
   ]
  },
  {
   "cell_type": "markdown",
   "metadata": {},
   "source": [
    "Verificamos la información: "
   ]
  },
  {
   "cell_type": "code",
   "execution_count": 100,
   "metadata": {},
   "outputs": [
    {
     "data": {
      "text/html": [
       "<div>\n",
       "<style scoped>\n",
       "    .dataframe tbody tr th:only-of-type {\n",
       "        vertical-align: middle;\n",
       "    }\n",
       "\n",
       "    .dataframe tbody tr th {\n",
       "        vertical-align: top;\n",
       "    }\n",
       "\n",
       "    .dataframe thead th {\n",
       "        text-align: right;\n",
       "    }\n",
       "</style>\n",
       "<table border=\"1\" class=\"dataframe\">\n",
       "  <thead>\n",
       "    <tr style=\"text-align: right;\">\n",
       "      <th></th>\n",
       "      <th>dob_years</th>\n",
       "      <th>education</th>\n",
       "      <th>family_status</th>\n",
       "      <th>children</th>\n",
       "      <th>education_id</th>\n",
       "      <th>family_status_id</th>\n",
       "      <th>gender</th>\n",
       "      <th>income_type</th>\n",
       "      <th>debt</th>\n",
       "      <th>total_income</th>\n",
       "      <th>years_employed</th>\n",
       "      <th>purpose</th>\n",
       "      <th>age_group</th>\n",
       "    </tr>\n",
       "  </thead>\n",
       "  <tbody>\n",
       "    <tr>\n",
       "      <th>0</th>\n",
       "      <td>42</td>\n",
       "      <td>bachelor's degree</td>\n",
       "      <td>married</td>\n",
       "      <td>1</td>\n",
       "      <td>0</td>\n",
       "      <td>0</td>\n",
       "      <td>F</td>\n",
       "      <td>employee</td>\n",
       "      <td>0</td>\n",
       "      <td>40620.102</td>\n",
       "      <td>23.116912</td>\n",
       "      <td>housing transactions</td>\n",
       "      <td>adult</td>\n",
       "    </tr>\n",
       "    <tr>\n",
       "      <th>1</th>\n",
       "      <td>36</td>\n",
       "      <td>secondary education</td>\n",
       "      <td>married</td>\n",
       "      <td>1</td>\n",
       "      <td>1</td>\n",
       "      <td>0</td>\n",
       "      <td>F</td>\n",
       "      <td>employee</td>\n",
       "      <td>0</td>\n",
       "      <td>17932.802</td>\n",
       "      <td>11.026860</td>\n",
       "      <td>purchase of a car</td>\n",
       "      <td>adult</td>\n",
       "    </tr>\n",
       "    <tr>\n",
       "      <th>2</th>\n",
       "      <td>33</td>\n",
       "      <td>secondary education</td>\n",
       "      <td>married</td>\n",
       "      <td>0</td>\n",
       "      <td>1</td>\n",
       "      <td>0</td>\n",
       "      <td>M</td>\n",
       "      <td>employee</td>\n",
       "      <td>0</td>\n",
       "      <td>23341.752</td>\n",
       "      <td>15.406637</td>\n",
       "      <td>housing transactions</td>\n",
       "      <td>adult</td>\n",
       "    </tr>\n",
       "    <tr>\n",
       "      <th>3</th>\n",
       "      <td>32</td>\n",
       "      <td>secondary education</td>\n",
       "      <td>married</td>\n",
       "      <td>3</td>\n",
       "      <td>1</td>\n",
       "      <td>0</td>\n",
       "      <td>M</td>\n",
       "      <td>employee</td>\n",
       "      <td>0</td>\n",
       "      <td>42820.568</td>\n",
       "      <td>11.300677</td>\n",
       "      <td>getting an education</td>\n",
       "      <td>adult</td>\n",
       "    </tr>\n",
       "    <tr>\n",
       "      <th>4</th>\n",
       "      <td>53</td>\n",
       "      <td>secondary education</td>\n",
       "      <td>civil partnership</td>\n",
       "      <td>0</td>\n",
       "      <td>1</td>\n",
       "      <td>1</td>\n",
       "      <td>F</td>\n",
       "      <td>retiree</td>\n",
       "      <td>0</td>\n",
       "      <td>25378.572</td>\n",
       "      <td>6.581900</td>\n",
       "      <td>wedding ceremony</td>\n",
       "      <td>older adult</td>\n",
       "    </tr>\n",
       "    <tr>\n",
       "      <th>5</th>\n",
       "      <td>27</td>\n",
       "      <td>bachelor's degree</td>\n",
       "      <td>civil partnership</td>\n",
       "      <td>0</td>\n",
       "      <td>0</td>\n",
       "      <td>1</td>\n",
       "      <td>M</td>\n",
       "      <td>business</td>\n",
       "      <td>0</td>\n",
       "      <td>40922.170</td>\n",
       "      <td>2.537495</td>\n",
       "      <td>housing transactions</td>\n",
       "      <td>young adult</td>\n",
       "    </tr>\n",
       "    <tr>\n",
       "      <th>6</th>\n",
       "      <td>43</td>\n",
       "      <td>bachelor's degree</td>\n",
       "      <td>married</td>\n",
       "      <td>0</td>\n",
       "      <td>0</td>\n",
       "      <td>0</td>\n",
       "      <td>F</td>\n",
       "      <td>business</td>\n",
       "      <td>0</td>\n",
       "      <td>38484.156</td>\n",
       "      <td>7.888225</td>\n",
       "      <td>housing transactions</td>\n",
       "      <td>adult</td>\n",
       "    </tr>\n",
       "    <tr>\n",
       "      <th>7</th>\n",
       "      <td>50</td>\n",
       "      <td>secondary education</td>\n",
       "      <td>married</td>\n",
       "      <td>0</td>\n",
       "      <td>1</td>\n",
       "      <td>0</td>\n",
       "      <td>M</td>\n",
       "      <td>employee</td>\n",
       "      <td>0</td>\n",
       "      <td>21731.829</td>\n",
       "      <td>0.418574</td>\n",
       "      <td>getting an education</td>\n",
       "      <td>older adult</td>\n",
       "    </tr>\n",
       "    <tr>\n",
       "      <th>8</th>\n",
       "      <td>35</td>\n",
       "      <td>bachelor's degree</td>\n",
       "      <td>civil partnership</td>\n",
       "      <td>2</td>\n",
       "      <td>0</td>\n",
       "      <td>1</td>\n",
       "      <td>F</td>\n",
       "      <td>employee</td>\n",
       "      <td>0</td>\n",
       "      <td>15337.093</td>\n",
       "      <td>18.985932</td>\n",
       "      <td>wedding ceremony</td>\n",
       "      <td>adult</td>\n",
       "    </tr>\n",
       "    <tr>\n",
       "      <th>9</th>\n",
       "      <td>41</td>\n",
       "      <td>secondary education</td>\n",
       "      <td>married</td>\n",
       "      <td>0</td>\n",
       "      <td>1</td>\n",
       "      <td>0</td>\n",
       "      <td>M</td>\n",
       "      <td>employee</td>\n",
       "      <td>0</td>\n",
       "      <td>23108.150</td>\n",
       "      <td>5.996593</td>\n",
       "      <td>housing transactions</td>\n",
       "      <td>adult</td>\n",
       "    </tr>\n",
       "  </tbody>\n",
       "</table>\n",
       "</div>"
      ],
      "text/plain": [
       "   dob_years            education      family_status  children  education_id  \\\n",
       "0         42    bachelor's degree            married         1             0   \n",
       "1         36  secondary education            married         1             1   \n",
       "2         33  secondary education            married         0             1   \n",
       "3         32  secondary education            married         3             1   \n",
       "4         53  secondary education  civil partnership         0             1   \n",
       "5         27    bachelor's degree  civil partnership         0             0   \n",
       "6         43    bachelor's degree            married         0             0   \n",
       "7         50  secondary education            married         0             1   \n",
       "8         35    bachelor's degree  civil partnership         2             0   \n",
       "9         41  secondary education            married         0             1   \n",
       "\n",
       "   family_status_id gender income_type  debt  total_income  years_employed  \\\n",
       "0                 0      F    employee     0     40620.102       23.116912   \n",
       "1                 0      F    employee     0     17932.802       11.026860   \n",
       "2                 0      M    employee     0     23341.752       15.406637   \n",
       "3                 0      M    employee     0     42820.568       11.300677   \n",
       "4                 1      F     retiree     0     25378.572        6.581900   \n",
       "5                 1      M    business     0     40922.170        2.537495   \n",
       "6                 0      F    business     0     38484.156        7.888225   \n",
       "7                 0      M    employee     0     21731.829        0.418574   \n",
       "8                 1      F    employee     0     15337.093       18.985932   \n",
       "9                 0      M    employee     0     23108.150        5.996593   \n",
       "\n",
       "                purpose    age_group  \n",
       "0  housing transactions        adult  \n",
       "1     purchase of a car        adult  \n",
       "2  housing transactions        adult  \n",
       "3  getting an education        adult  \n",
       "4      wedding ceremony  older adult  \n",
       "5  housing transactions  young adult  \n",
       "6  housing transactions        adult  \n",
       "7  getting an education  older adult  \n",
       "8      wedding ceremony        adult  \n",
       "9  housing transactions        adult  "
      ]
     },
     "execution_count": 100,
     "metadata": {},
     "output_type": "execute_result"
    }
   ],
   "source": [
    "# visualización general de la información\n",
    "data_wd.head(10)"
   ]
  },
  {
   "cell_type": "markdown",
   "metadata": {},
   "source": [
    "Vemos que si se logra reemplazar de forma correcta las edades. \n",
    "\n",
    "Ahora que ya tenemos agrupado los valores según el grupo de la edad, se analizará de forma separada los datos sin valores ausentes, verificando los datos entre media y mediana."
   ]
  },
  {
   "cell_type": "code",
   "execution_count": 101,
   "metadata": {},
   "outputs": [
    {
     "name": "stdout",
     "output_type": "stream",
     "text": [
      "dob_years           0\n",
      "education           0\n",
      "family_status       0\n",
      "children            0\n",
      "education_id        0\n",
      "family_status_id    0\n",
      "gender              0\n",
      "income_type         0\n",
      "debt                0\n",
      "total_income        0\n",
      "years_employed      0\n",
      "purpose             0\n",
      "age_group           0\n",
      "dtype: int64 \n",
      "\n",
      "19103\n"
     ]
    }
   ],
   "source": [
    "# nueva tabla sin valores ausentes\n",
    "new_data = data_wd[data_wd.years_employed.notnull() & data_wd.total_income.notnull()] \n",
    "# verificación sin valores ausentes\n",
    "print(new_data.isna().sum(), \"\\n\")\n",
    "# total datos\n",
    "print(len(new_data))"
   ]
  },
  {
   "cell_type": "markdown",
   "metadata": {},
   "source": [
    "Tenemos un total de 19,103 datos y hemos comprobado que no tenemos valores ausentes en las columnas. \n",
    "\n",
    "Ahora con estos datos, vamos a verificar cuál es el promedio y mediana del ingreso total de los clientes, pero agrupado en 4 categorías: `gender`, `income_type`, `education` y `age_group`, de esta forma logramos generar una correcta distribución de los datos, y que no esté segmentado o concentrado los datos, en una categoría específica. "
   ]
  },
  {
   "cell_type": "code",
   "execution_count": 102,
   "metadata": {},
   "outputs": [
    {
     "data": {
      "text/html": [
       "<div>\n",
       "<style scoped>\n",
       "    .dataframe tbody tr th:only-of-type {\n",
       "        vertical-align: middle;\n",
       "    }\n",
       "\n",
       "    .dataframe tbody tr th {\n",
       "        vertical-align: top;\n",
       "    }\n",
       "\n",
       "    .dataframe thead tr th {\n",
       "        text-align: left;\n",
       "    }\n",
       "\n",
       "    .dataframe thead tr:last-of-type th {\n",
       "        text-align: right;\n",
       "    }\n",
       "</style>\n",
       "<table border=\"1\" class=\"dataframe\">\n",
       "  <thead>\n",
       "    <tr>\n",
       "      <th></th>\n",
       "      <th></th>\n",
       "      <th></th>\n",
       "      <th></th>\n",
       "      <th>mean</th>\n",
       "      <th>median</th>\n",
       "    </tr>\n",
       "    <tr>\n",
       "      <th></th>\n",
       "      <th></th>\n",
       "      <th></th>\n",
       "      <th></th>\n",
       "      <th>total_income</th>\n",
       "      <th>total_income</th>\n",
       "    </tr>\n",
       "    <tr>\n",
       "      <th>gender</th>\n",
       "      <th>income_type</th>\n",
       "      <th>education</th>\n",
       "      <th>age_group</th>\n",
       "      <th></th>\n",
       "      <th></th>\n",
       "    </tr>\n",
       "  </thead>\n",
       "  <tbody>\n",
       "    <tr>\n",
       "      <th rowspan=\"15\" valign=\"top\">F</th>\n",
       "      <th rowspan=\"15\" valign=\"top\">business</th>\n",
       "      <th rowspan=\"4\" valign=\"top\">bachelor's degree</th>\n",
       "      <th>adult</th>\n",
       "      <td>35474.599211</td>\n",
       "      <td>31154.9700</td>\n",
       "    </tr>\n",
       "    <tr>\n",
       "      <th>elder</th>\n",
       "      <td>28270.375222</td>\n",
       "      <td>26948.7450</td>\n",
       "    </tr>\n",
       "    <tr>\n",
       "      <th>older adult</th>\n",
       "      <td>40252.309852</td>\n",
       "      <td>31645.3220</td>\n",
       "    </tr>\n",
       "    <tr>\n",
       "      <th>young adult</th>\n",
       "      <td>29534.988228</td>\n",
       "      <td>26954.6920</td>\n",
       "    </tr>\n",
       "    <tr>\n",
       "      <th rowspan=\"3\" valign=\"top\">primary education</th>\n",
       "      <th>adult</th>\n",
       "      <td>26361.985182</td>\n",
       "      <td>27305.9010</td>\n",
       "    </tr>\n",
       "    <tr>\n",
       "      <th>older adult</th>\n",
       "      <td>15518.346000</td>\n",
       "      <td>15518.3460</td>\n",
       "    </tr>\n",
       "    <tr>\n",
       "      <th>young adult</th>\n",
       "      <td>12663.581000</td>\n",
       "      <td>12663.5810</td>\n",
       "    </tr>\n",
       "    <tr>\n",
       "      <th rowspan=\"4\" valign=\"top\">secondary education</th>\n",
       "      <th>adult</th>\n",
       "      <td>26374.205971</td>\n",
       "      <td>23668.5580</td>\n",
       "    </tr>\n",
       "    <tr>\n",
       "      <th>elder</th>\n",
       "      <td>32642.118867</td>\n",
       "      <td>29127.8650</td>\n",
       "    </tr>\n",
       "    <tr>\n",
       "      <th>older adult</th>\n",
       "      <td>26603.387153</td>\n",
       "      <td>23344.8490</td>\n",
       "    </tr>\n",
       "    <tr>\n",
       "      <th>young adult</th>\n",
       "      <td>23441.835571</td>\n",
       "      <td>21102.8980</td>\n",
       "    </tr>\n",
       "    <tr>\n",
       "      <th rowspan=\"4\" valign=\"top\">some college</th>\n",
       "      <th>adult</th>\n",
       "      <td>34254.139728</td>\n",
       "      <td>30643.1370</td>\n",
       "    </tr>\n",
       "    <tr>\n",
       "      <th>elder</th>\n",
       "      <td>20094.359000</td>\n",
       "      <td>20094.3590</td>\n",
       "    </tr>\n",
       "    <tr>\n",
       "      <th>older adult</th>\n",
       "      <td>37664.566600</td>\n",
       "      <td>37354.7975</td>\n",
       "    </tr>\n",
       "    <tr>\n",
       "      <th>young adult</th>\n",
       "      <td>24962.318845</td>\n",
       "      <td>21574.1100</td>\n",
       "    </tr>\n",
       "  </tbody>\n",
       "</table>\n",
       "</div>"
      ],
      "text/plain": [
       "                                                            mean       median\n",
       "                                                    total_income total_income\n",
       "gender income_type education           age_group                             \n",
       "F      business    bachelor's degree   adult        35474.599211   31154.9700\n",
       "                                       elder        28270.375222   26948.7450\n",
       "                                       older adult  40252.309852   31645.3220\n",
       "                                       young adult  29534.988228   26954.6920\n",
       "                   primary education   adult        26361.985182   27305.9010\n",
       "                                       older adult  15518.346000   15518.3460\n",
       "                                       young adult  12663.581000   12663.5810\n",
       "                   secondary education adult        26374.205971   23668.5580\n",
       "                                       elder        32642.118867   29127.8650\n",
       "                                       older adult  26603.387153   23344.8490\n",
       "                                       young adult  23441.835571   21102.8980\n",
       "                   some college        adult        34254.139728   30643.1370\n",
       "                                       elder        20094.359000   20094.3590\n",
       "                                       older adult  37664.566600   37354.7975\n",
       "                                       young adult  24962.318845   21574.1100"
      ]
     },
     "execution_count": 102,
     "metadata": {},
     "output_type": "execute_result"
    }
   ],
   "source": [
    "# pivot_table con la media y mediana de `total_income`\n",
    "new_data_mean = pd.pivot_table(new_data, \n",
    "                               values=\"total_income\", \n",
    "                               index=[\"gender\", \"income_type\", \"education\", \"age_group\"], \n",
    "                               aggfunc=[\"mean\", \"median\"]\n",
    ")\n",
    "\n",
    "new_data_mean.head(15)"
   ]
  },
  {
   "cell_type": "markdown",
   "metadata": {},
   "source": [
    "Al parecer no hay mucha diferencia entre el promedio y la mediana, sin embargo, vimos que a nivel del `total_income` habían muchos datos distribuidos, el cual los últimos y más altos podrían ser datos atípicos. Por lo tanto, para obtener un mejor resultado, se utiliza la mediana. "
   ]
  },
  {
   "cell_type": "code",
   "execution_count": 103,
   "metadata": {},
   "outputs": [
    {
     "data": {
      "text/html": [
       "<div>\n",
       "<style scoped>\n",
       "    .dataframe tbody tr th:only-of-type {\n",
       "        vertical-align: middle;\n",
       "    }\n",
       "\n",
       "    .dataframe tbody tr th {\n",
       "        vertical-align: top;\n",
       "    }\n",
       "\n",
       "    .dataframe thead th {\n",
       "        text-align: right;\n",
       "    }\n",
       "</style>\n",
       "<table border=\"1\" class=\"dataframe\">\n",
       "  <thead>\n",
       "    <tr style=\"text-align: right;\">\n",
       "      <th></th>\n",
       "      <th></th>\n",
       "      <th></th>\n",
       "      <th></th>\n",
       "      <th>total_income</th>\n",
       "    </tr>\n",
       "    <tr>\n",
       "      <th>gender</th>\n",
       "      <th>income_type</th>\n",
       "      <th>education</th>\n",
       "      <th>age_group</th>\n",
       "      <th></th>\n",
       "    </tr>\n",
       "  </thead>\n",
       "  <tbody>\n",
       "    <tr>\n",
       "      <th rowspan=\"5\" valign=\"top\">F</th>\n",
       "      <th rowspan=\"5\" valign=\"top\">business</th>\n",
       "      <th rowspan=\"4\" valign=\"top\">bachelor's degree</th>\n",
       "      <th>adult</th>\n",
       "      <td>31154.9700</td>\n",
       "    </tr>\n",
       "    <tr>\n",
       "      <th>elder</th>\n",
       "      <td>26948.7450</td>\n",
       "    </tr>\n",
       "    <tr>\n",
       "      <th>older adult</th>\n",
       "      <td>31645.3220</td>\n",
       "    </tr>\n",
       "    <tr>\n",
       "      <th>young adult</th>\n",
       "      <td>26954.6920</td>\n",
       "    </tr>\n",
       "    <tr>\n",
       "      <th>primary education</th>\n",
       "      <th>adult</th>\n",
       "      <td>27305.9010</td>\n",
       "    </tr>\n",
       "    <tr>\n",
       "      <th>...</th>\n",
       "      <th>...</th>\n",
       "      <th>...</th>\n",
       "      <th>...</th>\n",
       "      <td>...</td>\n",
       "    </tr>\n",
       "    <tr>\n",
       "      <th rowspan=\"5\" valign=\"top\">M</th>\n",
       "      <th rowspan=\"3\" valign=\"top\">retiree</th>\n",
       "      <th>secondary education</th>\n",
       "      <th>young adult</th>\n",
       "      <td>15673.9190</td>\n",
       "    </tr>\n",
       "    <tr>\n",
       "      <th rowspan=\"2\" valign=\"top\">some college</th>\n",
       "      <th>adult</th>\n",
       "      <td>16128.3545</td>\n",
       "    </tr>\n",
       "    <tr>\n",
       "      <th>elder</th>\n",
       "      <td>54236.2970</td>\n",
       "    </tr>\n",
       "    <tr>\n",
       "      <th>student</th>\n",
       "      <th>bachelor's degree</th>\n",
       "      <th>young adult</th>\n",
       "      <td>15712.2600</td>\n",
       "    </tr>\n",
       "    <tr>\n",
       "      <th>unemployed</th>\n",
       "      <th>secondary education</th>\n",
       "      <th>adult</th>\n",
       "      <td>9593.1190</td>\n",
       "    </tr>\n",
       "  </tbody>\n",
       "</table>\n",
       "<p>115 rows × 1 columns</p>\n",
       "</div>"
      ],
      "text/plain": [
       "                                                    total_income\n",
       "gender income_type education           age_group                \n",
       "F      business    bachelor's degree   adult          31154.9700\n",
       "                                       elder          26948.7450\n",
       "                                       older adult    31645.3220\n",
       "                                       young adult    26954.6920\n",
       "                   primary education   adult          27305.9010\n",
       "...                                                          ...\n",
       "M      retiree     secondary education young adult    15673.9190\n",
       "                   some college        adult          16128.3545\n",
       "                                       elder          54236.2970\n",
       "       student     bachelor's degree   young adult    15712.2600\n",
       "       unemployed  secondary education adult           9593.1190\n",
       "\n",
       "[115 rows x 1 columns]"
      ]
     },
     "execution_count": 103,
     "metadata": {},
     "output_type": "execute_result"
    }
   ],
   "source": [
    "# se utiliza la media\n",
    "new_data_median = pd.pivot_table(new_data, \n",
    "                               values=\"total_income\", \n",
    "                               index=[\"gender\", \"income_type\", \"education\", \"age_group\"], \n",
    "                               aggfunc=\"median\"\n",
    ")\n",
    "new_data_median"
   ]
  },
  {
   "cell_type": "markdown",
   "metadata": {},
   "source": [
    "Con estos datos, se procede a reemplazar los valores de igual forma que se hizo para arreglar los datos de `days_employed`."
   ]
  },
  {
   "cell_type": "code",
   "execution_count": 104,
   "metadata": {},
   "outputs": [
    {
     "data": {
      "text/html": [
       "<div>\n",
       "<style scoped>\n",
       "    .dataframe tbody tr th:only-of-type {\n",
       "        vertical-align: middle;\n",
       "    }\n",
       "\n",
       "    .dataframe tbody tr th {\n",
       "        vertical-align: top;\n",
       "    }\n",
       "\n",
       "    .dataframe thead th {\n",
       "        text-align: right;\n",
       "    }\n",
       "</style>\n",
       "<table border=\"1\" class=\"dataframe\">\n",
       "  <thead>\n",
       "    <tr style=\"text-align: right;\">\n",
       "      <th></th>\n",
       "      <th></th>\n",
       "      <th></th>\n",
       "      <th></th>\n",
       "      <th>dob_years</th>\n",
       "      <th>family_status</th>\n",
       "      <th>children</th>\n",
       "      <th>education_id</th>\n",
       "      <th>family_status_id</th>\n",
       "      <th>debt</th>\n",
       "      <th>total_income</th>\n",
       "      <th>years_employed</th>\n",
       "      <th>purpose</th>\n",
       "    </tr>\n",
       "    <tr>\n",
       "      <th>gender</th>\n",
       "      <th>income_type</th>\n",
       "      <th>education</th>\n",
       "      <th>age_group</th>\n",
       "      <th></th>\n",
       "      <th></th>\n",
       "      <th></th>\n",
       "      <th></th>\n",
       "      <th></th>\n",
       "      <th></th>\n",
       "      <th></th>\n",
       "      <th></th>\n",
       "      <th></th>\n",
       "    </tr>\n",
       "  </thead>\n",
       "  <tbody>\n",
       "    <tr>\n",
       "      <th rowspan=\"2\" valign=\"top\">F</th>\n",
       "      <th rowspan=\"2\" valign=\"top\">employee</th>\n",
       "      <th>bachelor's degree</th>\n",
       "      <th>adult</th>\n",
       "      <td>42</td>\n",
       "      <td>married</td>\n",
       "      <td>1</td>\n",
       "      <td>0</td>\n",
       "      <td>0</td>\n",
       "      <td>0</td>\n",
       "      <td>40620.102</td>\n",
       "      <td>23.116912</td>\n",
       "      <td>housing transactions</td>\n",
       "    </tr>\n",
       "    <tr>\n",
       "      <th>secondary education</th>\n",
       "      <th>adult</th>\n",
       "      <td>36</td>\n",
       "      <td>married</td>\n",
       "      <td>1</td>\n",
       "      <td>1</td>\n",
       "      <td>0</td>\n",
       "      <td>0</td>\n",
       "      <td>17932.802</td>\n",
       "      <td>11.026860</td>\n",
       "      <td>purchase of a car</td>\n",
       "    </tr>\n",
       "    <tr>\n",
       "      <th rowspan=\"2\" valign=\"top\">M</th>\n",
       "      <th rowspan=\"2\" valign=\"top\">employee</th>\n",
       "      <th rowspan=\"2\" valign=\"top\">secondary education</th>\n",
       "      <th>adult</th>\n",
       "      <td>33</td>\n",
       "      <td>married</td>\n",
       "      <td>0</td>\n",
       "      <td>1</td>\n",
       "      <td>0</td>\n",
       "      <td>0</td>\n",
       "      <td>23341.752</td>\n",
       "      <td>15.406637</td>\n",
       "      <td>housing transactions</td>\n",
       "    </tr>\n",
       "    <tr>\n",
       "      <th>adult</th>\n",
       "      <td>32</td>\n",
       "      <td>married</td>\n",
       "      <td>3</td>\n",
       "      <td>1</td>\n",
       "      <td>0</td>\n",
       "      <td>0</td>\n",
       "      <td>42820.568</td>\n",
       "      <td>11.300677</td>\n",
       "      <td>getting an education</td>\n",
       "    </tr>\n",
       "    <tr>\n",
       "      <th>F</th>\n",
       "      <th>retiree</th>\n",
       "      <th>secondary education</th>\n",
       "      <th>older adult</th>\n",
       "      <td>53</td>\n",
       "      <td>civil partnership</td>\n",
       "      <td>0</td>\n",
       "      <td>1</td>\n",
       "      <td>1</td>\n",
       "      <td>0</td>\n",
       "      <td>25378.572</td>\n",
       "      <td>6.581900</td>\n",
       "      <td>wedding ceremony</td>\n",
       "    </tr>\n",
       "  </tbody>\n",
       "</table>\n",
       "</div>"
      ],
      "text/plain": [
       "                                                    dob_years  \\\n",
       "gender income_type education           age_group                \n",
       "F      employee    bachelor's degree   adult               42   \n",
       "                   secondary education adult               36   \n",
       "M      employee    secondary education adult               33   \n",
       "                                       adult               32   \n",
       "F      retiree     secondary education older adult         53   \n",
       "\n",
       "                                                        family_status  \\\n",
       "gender income_type education           age_group                        \n",
       "F      employee    bachelor's degree   adult                  married   \n",
       "                   secondary education adult                  married   \n",
       "M      employee    secondary education adult                  married   \n",
       "                                       adult                  married   \n",
       "F      retiree     secondary education older adult  civil partnership   \n",
       "\n",
       "                                                    children  education_id  \\\n",
       "gender income_type education           age_group                             \n",
       "F      employee    bachelor's degree   adult               1             0   \n",
       "                   secondary education adult               1             1   \n",
       "M      employee    secondary education adult               0             1   \n",
       "                                       adult               3             1   \n",
       "F      retiree     secondary education older adult         0             1   \n",
       "\n",
       "                                                    family_status_id  debt  \\\n",
       "gender income_type education           age_group                             \n",
       "F      employee    bachelor's degree   adult                       0     0   \n",
       "                   secondary education adult                       0     0   \n",
       "M      employee    secondary education adult                       0     0   \n",
       "                                       adult                       0     0   \n",
       "F      retiree     secondary education older adult                 1     0   \n",
       "\n",
       "                                                    total_income  \\\n",
       "gender income_type education           age_group                   \n",
       "F      employee    bachelor's degree   adult           40620.102   \n",
       "                   secondary education adult           17932.802   \n",
       "M      employee    secondary education adult           23341.752   \n",
       "                                       adult           42820.568   \n",
       "F      retiree     secondary education older adult     25378.572   \n",
       "\n",
       "                                                    years_employed  \\\n",
       "gender income_type education           age_group                     \n",
       "F      employee    bachelor's degree   adult             23.116912   \n",
       "                   secondary education adult             11.026860   \n",
       "M      employee    secondary education adult             15.406637   \n",
       "                                       adult             11.300677   \n",
       "F      retiree     secondary education older adult        6.581900   \n",
       "\n",
       "                                                                 purpose  \n",
       "gender income_type education           age_group                          \n",
       "F      employee    bachelor's degree   adult        housing transactions  \n",
       "                   secondary education adult           purchase of a car  \n",
       "M      employee    secondary education adult        housing transactions  \n",
       "                                       adult        getting an education  \n",
       "F      retiree     secondary education older adult      wedding ceremony  "
      ]
     },
     "execution_count": 104,
     "metadata": {},
     "output_type": "execute_result"
    }
   ],
   "source": [
    "# se pone como índice las categorías en data_wd\n",
    "data_wd = data_wd.set_index([\"gender\", \"income_type\", \"education\", \"age_group\"])\n",
    "data_wd.head()"
   ]
  },
  {
   "cell_type": "code",
   "execution_count": 105,
   "metadata": {
    "scrolled": false
   },
   "outputs": [
    {
     "data": {
      "text/html": [
       "<div>\n",
       "<style scoped>\n",
       "    .dataframe tbody tr th:only-of-type {\n",
       "        vertical-align: middle;\n",
       "    }\n",
       "\n",
       "    .dataframe tbody tr th {\n",
       "        vertical-align: top;\n",
       "    }\n",
       "\n",
       "    .dataframe thead th {\n",
       "        text-align: right;\n",
       "    }\n",
       "</style>\n",
       "<table border=\"1\" class=\"dataframe\">\n",
       "  <thead>\n",
       "    <tr style=\"text-align: right;\">\n",
       "      <th></th>\n",
       "      <th></th>\n",
       "      <th></th>\n",
       "      <th></th>\n",
       "      <th>dob_years</th>\n",
       "      <th>family_status</th>\n",
       "      <th>children</th>\n",
       "      <th>education_id</th>\n",
       "      <th>family_status_id</th>\n",
       "      <th>debt</th>\n",
       "      <th>total_income</th>\n",
       "      <th>years_employed</th>\n",
       "      <th>purpose</th>\n",
       "      <th>total_income_median</th>\n",
       "    </tr>\n",
       "    <tr>\n",
       "      <th>gender</th>\n",
       "      <th>income_type</th>\n",
       "      <th>education</th>\n",
       "      <th>age_group</th>\n",
       "      <th></th>\n",
       "      <th></th>\n",
       "      <th></th>\n",
       "      <th></th>\n",
       "      <th></th>\n",
       "      <th></th>\n",
       "      <th></th>\n",
       "      <th></th>\n",
       "      <th></th>\n",
       "      <th></th>\n",
       "    </tr>\n",
       "  </thead>\n",
       "  <tbody>\n",
       "    <tr>\n",
       "      <th rowspan=\"4\" valign=\"top\">F</th>\n",
       "      <th>employee</th>\n",
       "      <th>secondary education</th>\n",
       "      <th>young adult</th>\n",
       "      <td>28</td>\n",
       "      <td>married</td>\n",
       "      <td>1</td>\n",
       "      <td>1</td>\n",
       "      <td>0</td>\n",
       "      <td>1</td>\n",
       "      <td>17517.812</td>\n",
       "      <td>1.281329</td>\n",
       "      <td>getting an education</td>\n",
       "      <td>17214.0415</td>\n",
       "    </tr>\n",
       "    <tr>\n",
       "      <th rowspan=\"2\" valign=\"top\">business</th>\n",
       "      <th rowspan=\"2\" valign=\"top\">bachelor's degree</th>\n",
       "      <th>adult</th>\n",
       "      <td>42</td>\n",
       "      <td>married</td>\n",
       "      <td>0</td>\n",
       "      <td>0</td>\n",
       "      <td>0</td>\n",
       "      <td>0</td>\n",
       "      <td>51649.244</td>\n",
       "      <td>2.505182</td>\n",
       "      <td>housing transactions</td>\n",
       "      <td>31154.9700</td>\n",
       "    </tr>\n",
       "    <tr>\n",
       "      <th>adult</th>\n",
       "      <td>42</td>\n",
       "      <td>civil partnership</td>\n",
       "      <td>0</td>\n",
       "      <td>0</td>\n",
       "      <td>1</td>\n",
       "      <td>0</td>\n",
       "      <td>28489.529</td>\n",
       "      <td>1.108710</td>\n",
       "      <td>purchase of a car</td>\n",
       "      <td>31154.9700</td>\n",
       "    </tr>\n",
       "    <tr>\n",
       "      <th>retiree</th>\n",
       "      <th>secondary education</th>\n",
       "      <th>older adult</th>\n",
       "      <td>59</td>\n",
       "      <td>married</td>\n",
       "      <td>0</td>\n",
       "      <td>1</td>\n",
       "      <td>0</td>\n",
       "      <td>0</td>\n",
       "      <td>24618.344</td>\n",
       "      <td>7.109617</td>\n",
       "      <td>purchase of a car</td>\n",
       "      <td>18236.5040</td>\n",
       "    </tr>\n",
       "    <tr>\n",
       "      <th>M</th>\n",
       "      <th>employee</th>\n",
       "      <th>graduate degree</th>\n",
       "      <th>adult</th>\n",
       "      <td>37</td>\n",
       "      <td>divorced</td>\n",
       "      <td>1</td>\n",
       "      <td>4</td>\n",
       "      <td>3</td>\n",
       "      <td>0</td>\n",
       "      <td>18551.846</td>\n",
       "      <td>6.442279</td>\n",
       "      <td>real estate transactions</td>\n",
       "      <td>25161.5835</td>\n",
       "    </tr>\n",
       "    <tr>\n",
       "      <th rowspan=\"2\" valign=\"top\">F</th>\n",
       "      <th>business</th>\n",
       "      <th>secondary education</th>\n",
       "      <th>adult</th>\n",
       "      <td>43</td>\n",
       "      <td>civil partnership</td>\n",
       "      <td>1</td>\n",
       "      <td>1</td>\n",
       "      <td>1</td>\n",
       "      <td>0</td>\n",
       "      <td>35966.698</td>\n",
       "      <td>12.409087</td>\n",
       "      <td>housing transactions</td>\n",
       "      <td>23668.5580</td>\n",
       "    </tr>\n",
       "    <tr>\n",
       "      <th>retiree</th>\n",
       "      <th>secondary education</th>\n",
       "      <th>elder</th>\n",
       "      <td>67</td>\n",
       "      <td>married</td>\n",
       "      <td>0</td>\n",
       "      <td>1</td>\n",
       "      <td>0</td>\n",
       "      <td>0</td>\n",
       "      <td>24959.969</td>\n",
       "      <td>5.305336</td>\n",
       "      <td>purchase of a car</td>\n",
       "      <td>17369.6790</td>\n",
       "    </tr>\n",
       "    <tr>\n",
       "      <th rowspan=\"2\" valign=\"top\">M</th>\n",
       "      <th rowspan=\"2\" valign=\"top\">employee</th>\n",
       "      <th rowspan=\"2\" valign=\"top\">secondary education</th>\n",
       "      <th>adult</th>\n",
       "      <td>38</td>\n",
       "      <td>civil partnership</td>\n",
       "      <td>1</td>\n",
       "      <td>1</td>\n",
       "      <td>1</td>\n",
       "      <td>1</td>\n",
       "      <td>14347.610</td>\n",
       "      <td>5.789991</td>\n",
       "      <td>housing transactions</td>\n",
       "      <td>25757.8110</td>\n",
       "    </tr>\n",
       "    <tr>\n",
       "      <th>adult</th>\n",
       "      <td>38</td>\n",
       "      <td>married</td>\n",
       "      <td>3</td>\n",
       "      <td>1</td>\n",
       "      <td>0</td>\n",
       "      <td>1</td>\n",
       "      <td>39054.888</td>\n",
       "      <td>8.527347</td>\n",
       "      <td>purchase of a car</td>\n",
       "      <td>25757.8110</td>\n",
       "    </tr>\n",
       "    <tr>\n",
       "      <th>F</th>\n",
       "      <th>employee</th>\n",
       "      <th>secondary education</th>\n",
       "      <th>adult</th>\n",
       "      <td>40</td>\n",
       "      <td>married</td>\n",
       "      <td>2</td>\n",
       "      <td>1</td>\n",
       "      <td>0</td>\n",
       "      <td>0</td>\n",
       "      <td>13127.587</td>\n",
       "      <td>5.437007</td>\n",
       "      <td>purchase of a car</td>\n",
       "      <td>20173.2640</td>\n",
       "    </tr>\n",
       "  </tbody>\n",
       "</table>\n",
       "</div>"
      ],
      "text/plain": [
       "                                                    dob_years  \\\n",
       "gender income_type education           age_group                \n",
       "F      employee    secondary education young adult         28   \n",
       "       business    bachelor's degree   adult               42   \n",
       "                                       adult               42   \n",
       "       retiree     secondary education older adult         59   \n",
       "M      employee    graduate degree     adult               37   \n",
       "F      business    secondary education adult               43   \n",
       "       retiree     secondary education elder               67   \n",
       "M      employee    secondary education adult               38   \n",
       "                                       adult               38   \n",
       "F      employee    secondary education adult               40   \n",
       "\n",
       "                                                        family_status  \\\n",
       "gender income_type education           age_group                        \n",
       "F      employee    secondary education young adult            married   \n",
       "       business    bachelor's degree   adult                  married   \n",
       "                                       adult        civil partnership   \n",
       "       retiree     secondary education older adult            married   \n",
       "M      employee    graduate degree     adult                 divorced   \n",
       "F      business    secondary education adult        civil partnership   \n",
       "       retiree     secondary education elder                  married   \n",
       "M      employee    secondary education adult        civil partnership   \n",
       "                                       adult                  married   \n",
       "F      employee    secondary education adult                  married   \n",
       "\n",
       "                                                    children  education_id  \\\n",
       "gender income_type education           age_group                             \n",
       "F      employee    secondary education young adult         1             1   \n",
       "       business    bachelor's degree   adult               0             0   \n",
       "                                       adult               0             0   \n",
       "       retiree     secondary education older adult         0             1   \n",
       "M      employee    graduate degree     adult               1             4   \n",
       "F      business    secondary education adult               1             1   \n",
       "       retiree     secondary education elder               0             1   \n",
       "M      employee    secondary education adult               1             1   \n",
       "                                       adult               3             1   \n",
       "F      employee    secondary education adult               2             1   \n",
       "\n",
       "                                                    family_status_id  debt  \\\n",
       "gender income_type education           age_group                             \n",
       "F      employee    secondary education young adult                 0     1   \n",
       "       business    bachelor's degree   adult                       0     0   \n",
       "                                       adult                       1     0   \n",
       "       retiree     secondary education older adult                 0     0   \n",
       "M      employee    graduate degree     adult                       3     0   \n",
       "F      business    secondary education adult                       1     0   \n",
       "       retiree     secondary education elder                       0     0   \n",
       "M      employee    secondary education adult                       1     1   \n",
       "                                       adult                       0     1   \n",
       "F      employee    secondary education adult                       0     0   \n",
       "\n",
       "                                                    total_income  \\\n",
       "gender income_type education           age_group                   \n",
       "F      employee    secondary education young adult     17517.812   \n",
       "       business    bachelor's degree   adult           51649.244   \n",
       "                                       adult           28489.529   \n",
       "       retiree     secondary education older adult     24618.344   \n",
       "M      employee    graduate degree     adult           18551.846   \n",
       "F      business    secondary education adult           35966.698   \n",
       "       retiree     secondary education elder           24959.969   \n",
       "M      employee    secondary education adult           14347.610   \n",
       "                                       adult           39054.888   \n",
       "F      employee    secondary education adult           13127.587   \n",
       "\n",
       "                                                    years_employed  \\\n",
       "gender income_type education           age_group                     \n",
       "F      employee    secondary education young adult        1.281329   \n",
       "       business    bachelor's degree   adult              2.505182   \n",
       "                                       adult              1.108710   \n",
       "       retiree     secondary education older adult        7.109617   \n",
       "M      employee    graduate degree     adult              6.442279   \n",
       "F      business    secondary education adult             12.409087   \n",
       "       retiree     secondary education elder              5.305336   \n",
       "M      employee    secondary education adult              5.789991   \n",
       "                                       adult              8.527347   \n",
       "F      employee    secondary education adult              5.437007   \n",
       "\n",
       "                                                                     purpose  \\\n",
       "gender income_type education           age_group                               \n",
       "F      employee    secondary education young adult      getting an education   \n",
       "       business    bachelor's degree   adult            housing transactions   \n",
       "                                       adult               purchase of a car   \n",
       "       retiree     secondary education older adult         purchase of a car   \n",
       "M      employee    graduate degree     adult        real estate transactions   \n",
       "F      business    secondary education adult            housing transactions   \n",
       "       retiree     secondary education elder               purchase of a car   \n",
       "M      employee    secondary education adult            housing transactions   \n",
       "                                       adult               purchase of a car   \n",
       "F      employee    secondary education adult               purchase of a car   \n",
       "\n",
       "                                                    total_income_median  \n",
       "gender income_type education           age_group                         \n",
       "F      employee    secondary education young adult           17214.0415  \n",
       "       business    bachelor's degree   adult                 31154.9700  \n",
       "                                       adult                 31154.9700  \n",
       "       retiree     secondary education older adult           18236.5040  \n",
       "M      employee    graduate degree     adult                 25161.5835  \n",
       "F      business    secondary education adult                 23668.5580  \n",
       "       retiree     secondary education elder                 17369.6790  \n",
       "M      employee    secondary education adult                 25757.8110  \n",
       "                                       adult                 25757.8110  \n",
       "F      employee    secondary education adult                 20173.2640  "
      ]
     },
     "execution_count": 105,
     "metadata": {},
     "output_type": "execute_result"
    }
   ],
   "source": [
    "# se añade la columna `total_income_median` agregando la información de `new_data_median`\n",
    "data_wd[\"total_income_median\"] = new_data_median[\"total_income\"]\n",
    "data_wd.tail(10)"
   ]
  },
  {
   "cell_type": "code",
   "execution_count": 106,
   "metadata": {},
   "outputs": [],
   "source": [
    "# se reemplaza en `total_income` los valores de `total_income_median` si hay valores nulos\n",
    "data_wd['total_income'] = data_wd.apply(lambda x: x['total_income_median'] if pd.isnull(x['total_income']) == True else x['total_income'], axis=1)"
   ]
  },
  {
   "cell_type": "code",
   "execution_count": 107,
   "metadata": {},
   "outputs": [],
   "source": [
    "# se elimina la columna `total_income_median`\n",
    "data_wd.drop(\"total_income_median\", axis=1, inplace=True)"
   ]
  },
  {
   "cell_type": "code",
   "execution_count": 108,
   "metadata": {},
   "outputs": [],
   "source": [
    "# se reinicia los índices\n",
    "data_wd.reset_index(inplace=True)"
   ]
  },
  {
   "cell_type": "markdown",
   "metadata": {},
   "source": [
    "Y verificamos si tenemos aún valores nulos en la columna `total_income`"
   ]
  },
  {
   "cell_type": "code",
   "execution_count": 109,
   "metadata": {},
   "outputs": [
    {
     "name": "stdout",
     "output_type": "stream",
     "text": [
      "gender                 0\n",
      "income_type            0\n",
      "education              0\n",
      "age_group              0\n",
      "dob_years              0\n",
      "family_status          0\n",
      "children               0\n",
      "education_id           0\n",
      "family_status_id       0\n",
      "debt                   0\n",
      "total_income           3\n",
      "years_employed      2105\n",
      "purpose                0\n",
      "dtype: int64\n"
     ]
    }
   ],
   "source": [
    "# valores ausentes verificación\n",
    "print(data_wd.isna().sum())"
   ]
  },
  {
   "cell_type": "markdown",
   "metadata": {},
   "source": [
    "Vemos que quedaron 3 valores ausentes en `total_income`, verifiquemos qué filas son: "
   ]
  },
  {
   "cell_type": "code",
   "execution_count": 110,
   "metadata": {},
   "outputs": [
    {
     "data": {
      "text/html": [
       "<div>\n",
       "<style scoped>\n",
       "    .dataframe tbody tr th:only-of-type {\n",
       "        vertical-align: middle;\n",
       "    }\n",
       "\n",
       "    .dataframe tbody tr th {\n",
       "        vertical-align: top;\n",
       "    }\n",
       "\n",
       "    .dataframe thead th {\n",
       "        text-align: right;\n",
       "    }\n",
       "</style>\n",
       "<table border=\"1\" class=\"dataframe\">\n",
       "  <thead>\n",
       "    <tr style=\"text-align: right;\">\n",
       "      <th></th>\n",
       "      <th>gender</th>\n",
       "      <th>income_type</th>\n",
       "      <th>education</th>\n",
       "      <th>age_group</th>\n",
       "      <th>dob_years</th>\n",
       "      <th>family_status</th>\n",
       "      <th>children</th>\n",
       "      <th>education_id</th>\n",
       "      <th>family_status_id</th>\n",
       "      <th>debt</th>\n",
       "      <th>total_income</th>\n",
       "      <th>years_employed</th>\n",
       "      <th>purpose</th>\n",
       "    </tr>\n",
       "  </thead>\n",
       "  <tbody>\n",
       "    <tr>\n",
       "      <th>5910</th>\n",
       "      <td>M</td>\n",
       "      <td>entrepreneur</td>\n",
       "      <td>bachelor's degree</td>\n",
       "      <td>older adult</td>\n",
       "      <td>58</td>\n",
       "      <td>married</td>\n",
       "      <td>0</td>\n",
       "      <td>0</td>\n",
       "      <td>0</td>\n",
       "      <td>0</td>\n",
       "      <td>NaN</td>\n",
       "      <td>NaN</td>\n",
       "      <td>real estate transactions</td>\n",
       "    </tr>\n",
       "    <tr>\n",
       "      <th>15436</th>\n",
       "      <td>F</td>\n",
       "      <td>retiree</td>\n",
       "      <td>some college</td>\n",
       "      <td>elder</td>\n",
       "      <td>67</td>\n",
       "      <td>unmarried</td>\n",
       "      <td>0</td>\n",
       "      <td>2</td>\n",
       "      <td>4</td>\n",
       "      <td>0</td>\n",
       "      <td>NaN</td>\n",
       "      <td>NaN</td>\n",
       "      <td>purchase of a car</td>\n",
       "    </tr>\n",
       "    <tr>\n",
       "      <th>17481</th>\n",
       "      <td>F</td>\n",
       "      <td>retiree</td>\n",
       "      <td>primary education</td>\n",
       "      <td>adult</td>\n",
       "      <td>45</td>\n",
       "      <td>married</td>\n",
       "      <td>1</td>\n",
       "      <td>3</td>\n",
       "      <td>0</td>\n",
       "      <td>0</td>\n",
       "      <td>NaN</td>\n",
       "      <td>NaN</td>\n",
       "      <td>real estate transactions</td>\n",
       "    </tr>\n",
       "  </tbody>\n",
       "</table>\n",
       "</div>"
      ],
      "text/plain": [
       "      gender   income_type          education    age_group  dob_years  \\\n",
       "5910       M  entrepreneur  bachelor's degree  older adult         58   \n",
       "15436      F       retiree       some college        elder         67   \n",
       "17481      F       retiree  primary education        adult         45   \n",
       "\n",
       "      family_status  children  education_id  family_status_id  debt  \\\n",
       "5910        married         0             0                 0     0   \n",
       "15436     unmarried         0             2                 4     0   \n",
       "17481       married         1             3                 0     0   \n",
       "\n",
       "       total_income  years_employed                   purpose  \n",
       "5910            NaN             NaN  real estate transactions  \n",
       "15436           NaN             NaN         purchase of a car  \n",
       "17481           NaN             NaN  real estate transactions  "
      ]
     },
     "execution_count": 110,
     "metadata": {},
     "output_type": "execute_result"
    }
   ],
   "source": [
    "# filtro de valores ausentes en `total_income`\n",
    "missing_values_ti = data_wd[data_wd.total_income.isnull()]\n",
    "missing_values_ti"
   ]
  },
  {
   "cell_type": "markdown",
   "metadata": {},
   "source": [
    "Al parecer no había dato de la mediana del `total_income` con las columnas `gender`, `income_type`, `education`, `age_group`. En este caso, es mejor eliminar estas columnas, ya que no se tiene una información certera de cómo completar los `nan` y también porque las tres filas representa un porcentaje mínimo en la cantidad de los datos que tenemos, por lo que no afectará en la información general. "
   ]
  },
  {
   "cell_type": "code",
   "execution_count": 111,
   "metadata": {},
   "outputs": [],
   "source": [
    "# se eliminan las filas\n",
    "data_wd = data_wd.drop([5910, 15436, 17481])"
   ]
  },
  {
   "cell_type": "code",
   "execution_count": 112,
   "metadata": {},
   "outputs": [],
   "source": [
    "# resetamos el índice\n",
    "data_wd.reset_index(inplace=True, drop=True)"
   ]
  },
  {
   "cell_type": "markdown",
   "metadata": {},
   "source": [
    "Y verificamos nuevamente que no haya `NaNs`"
   ]
  },
  {
   "cell_type": "code",
   "execution_count": 113,
   "metadata": {
    "scrolled": true
   },
   "outputs": [
    {
     "name": "stdout",
     "output_type": "stream",
     "text": [
      "gender                 0\n",
      "income_type            0\n",
      "education              0\n",
      "age_group              0\n",
      "dob_years              0\n",
      "family_status          0\n",
      "children               0\n",
      "education_id           0\n",
      "family_status_id       0\n",
      "debt                   0\n",
      "total_income           0\n",
      "years_employed      2102\n",
      "purpose                0\n",
      "dtype: int64\n"
     ]
    }
   ],
   "source": [
    "# valores nulos\n",
    "print(data_wd.isna().sum())"
   ]
  },
  {
   "cell_type": "markdown",
   "metadata": {},
   "source": [
    "Finalmente, se ha logrado limpiar los datos en `total_income`"
   ]
  },
  {
   "cell_type": "markdown",
   "metadata": {},
   "source": [
    "###  Restaurar valores ausentes en `days_employed`"
   ]
  },
  {
   "cell_type": "markdown",
   "metadata": {},
   "source": [
    "Ahora se analizará la columna `years_employed` y cómo reemplazar los valores vacíos de esta columna. Se procederá a realizar algo similar a lo que se hizo con `total_income`."
   ]
  },
  {
   "cell_type": "code",
   "execution_count": 114,
   "metadata": {
    "pycharm": {
     "name": "#%%\n"
    }
   },
   "outputs": [
    {
     "name": "stdout",
     "output_type": "stream",
     "text": [
      "gender              0\n",
      "income_type         0\n",
      "education           0\n",
      "age_group           0\n",
      "dob_years           0\n",
      "family_status       0\n",
      "children            0\n",
      "education_id        0\n",
      "family_status_id    0\n",
      "debt                0\n",
      "total_income        0\n",
      "years_employed      0\n",
      "purpose             0\n",
      "dtype: int64 \n",
      "\n",
      "19103\n"
     ]
    }
   ],
   "source": [
    "# tabla sin valores ausentes \n",
    "new_data_de = data_wd[data_wd.years_employed.notnull()]\n",
    "# visualización de datos\n",
    "print(new_data_de.isna().sum(), \"\\n\")\n",
    "# total datos\n",
    "print(len(new_data_de))"
   ]
  },
  {
   "cell_type": "markdown",
   "metadata": {},
   "source": [
    "Realizamos igual un `pivot_table` para verificar los datos que podrían tener los valores ausentes."
   ]
  },
  {
   "cell_type": "code",
   "execution_count": 115,
   "metadata": {},
   "outputs": [
    {
     "data": {
      "text/html": [
       "<div>\n",
       "<style scoped>\n",
       "    .dataframe tbody tr th:only-of-type {\n",
       "        vertical-align: middle;\n",
       "    }\n",
       "\n",
       "    .dataframe tbody tr th {\n",
       "        vertical-align: top;\n",
       "    }\n",
       "\n",
       "    .dataframe thead tr th {\n",
       "        text-align: left;\n",
       "    }\n",
       "\n",
       "    .dataframe thead tr:last-of-type th {\n",
       "        text-align: right;\n",
       "    }\n",
       "</style>\n",
       "<table border=\"1\" class=\"dataframe\">\n",
       "  <thead>\n",
       "    <tr>\n",
       "      <th></th>\n",
       "      <th></th>\n",
       "      <th></th>\n",
       "      <th></th>\n",
       "      <th>mean</th>\n",
       "      <th>median</th>\n",
       "    </tr>\n",
       "    <tr>\n",
       "      <th></th>\n",
       "      <th></th>\n",
       "      <th></th>\n",
       "      <th></th>\n",
       "      <th>years_employed</th>\n",
       "      <th>years_employed</th>\n",
       "    </tr>\n",
       "    <tr>\n",
       "      <th>gender</th>\n",
       "      <th>income_type</th>\n",
       "      <th>education</th>\n",
       "      <th>age_group</th>\n",
       "      <th></th>\n",
       "      <th></th>\n",
       "    </tr>\n",
       "  </thead>\n",
       "  <tbody>\n",
       "    <tr>\n",
       "      <th rowspan=\"15\" valign=\"top\">F</th>\n",
       "      <th rowspan=\"15\" valign=\"top\">business</th>\n",
       "      <th rowspan=\"4\" valign=\"top\">bachelor's degree</th>\n",
       "      <th>adult</th>\n",
       "      <td>5.862674</td>\n",
       "      <td>4.623750</td>\n",
       "    </tr>\n",
       "    <tr>\n",
       "      <th>elder</th>\n",
       "      <td>11.765261</td>\n",
       "      <td>9.607860</td>\n",
       "    </tr>\n",
       "    <tr>\n",
       "      <th>older adult</th>\n",
       "      <td>8.573912</td>\n",
       "      <td>6.207103</td>\n",
       "    </tr>\n",
       "    <tr>\n",
       "      <th>young adult</th>\n",
       "      <td>3.140194</td>\n",
       "      <td>2.604099</td>\n",
       "    </tr>\n",
       "    <tr>\n",
       "      <th rowspan=\"3\" valign=\"top\">primary education</th>\n",
       "      <th>adult</th>\n",
       "      <td>4.860597</td>\n",
       "      <td>3.238318</td>\n",
       "    </tr>\n",
       "    <tr>\n",
       "      <th>older adult</th>\n",
       "      <td>2.365130</td>\n",
       "      <td>2.365130</td>\n",
       "    </tr>\n",
       "    <tr>\n",
       "      <th>young adult</th>\n",
       "      <td>2.822520</td>\n",
       "      <td>2.822520</td>\n",
       "    </tr>\n",
       "    <tr>\n",
       "      <th rowspan=\"4\" valign=\"top\">secondary education</th>\n",
       "      <th>adult</th>\n",
       "      <td>6.149953</td>\n",
       "      <td>4.832995</td>\n",
       "    </tr>\n",
       "    <tr>\n",
       "      <th>elder</th>\n",
       "      <td>8.158509</td>\n",
       "      <td>7.120496</td>\n",
       "    </tr>\n",
       "    <tr>\n",
       "      <th>older adult</th>\n",
       "      <td>8.580796</td>\n",
       "      <td>6.458172</td>\n",
       "    </tr>\n",
       "    <tr>\n",
       "      <th>young adult</th>\n",
       "      <td>3.232160</td>\n",
       "      <td>2.562023</td>\n",
       "    </tr>\n",
       "    <tr>\n",
       "      <th rowspan=\"4\" valign=\"top\">some college</th>\n",
       "      <th>adult</th>\n",
       "      <td>5.023291</td>\n",
       "      <td>3.429615</td>\n",
       "    </tr>\n",
       "    <tr>\n",
       "      <th>elder</th>\n",
       "      <td>4.106118</td>\n",
       "      <td>4.106118</td>\n",
       "    </tr>\n",
       "    <tr>\n",
       "      <th>older adult</th>\n",
       "      <td>3.499416</td>\n",
       "      <td>2.574894</td>\n",
       "    </tr>\n",
       "    <tr>\n",
       "      <th>young adult</th>\n",
       "      <td>2.633654</td>\n",
       "      <td>2.127760</td>\n",
       "    </tr>\n",
       "  </tbody>\n",
       "</table>\n",
       "</div>"
      ],
      "text/plain": [
       "                                                             mean  \\\n",
       "                                                   years_employed   \n",
       "gender income_type education           age_group                    \n",
       "F      business    bachelor's degree   adult             5.862674   \n",
       "                                       elder            11.765261   \n",
       "                                       older adult       8.573912   \n",
       "                                       young adult       3.140194   \n",
       "                   primary education   adult             4.860597   \n",
       "                                       older adult       2.365130   \n",
       "                                       young adult       2.822520   \n",
       "                   secondary education adult             6.149953   \n",
       "                                       elder             8.158509   \n",
       "                                       older adult       8.580796   \n",
       "                                       young adult       3.232160   \n",
       "                   some college        adult             5.023291   \n",
       "                                       elder             4.106118   \n",
       "                                       older adult       3.499416   \n",
       "                                       young adult       2.633654   \n",
       "\n",
       "                                                           median  \n",
       "                                                   years_employed  \n",
       "gender income_type education           age_group                   \n",
       "F      business    bachelor's degree   adult             4.623750  \n",
       "                                       elder             9.607860  \n",
       "                                       older adult       6.207103  \n",
       "                                       young adult       2.604099  \n",
       "                   primary education   adult             3.238318  \n",
       "                                       older adult       2.365130  \n",
       "                                       young adult       2.822520  \n",
       "                   secondary education adult             4.832995  \n",
       "                                       elder             7.120496  \n",
       "                                       older adult       6.458172  \n",
       "                                       young adult       2.562023  \n",
       "                   some college        adult             3.429615  \n",
       "                                       elder             4.106118  \n",
       "                                       older adult       2.574894  \n",
       "                                       young adult       2.127760  "
      ]
     },
     "execution_count": 115,
     "metadata": {},
     "output_type": "execute_result"
    }
   ],
   "source": [
    "# pivot_table con la media y mediana de `years_employed`\n",
    "new_data_de_mean = pd.pivot_table(new_data_de, \n",
    "                                  values=\"years_employed\", \n",
    "                                  index=[\"gender\", \"income_type\", \"education\", \"age_group\"], \n",
    "                                  aggfunc=[\"mean\", \"median\"]\n",
    ")\n",
    "\n",
    "new_data_de_mean.head(15)"
   ]
  },
  {
   "cell_type": "markdown",
   "metadata": {},
   "source": [
    "De igual forma, utilizamos mejor la mediana porque es un estadístico que se concentra en los datos que están en la mitad, cuando podría haber datos atípicos. "
   ]
  },
  {
   "cell_type": "code",
   "execution_count": 116,
   "metadata": {},
   "outputs": [
    {
     "data": {
      "text/html": [
       "<div>\n",
       "<style scoped>\n",
       "    .dataframe tbody tr th:only-of-type {\n",
       "        vertical-align: middle;\n",
       "    }\n",
       "\n",
       "    .dataframe tbody tr th {\n",
       "        vertical-align: top;\n",
       "    }\n",
       "\n",
       "    .dataframe thead th {\n",
       "        text-align: right;\n",
       "    }\n",
       "</style>\n",
       "<table border=\"1\" class=\"dataframe\">\n",
       "  <thead>\n",
       "    <tr style=\"text-align: right;\">\n",
       "      <th></th>\n",
       "      <th></th>\n",
       "      <th></th>\n",
       "      <th></th>\n",
       "      <th>years_employed</th>\n",
       "    </tr>\n",
       "    <tr>\n",
       "      <th>gender</th>\n",
       "      <th>income_type</th>\n",
       "      <th>education</th>\n",
       "      <th>age_group</th>\n",
       "      <th></th>\n",
       "    </tr>\n",
       "  </thead>\n",
       "  <tbody>\n",
       "    <tr>\n",
       "      <th rowspan=\"15\" valign=\"top\">F</th>\n",
       "      <th rowspan=\"15\" valign=\"top\">business</th>\n",
       "      <th rowspan=\"4\" valign=\"top\">bachelor's degree</th>\n",
       "      <th>adult</th>\n",
       "      <td>4.623750</td>\n",
       "    </tr>\n",
       "    <tr>\n",
       "      <th>elder</th>\n",
       "      <td>9.607860</td>\n",
       "    </tr>\n",
       "    <tr>\n",
       "      <th>older adult</th>\n",
       "      <td>6.207103</td>\n",
       "    </tr>\n",
       "    <tr>\n",
       "      <th>young adult</th>\n",
       "      <td>2.604099</td>\n",
       "    </tr>\n",
       "    <tr>\n",
       "      <th rowspan=\"3\" valign=\"top\">primary education</th>\n",
       "      <th>adult</th>\n",
       "      <td>3.238318</td>\n",
       "    </tr>\n",
       "    <tr>\n",
       "      <th>older adult</th>\n",
       "      <td>2.365130</td>\n",
       "    </tr>\n",
       "    <tr>\n",
       "      <th>young adult</th>\n",
       "      <td>2.822520</td>\n",
       "    </tr>\n",
       "    <tr>\n",
       "      <th rowspan=\"4\" valign=\"top\">secondary education</th>\n",
       "      <th>adult</th>\n",
       "      <td>4.832995</td>\n",
       "    </tr>\n",
       "    <tr>\n",
       "      <th>elder</th>\n",
       "      <td>7.120496</td>\n",
       "    </tr>\n",
       "    <tr>\n",
       "      <th>older adult</th>\n",
       "      <td>6.458172</td>\n",
       "    </tr>\n",
       "    <tr>\n",
       "      <th>young adult</th>\n",
       "      <td>2.562023</td>\n",
       "    </tr>\n",
       "    <tr>\n",
       "      <th rowspan=\"4\" valign=\"top\">some college</th>\n",
       "      <th>adult</th>\n",
       "      <td>3.429615</td>\n",
       "    </tr>\n",
       "    <tr>\n",
       "      <th>elder</th>\n",
       "      <td>4.106118</td>\n",
       "    </tr>\n",
       "    <tr>\n",
       "      <th>older adult</th>\n",
       "      <td>2.574894</td>\n",
       "    </tr>\n",
       "    <tr>\n",
       "      <th>young adult</th>\n",
       "      <td>2.127760</td>\n",
       "    </tr>\n",
       "  </tbody>\n",
       "</table>\n",
       "</div>"
      ],
      "text/plain": [
       "                                                    years_employed\n",
       "gender income_type education           age_group                  \n",
       "F      business    bachelor's degree   adult              4.623750\n",
       "                                       elder              9.607860\n",
       "                                       older adult        6.207103\n",
       "                                       young adult        2.604099\n",
       "                   primary education   adult              3.238318\n",
       "                                       older adult        2.365130\n",
       "                                       young adult        2.822520\n",
       "                   secondary education adult              4.832995\n",
       "                                       elder              7.120496\n",
       "                                       older adult        6.458172\n",
       "                                       young adult        2.562023\n",
       "                   some college        adult              3.429615\n",
       "                                       elder              4.106118\n",
       "                                       older adult        2.574894\n",
       "                                       young adult        2.127760"
      ]
     },
     "execution_count": 116,
     "metadata": {},
     "output_type": "execute_result"
    }
   ],
   "source": [
    "# pivot_table con mediana de `years_employed`\n",
    "new_data_de_median = pd.pivot_table(new_data_de, \n",
    "                                  values=\"years_employed\", \n",
    "                                  index=[\"gender\", \"income_type\", \"education\", \"age_group\"], \n",
    "                                  aggfunc=\"median\"\n",
    ")\n",
    "\n",
    "new_data_de_median.head(15)"
   ]
  },
  {
   "cell_type": "markdown",
   "metadata": {},
   "source": [
    "A partir de esto, se realiza el mismo proceso que se realizó en `total_income`"
   ]
  },
  {
   "cell_type": "code",
   "execution_count": 117,
   "metadata": {},
   "outputs": [
    {
     "data": {
      "text/html": [
       "<div>\n",
       "<style scoped>\n",
       "    .dataframe tbody tr th:only-of-type {\n",
       "        vertical-align: middle;\n",
       "    }\n",
       "\n",
       "    .dataframe tbody tr th {\n",
       "        vertical-align: top;\n",
       "    }\n",
       "\n",
       "    .dataframe thead th {\n",
       "        text-align: right;\n",
       "    }\n",
       "</style>\n",
       "<table border=\"1\" class=\"dataframe\">\n",
       "  <thead>\n",
       "    <tr style=\"text-align: right;\">\n",
       "      <th></th>\n",
       "      <th></th>\n",
       "      <th></th>\n",
       "      <th></th>\n",
       "      <th>dob_years</th>\n",
       "      <th>family_status</th>\n",
       "      <th>children</th>\n",
       "      <th>education_id</th>\n",
       "      <th>family_status_id</th>\n",
       "      <th>debt</th>\n",
       "      <th>total_income</th>\n",
       "      <th>years_employed</th>\n",
       "      <th>purpose</th>\n",
       "    </tr>\n",
       "    <tr>\n",
       "      <th>gender</th>\n",
       "      <th>income_type</th>\n",
       "      <th>education</th>\n",
       "      <th>age_group</th>\n",
       "      <th></th>\n",
       "      <th></th>\n",
       "      <th></th>\n",
       "      <th></th>\n",
       "      <th></th>\n",
       "      <th></th>\n",
       "      <th></th>\n",
       "      <th></th>\n",
       "      <th></th>\n",
       "    </tr>\n",
       "  </thead>\n",
       "  <tbody>\n",
       "    <tr>\n",
       "      <th rowspan=\"2\" valign=\"top\">F</th>\n",
       "      <th rowspan=\"2\" valign=\"top\">employee</th>\n",
       "      <th>bachelor's degree</th>\n",
       "      <th>adult</th>\n",
       "      <td>42</td>\n",
       "      <td>married</td>\n",
       "      <td>1</td>\n",
       "      <td>0</td>\n",
       "      <td>0</td>\n",
       "      <td>0</td>\n",
       "      <td>40620.102</td>\n",
       "      <td>23.116912</td>\n",
       "      <td>housing transactions</td>\n",
       "    </tr>\n",
       "    <tr>\n",
       "      <th>secondary education</th>\n",
       "      <th>adult</th>\n",
       "      <td>36</td>\n",
       "      <td>married</td>\n",
       "      <td>1</td>\n",
       "      <td>1</td>\n",
       "      <td>0</td>\n",
       "      <td>0</td>\n",
       "      <td>17932.802</td>\n",
       "      <td>11.026860</td>\n",
       "      <td>purchase of a car</td>\n",
       "    </tr>\n",
       "    <tr>\n",
       "      <th rowspan=\"2\" valign=\"top\">M</th>\n",
       "      <th rowspan=\"2\" valign=\"top\">employee</th>\n",
       "      <th rowspan=\"2\" valign=\"top\">secondary education</th>\n",
       "      <th>adult</th>\n",
       "      <td>33</td>\n",
       "      <td>married</td>\n",
       "      <td>0</td>\n",
       "      <td>1</td>\n",
       "      <td>0</td>\n",
       "      <td>0</td>\n",
       "      <td>23341.752</td>\n",
       "      <td>15.406637</td>\n",
       "      <td>housing transactions</td>\n",
       "    </tr>\n",
       "    <tr>\n",
       "      <th>adult</th>\n",
       "      <td>32</td>\n",
       "      <td>married</td>\n",
       "      <td>3</td>\n",
       "      <td>1</td>\n",
       "      <td>0</td>\n",
       "      <td>0</td>\n",
       "      <td>42820.568</td>\n",
       "      <td>11.300677</td>\n",
       "      <td>getting an education</td>\n",
       "    </tr>\n",
       "    <tr>\n",
       "      <th>F</th>\n",
       "      <th>retiree</th>\n",
       "      <th>secondary education</th>\n",
       "      <th>older adult</th>\n",
       "      <td>53</td>\n",
       "      <td>civil partnership</td>\n",
       "      <td>0</td>\n",
       "      <td>1</td>\n",
       "      <td>1</td>\n",
       "      <td>0</td>\n",
       "      <td>25378.572</td>\n",
       "      <td>6.581900</td>\n",
       "      <td>wedding ceremony</td>\n",
       "    </tr>\n",
       "  </tbody>\n",
       "</table>\n",
       "</div>"
      ],
      "text/plain": [
       "                                                    dob_years  \\\n",
       "gender income_type education           age_group                \n",
       "F      employee    bachelor's degree   adult               42   \n",
       "                   secondary education adult               36   \n",
       "M      employee    secondary education adult               33   \n",
       "                                       adult               32   \n",
       "F      retiree     secondary education older adult         53   \n",
       "\n",
       "                                                        family_status  \\\n",
       "gender income_type education           age_group                        \n",
       "F      employee    bachelor's degree   adult                  married   \n",
       "                   secondary education adult                  married   \n",
       "M      employee    secondary education adult                  married   \n",
       "                                       adult                  married   \n",
       "F      retiree     secondary education older adult  civil partnership   \n",
       "\n",
       "                                                    children  education_id  \\\n",
       "gender income_type education           age_group                             \n",
       "F      employee    bachelor's degree   adult               1             0   \n",
       "                   secondary education adult               1             1   \n",
       "M      employee    secondary education adult               0             1   \n",
       "                                       adult               3             1   \n",
       "F      retiree     secondary education older adult         0             1   \n",
       "\n",
       "                                                    family_status_id  debt  \\\n",
       "gender income_type education           age_group                             \n",
       "F      employee    bachelor's degree   adult                       0     0   \n",
       "                   secondary education adult                       0     0   \n",
       "M      employee    secondary education adult                       0     0   \n",
       "                                       adult                       0     0   \n",
       "F      retiree     secondary education older adult                 1     0   \n",
       "\n",
       "                                                    total_income  \\\n",
       "gender income_type education           age_group                   \n",
       "F      employee    bachelor's degree   adult           40620.102   \n",
       "                   secondary education adult           17932.802   \n",
       "M      employee    secondary education adult           23341.752   \n",
       "                                       adult           42820.568   \n",
       "F      retiree     secondary education older adult     25378.572   \n",
       "\n",
       "                                                    years_employed  \\\n",
       "gender income_type education           age_group                     \n",
       "F      employee    bachelor's degree   adult             23.116912   \n",
       "                   secondary education adult             11.026860   \n",
       "M      employee    secondary education adult             15.406637   \n",
       "                                       adult             11.300677   \n",
       "F      retiree     secondary education older adult        6.581900   \n",
       "\n",
       "                                                                 purpose  \n",
       "gender income_type education           age_group                          \n",
       "F      employee    bachelor's degree   adult        housing transactions  \n",
       "                   secondary education adult           purchase of a car  \n",
       "M      employee    secondary education adult        housing transactions  \n",
       "                                       adult        getting an education  \n",
       "F      retiree     secondary education older adult      wedding ceremony  "
      ]
     },
     "execution_count": 117,
     "metadata": {},
     "output_type": "execute_result"
    }
   ],
   "source": [
    "# se pone como índice las categorías en data_wd\n",
    "data_wd = data_wd.set_index([\"gender\", \"income_type\", \"education\", \"age_group\"])\n",
    "data_wd.head()"
   ]
  },
  {
   "cell_type": "code",
   "execution_count": 118,
   "metadata": {},
   "outputs": [
    {
     "data": {
      "text/html": [
       "<div>\n",
       "<style scoped>\n",
       "    .dataframe tbody tr th:only-of-type {\n",
       "        vertical-align: middle;\n",
       "    }\n",
       "\n",
       "    .dataframe tbody tr th {\n",
       "        vertical-align: top;\n",
       "    }\n",
       "\n",
       "    .dataframe thead th {\n",
       "        text-align: right;\n",
       "    }\n",
       "</style>\n",
       "<table border=\"1\" class=\"dataframe\">\n",
       "  <thead>\n",
       "    <tr style=\"text-align: right;\">\n",
       "      <th></th>\n",
       "      <th></th>\n",
       "      <th></th>\n",
       "      <th></th>\n",
       "      <th>dob_years</th>\n",
       "      <th>family_status</th>\n",
       "      <th>children</th>\n",
       "      <th>education_id</th>\n",
       "      <th>family_status_id</th>\n",
       "      <th>debt</th>\n",
       "      <th>total_income</th>\n",
       "      <th>years_employed</th>\n",
       "      <th>purpose</th>\n",
       "      <th>years_employed_median</th>\n",
       "    </tr>\n",
       "    <tr>\n",
       "      <th>gender</th>\n",
       "      <th>income_type</th>\n",
       "      <th>education</th>\n",
       "      <th>age_group</th>\n",
       "      <th></th>\n",
       "      <th></th>\n",
       "      <th></th>\n",
       "      <th></th>\n",
       "      <th></th>\n",
       "      <th></th>\n",
       "      <th></th>\n",
       "      <th></th>\n",
       "      <th></th>\n",
       "      <th></th>\n",
       "    </tr>\n",
       "  </thead>\n",
       "  <tbody>\n",
       "    <tr>\n",
       "      <th rowspan=\"2\" valign=\"top\">F</th>\n",
       "      <th rowspan=\"2\" valign=\"top\">employee</th>\n",
       "      <th>bachelor's degree</th>\n",
       "      <th>adult</th>\n",
       "      <td>42</td>\n",
       "      <td>married</td>\n",
       "      <td>1</td>\n",
       "      <td>0</td>\n",
       "      <td>0</td>\n",
       "      <td>0</td>\n",
       "      <td>40620.102</td>\n",
       "      <td>23.116912</td>\n",
       "      <td>housing transactions</td>\n",
       "      <td>4.988526</td>\n",
       "    </tr>\n",
       "    <tr>\n",
       "      <th>secondary education</th>\n",
       "      <th>adult</th>\n",
       "      <td>36</td>\n",
       "      <td>married</td>\n",
       "      <td>1</td>\n",
       "      <td>1</td>\n",
       "      <td>0</td>\n",
       "      <td>0</td>\n",
       "      <td>17932.802</td>\n",
       "      <td>11.026860</td>\n",
       "      <td>purchase of a car</td>\n",
       "      <td>5.156649</td>\n",
       "    </tr>\n",
       "    <tr>\n",
       "      <th rowspan=\"2\" valign=\"top\">M</th>\n",
       "      <th rowspan=\"2\" valign=\"top\">employee</th>\n",
       "      <th rowspan=\"2\" valign=\"top\">secondary education</th>\n",
       "      <th>adult</th>\n",
       "      <td>33</td>\n",
       "      <td>married</td>\n",
       "      <td>0</td>\n",
       "      <td>1</td>\n",
       "      <td>0</td>\n",
       "      <td>0</td>\n",
       "      <td>23341.752</td>\n",
       "      <td>15.406637</td>\n",
       "      <td>housing transactions</td>\n",
       "      <td>4.146396</td>\n",
       "    </tr>\n",
       "    <tr>\n",
       "      <th>adult</th>\n",
       "      <td>32</td>\n",
       "      <td>married</td>\n",
       "      <td>3</td>\n",
       "      <td>1</td>\n",
       "      <td>0</td>\n",
       "      <td>0</td>\n",
       "      <td>42820.568</td>\n",
       "      <td>11.300677</td>\n",
       "      <td>getting an education</td>\n",
       "      <td>4.146396</td>\n",
       "    </tr>\n",
       "    <tr>\n",
       "      <th>F</th>\n",
       "      <th>retiree</th>\n",
       "      <th>secondary education</th>\n",
       "      <th>older adult</th>\n",
       "      <td>53</td>\n",
       "      <td>civil partnership</td>\n",
       "      <td>0</td>\n",
       "      <td>1</td>\n",
       "      <td>1</td>\n",
       "      <td>0</td>\n",
       "      <td>25378.572</td>\n",
       "      <td>6.581900</td>\n",
       "      <td>wedding ceremony</td>\n",
       "      <td>6.597809</td>\n",
       "    </tr>\n",
       "  </tbody>\n",
       "</table>\n",
       "</div>"
      ],
      "text/plain": [
       "                                                    dob_years  \\\n",
       "gender income_type education           age_group                \n",
       "F      employee    bachelor's degree   adult               42   \n",
       "                   secondary education adult               36   \n",
       "M      employee    secondary education adult               33   \n",
       "                                       adult               32   \n",
       "F      retiree     secondary education older adult         53   \n",
       "\n",
       "                                                        family_status  \\\n",
       "gender income_type education           age_group                        \n",
       "F      employee    bachelor's degree   adult                  married   \n",
       "                   secondary education adult                  married   \n",
       "M      employee    secondary education adult                  married   \n",
       "                                       adult                  married   \n",
       "F      retiree     secondary education older adult  civil partnership   \n",
       "\n",
       "                                                    children  education_id  \\\n",
       "gender income_type education           age_group                             \n",
       "F      employee    bachelor's degree   adult               1             0   \n",
       "                   secondary education adult               1             1   \n",
       "M      employee    secondary education adult               0             1   \n",
       "                                       adult               3             1   \n",
       "F      retiree     secondary education older adult         0             1   \n",
       "\n",
       "                                                    family_status_id  debt  \\\n",
       "gender income_type education           age_group                             \n",
       "F      employee    bachelor's degree   adult                       0     0   \n",
       "                   secondary education adult                       0     0   \n",
       "M      employee    secondary education adult                       0     0   \n",
       "                                       adult                       0     0   \n",
       "F      retiree     secondary education older adult                 1     0   \n",
       "\n",
       "                                                    total_income  \\\n",
       "gender income_type education           age_group                   \n",
       "F      employee    bachelor's degree   adult           40620.102   \n",
       "                   secondary education adult           17932.802   \n",
       "M      employee    secondary education adult           23341.752   \n",
       "                                       adult           42820.568   \n",
       "F      retiree     secondary education older adult     25378.572   \n",
       "\n",
       "                                                    years_employed  \\\n",
       "gender income_type education           age_group                     \n",
       "F      employee    bachelor's degree   adult             23.116912   \n",
       "                   secondary education adult             11.026860   \n",
       "M      employee    secondary education adult             15.406637   \n",
       "                                       adult             11.300677   \n",
       "F      retiree     secondary education older adult        6.581900   \n",
       "\n",
       "                                                                 purpose  \\\n",
       "gender income_type education           age_group                           \n",
       "F      employee    bachelor's degree   adult        housing transactions   \n",
       "                   secondary education adult           purchase of a car   \n",
       "M      employee    secondary education adult        housing transactions   \n",
       "                                       adult        getting an education   \n",
       "F      retiree     secondary education older adult      wedding ceremony   \n",
       "\n",
       "                                                    years_employed_median  \n",
       "gender income_type education           age_group                           \n",
       "F      employee    bachelor's degree   adult                     4.988526  \n",
       "                   secondary education adult                     5.156649  \n",
       "M      employee    secondary education adult                     4.146396  \n",
       "                                       adult                     4.146396  \n",
       "F      retiree     secondary education older adult               6.597809  "
      ]
     },
     "execution_count": 118,
     "metadata": {},
     "output_type": "execute_result"
    }
   ],
   "source": [
    "# se añade la columna `years_employed_median` agregando la información de `new_data_de_median`\n",
    "data_wd[\"years_employed_median\"] = new_data_de_median[\"years_employed\"]\n",
    "data_wd.head()"
   ]
  },
  {
   "cell_type": "code",
   "execution_count": 119,
   "metadata": {},
   "outputs": [],
   "source": [
    "# se reemplaza en `years_employed` los valores de `years_employed_median` si hay valores nulos\n",
    "data_wd['years_employed'] = data_wd.apply(lambda x: x['years_employed_median'] if pd.isnull(x['years_employed']) == True else x['years_employed'], axis=1)"
   ]
  },
  {
   "cell_type": "code",
   "execution_count": 120,
   "metadata": {},
   "outputs": [],
   "source": [
    "# se elimina la columna `years_employed_median` y se reinicia los índices\n",
    "data_wd.drop(\"years_employed_median\", axis=1, inplace=True)\n",
    "data_wd.reset_index(inplace=True)"
   ]
  },
  {
   "cell_type": "markdown",
   "metadata": {},
   "source": [
    "Y verificamos si tenemos aún valores nulos en la columna `years_employed`"
   ]
  },
  {
   "cell_type": "code",
   "execution_count": 121,
   "metadata": {},
   "outputs": [
    {
     "name": "stdout",
     "output_type": "stream",
     "text": [
      "gender               0\n",
      "income_type          0\n",
      "education            0\n",
      "age_group            0\n",
      "dob_years            0\n",
      "family_status        0\n",
      "children             0\n",
      "education_id         0\n",
      "family_status_id     0\n",
      "debt                 0\n",
      "total_income         0\n",
      "years_employed      35\n",
      "purpose              0\n",
      "dtype: int64\n"
     ]
    }
   ],
   "source": [
    "# se imprime la información\n",
    "print(data_wd.isna().sum())"
   ]
  },
  {
   "cell_type": "markdown",
   "metadata": {},
   "source": [
    "Aquí de igual forma, se tiene 35 filas que no se encontraron valores de la mediana para estos datos. Como no son muchos, se procede de igual forma a eliminarlos."
   ]
  },
  {
   "cell_type": "code",
   "execution_count": 122,
   "metadata": {},
   "outputs": [],
   "source": [
    "# eliminar valores ausentes\n",
    "data_wd = data_wd.dropna().reset_index(drop=True)"
   ]
  },
  {
   "cell_type": "code",
   "execution_count": 123,
   "metadata": {},
   "outputs": [
    {
     "name": "stdout",
     "output_type": "stream",
     "text": [
      "gender              0\n",
      "income_type         0\n",
      "education           0\n",
      "age_group           0\n",
      "dob_years           0\n",
      "family_status       0\n",
      "children            0\n",
      "education_id        0\n",
      "family_status_id    0\n",
      "debt                0\n",
      "total_income        0\n",
      "years_employed      0\n",
      "purpose             0\n",
      "dtype: int64\n"
     ]
    }
   ],
   "source": [
    "# verificación de datos ausentes\n",
    "print(data_wd.isna().sum())"
   ]
  },
  {
   "cell_type": "markdown",
   "metadata": {},
   "source": [
    "Finalmente, ya no contamos con valores ausentes. \n",
    "\n",
    "Podemos ver esto en la información general de la tabla. "
   ]
  },
  {
   "cell_type": "code",
   "execution_count": 124,
   "metadata": {},
   "outputs": [
    {
     "name": "stdout",
     "output_type": "stream",
     "text": [
      "<class 'pandas.core.frame.DataFrame'>\n",
      "RangeIndex: 21170 entries, 0 to 21169\n",
      "Data columns (total 13 columns):\n",
      " #   Column            Non-Null Count  Dtype  \n",
      "---  ------            --------------  -----  \n",
      " 0   gender            21170 non-null  object \n",
      " 1   income_type       21170 non-null  object \n",
      " 2   education         21170 non-null  object \n",
      " 3   age_group         21170 non-null  object \n",
      " 4   dob_years         21170 non-null  int64  \n",
      " 5   family_status     21170 non-null  object \n",
      " 6   children          21170 non-null  int64  \n",
      " 7   education_id      21170 non-null  int64  \n",
      " 8   family_status_id  21170 non-null  int64  \n",
      " 9   debt              21170 non-null  int64  \n",
      " 10  total_income      21170 non-null  float64\n",
      " 11  years_employed    21170 non-null  float64\n",
      " 12  purpose           21170 non-null  object \n",
      "dtypes: float64(2), int64(5), object(6)\n",
      "memory usage: 2.1+ MB\n"
     ]
    }
   ],
   "source": [
    "# visualización datos\n",
    "data_wd.info()"
   ]
  },
  {
   "cell_type": "markdown",
   "metadata": {},
   "source": [
    "## Clasificación de datos\n",
    "\n",
    "Por último, vamos a verificar la información actual que tenemos, y veremos si es necesario nuevamente clasificar los datos en alguna columna o variable que tenemos. "
   ]
  },
  {
   "cell_type": "code",
   "execution_count": 125,
   "metadata": {},
   "outputs": [
    {
     "data": {
      "text/plain": [
       "Index(['gender', 'income_type', 'education', 'age_group', 'dob_years',\n",
       "       'family_status', 'children', 'education_id', 'family_status_id', 'debt',\n",
       "       'total_income', 'years_employed', 'purpose'],\n",
       "      dtype='object')"
      ]
     },
     "execution_count": 125,
     "metadata": {},
     "output_type": "execute_result"
    }
   ],
   "source": [
    "# columnas de data_wd dataframe\n",
    "col_data_wd = data_wd.columns\n",
    "col_data_wd"
   ]
  },
  {
   "cell_type": "code",
   "execution_count": 126,
   "metadata": {
    "scrolled": true
   },
   "outputs": [
    {
     "name": "stdout",
     "output_type": "stream",
     "text": [
      "\n",
      "Frecuencia de categorías para columna: gender\n",
      "F    0.658904\n",
      "M    0.341096\n",
      "Name: gender, dtype: float64\n",
      "\n",
      "Frecuencia de categorías para columna: income_type\n",
      "employee                       0.517194\n",
      "business                       0.238498\n",
      "retiree                        0.175531\n",
      "civil servant                  0.068540\n",
      "unemployed                     0.000094\n",
      "paternity / maternity leave    0.000047\n",
      "student                        0.000047\n",
      "entrepreneur                   0.000047\n",
      "Name: income_type, dtype: float64\n",
      "\n",
      "Frecuencia de categorías para columna: education\n",
      "secondary education    0.706188\n",
      "bachelor's degree      0.246812\n",
      "some college           0.034813\n",
      "primary education      0.011998\n",
      "graduate degree        0.000189\n",
      "Name: education, dtype: float64\n",
      "\n",
      "Frecuencia de categorías para columna: age_group\n",
      "adult          0.516202\n",
      "older adult    0.290883\n",
      "young adult    0.152716\n",
      "elder          0.040198\n",
      "Name: age_group, dtype: float64\n",
      "\n",
      "Frecuencia de categorías para columna: dob_years\n",
      "35    0.029334\n",
      "41    0.028484\n",
      "40    0.028436\n",
      "34    0.028295\n",
      "38    0.028153\n",
      "42    0.027633\n",
      "33    0.027161\n",
      "39    0.026783\n",
      "31    0.026405\n",
      "36    0.025980\n",
      "29    0.025602\n",
      "44    0.025508\n",
      "37    0.025366\n",
      "48    0.025130\n",
      "30    0.025130\n",
      "32    0.024091\n",
      "50    0.023949\n",
      "43    0.023807\n",
      "28    0.023760\n",
      "49    0.023335\n",
      "45    0.023099\n",
      "27    0.023099\n",
      "52    0.022485\n",
      "56    0.022390\n",
      "46    0.022201\n",
      "54    0.022060\n",
      "47    0.021871\n",
      "53    0.021351\n",
      "57    0.021020\n",
      "58    0.020973\n",
      "51    0.020926\n",
      "59    0.020737\n",
      "55    0.020642\n",
      "26    0.019367\n",
      "60    0.017289\n",
      "25    0.017005\n",
      "61    0.016486\n",
      "62    0.016202\n",
      "24    0.012848\n",
      "63    0.012518\n",
      "23    0.012470\n",
      "64    0.011856\n",
      "22    0.009306\n",
      "65    0.008644\n",
      "66    0.008219\n",
      "67    0.007511\n",
      "21    0.005621\n",
      "68    0.004487\n",
      "69    0.003779\n",
      "70    0.002929\n",
      "20    0.002834\n",
      "71    0.002551\n",
      "72    0.001417\n",
      "19    0.000803\n",
      "73    0.000331\n",
      "74    0.000283\n",
      "75    0.000047\n",
      "Name: dob_years, dtype: float64\n",
      "\n",
      "Frecuencia de categorías para columna: family_status\n",
      "married              0.573217\n",
      "civil partnership    0.194568\n",
      "unmarried            0.131601\n",
      "divorced             0.056353\n",
      "widow / widower      0.044261\n",
      "Name: family_status, dtype: float64\n",
      "\n",
      "Frecuencia de categorías para columna: children\n",
      "0    0.654511\n",
      "1    0.227681\n",
      "2    0.099953\n",
      "3    0.015541\n",
      "4    0.001889\n",
      "5    0.000425\n",
      "Name: children, dtype: float64\n",
      "\n",
      "Frecuencia de categorías para columna: education_id\n",
      "1    0.706188\n",
      "0    0.246812\n",
      "2    0.034813\n",
      "3    0.011998\n",
      "4    0.000189\n",
      "Name: education_id, dtype: float64\n",
      "\n",
      "Frecuencia de categorías para columna: family_status_id\n",
      "0    0.573217\n",
      "1    0.194568\n",
      "4    0.131601\n",
      "3    0.056353\n",
      "2    0.044261\n",
      "Name: family_status_id, dtype: float64\n",
      "\n",
      "Frecuencia de categorías para columna: debt\n",
      "0    0.917903\n",
      "1    0.082097\n",
      "Name: debt, dtype: float64\n",
      "\n",
      "Frecuencia de categorías para columna: total_income\n",
      "20173.264    0.012612\n",
      "25757.811    0.007322\n",
      "18236.504    0.007180\n",
      "23668.558    0.004865\n",
      "24770.876    0.003968\n",
      "               ...   \n",
      "23879.679    0.000047\n",
      "46127.621    0.000047\n",
      "34645.381    0.000047\n",
      "40251.102    0.000047\n",
      "41428.916    0.000047\n",
      "Name: total_income, Length: 19349, dtype: float64\n",
      "\n",
      "Frecuencia de categorías para columna: years_employed\n",
      "5.156649     0.012612\n",
      "6.597809     0.008030\n",
      "5.770278     0.007558\n",
      "4.146396     0.007322\n",
      "7.046689     0.005763\n",
      "               ...   \n",
      "2.929824     0.000047\n",
      "4.421320     0.000047\n",
      "17.769600    0.000047\n",
      "0.557218     0.000047\n",
      "5.886062     0.000047\n",
      "Name: years_employed, Length: 16060, dtype: float64\n",
      "\n",
      "Frecuencia de categorías para columna: purpose\n",
      "housing transactions        0.294709\n",
      "real estate transactions    0.208361\n",
      "purchase of a car           0.201417\n",
      "getting an education        0.186774\n",
      "wedding ceremony            0.108739\n",
      "Name: purpose, dtype: float64\n"
     ]
    }
   ],
   "source": [
    "# distribución de datos repetidos por columna en data_wd df\n",
    "for col in col_data_wd:\n",
    "    print ('\\nFrecuencia de categorías para columna: %s'%col)\n",
    "    print (data_wd[col].value_counts(normalize=True))"
   ]
  },
  {
   "cell_type": "markdown",
   "metadata": {},
   "source": [
    "Como un resumen general de la información que tenemos, podemos indicar lo siguiente: \n",
    "- Hay más clientes mujeres que hombres (66% - 34%)\n",
    "- Los clientes del banco generalmente son empleados, tienen un negocio o están jubilados (52% - 24% - 18%), siendo estas las categorías que predominan a nivel del tipo de ingreso que reciben. \n",
    "- En educación la mayoría tienen una educación secundaria y licenciatura (71% - 25%)\n",
    "- Generalmente los clientes del banco son Adultos, adultos mayores y adultos jóvenes (52% - 29% - 15%)\n",
    "- El estatus familiar son casados, unión civil y solteros (57% - 19% - 13%)\n",
    "- La mayoría de clientes no tienen hijos (65%), y los que si tienen (35%) resaltan más los que tienen 1 y 2 (23% - 10%)\n",
    "- La mayoría de clientes no tienen deuda (92%), siendo una pequeña cantidad los que si tienen deuda 8%. \n",
    "- La razón por la que piden más préstamos en el banco es alguna transacción para la vivienda (29%), transacciones inmobiliarias (21%), compra de un auto (20%), obtener una educación (19%) y realizar una boda (11%). "
   ]
  },
  {
   "cell_type": "markdown",
   "metadata": {},
   "source": [
    "En base a todo esto, hemos notado que se puede aún reagrupar los datos de las columnas `total_income` y `years_employed`. \n",
    "\n",
    "Para realizar esto, obtengamos el resumen estadístico de las dos columnas: "
   ]
  },
  {
   "cell_type": "code",
   "execution_count": 127,
   "metadata": {},
   "outputs": [
    {
     "data": {
      "text/html": [
       "<div>\n",
       "<style scoped>\n",
       "    .dataframe tbody tr th:only-of-type {\n",
       "        vertical-align: middle;\n",
       "    }\n",
       "\n",
       "    .dataframe tbody tr th {\n",
       "        vertical-align: top;\n",
       "    }\n",
       "\n",
       "    .dataframe thead th {\n",
       "        text-align: right;\n",
       "    }\n",
       "</style>\n",
       "<table border=\"1\" class=\"dataframe\">\n",
       "  <thead>\n",
       "    <tr style=\"text-align: right;\">\n",
       "      <th></th>\n",
       "      <th>total_income</th>\n",
       "      <th>years_employed</th>\n",
       "    </tr>\n",
       "  </thead>\n",
       "  <tbody>\n",
       "    <tr>\n",
       "      <th>count</th>\n",
       "      <td>21170.00000</td>\n",
       "      <td>21170.000000</td>\n",
       "    </tr>\n",
       "    <tr>\n",
       "      <th>mean</th>\n",
       "      <td>26559.27869</td>\n",
       "      <td>6.462797</td>\n",
       "    </tr>\n",
       "    <tr>\n",
       "      <th>std</th>\n",
       "      <td>15832.37823</td>\n",
       "      <td>5.739610</td>\n",
       "    </tr>\n",
       "    <tr>\n",
       "      <th>min</th>\n",
       "      <td>3306.76200</td>\n",
       "      <td>0.066141</td>\n",
       "    </tr>\n",
       "    <tr>\n",
       "      <th>25%</th>\n",
       "      <td>17123.63625</td>\n",
       "      <td>2.669196</td>\n",
       "    </tr>\n",
       "    <tr>\n",
       "      <th>50%</th>\n",
       "      <td>23340.99400</td>\n",
       "      <td>5.150242</td>\n",
       "    </tr>\n",
       "    <tr>\n",
       "      <th>75%</th>\n",
       "      <td>31696.21625</td>\n",
       "      <td>8.079669</td>\n",
       "    </tr>\n",
       "    <tr>\n",
       "      <th>max</th>\n",
       "      <td>362496.64500</td>\n",
       "      <td>50.380685</td>\n",
       "    </tr>\n",
       "  </tbody>\n",
       "</table>\n",
       "</div>"
      ],
      "text/plain": [
       "       total_income  years_employed\n",
       "count   21170.00000    21170.000000\n",
       "mean    26559.27869        6.462797\n",
       "std     15832.37823        5.739610\n",
       "min      3306.76200        0.066141\n",
       "25%     17123.63625        2.669196\n",
       "50%     23340.99400        5.150242\n",
       "75%     31696.21625        8.079669\n",
       "max    362496.64500       50.380685"
      ]
     },
     "execution_count": 127,
     "metadata": {},
     "output_type": "execute_result"
    }
   ],
   "source": [
    "# resumen estadístico\n",
    "data_wd[[\"total_income\", \"years_employed\"]].describe()"
   ]
  },
  {
   "cell_type": "markdown",
   "metadata": {},
   "source": [
    "Con esto podemos reagrupar los datos generando categorías en `total_income` en base a la cantidad de dinero que tiene cada cliente, y con la columna `years_employed` en base a la experiencia laboral que tiene. \n",
    "\n",
    "Creamos dos funciones para categorizar esta información. "
   ]
  },
  {
   "cell_type": "code",
   "execution_count": 128,
   "metadata": {},
   "outputs": [],
   "source": [
    "# función para categorizar el total_income\n",
    "def income_group(row):\n",
    "    income = row[\"total_income\"]\n",
    "    \n",
    "    if 3000 <= income < 20000: \n",
    "        return \"income less than 20000\"\n",
    "    if 20000 <= income < 40000:\n",
    "        return \"income between 20k to 39k\"\n",
    "    if 40000 <= income < 80000:\n",
    "        return \"income between 40k to 79k\"\n",
    "    if 80000 <= income < 120000:\n",
    "        return \"income between 80k to 120k\"\n",
    "    if 120000 <= income <= 400000:\n",
    "        return \"income more than 120k\""
   ]
  },
  {
   "cell_type": "code",
   "execution_count": 129,
   "metadata": {},
   "outputs": [],
   "source": [
    "# se aplica la función\n",
    "data_wd[\"total_income_group\"] = data_wd.apply(income_group, axis=1)"
   ]
  },
  {
   "cell_type": "code",
   "execution_count": 130,
   "metadata": {},
   "outputs": [
    {
     "data": {
      "text/plain": [
       "income between 20k to 39k     0.505102\n",
       "income less than 20000        0.362116\n",
       "income between 40k to 79k     0.122296\n",
       "income between 80k to 120k    0.008172\n",
       "income more than 120k         0.002315\n",
       "Name: total_income_group, dtype: float64"
      ]
     },
     "execution_count": 130,
     "metadata": {},
     "output_type": "execute_result"
    }
   ],
   "source": [
    "# verificación de datos\n",
    "data_wd[\"total_income_group\"].value_counts(normalize=True)"
   ]
  },
  {
   "cell_type": "code",
   "execution_count": 131,
   "metadata": {},
   "outputs": [],
   "source": [
    "# función para categorizar years_employed\n",
    "def years_employed_group(row):\n",
    "    years_employed = row[\"years_employed\"]\n",
    "    \n",
    "    if 0 <= years_employed < 2: \n",
    "        return \"less than 2 years of experience\"\n",
    "    if 2 <= years_employed < 7:\n",
    "        return \"3 to 6 years of experience\"\n",
    "    if 7 <= years_employed < 11:\n",
    "        return \"7 to 10 years of experience\"\n",
    "    if 11 <= years_employed < 21:\n",
    "        return \"11 to 20 years of experience\"\n",
    "    if 21 <= years_employed < 51:\n",
    "        return \"more than 20 years of experience\""
   ]
  },
  {
   "cell_type": "code",
   "execution_count": 132,
   "metadata": {},
   "outputs": [],
   "source": [
    "# se aplica la función\n",
    "data_wd[\"years_employed_group\"] = data_wd.apply(years_employed_group, axis=1)"
   ]
  },
  {
   "cell_type": "code",
   "execution_count": 133,
   "metadata": {},
   "outputs": [
    {
     "data": {
      "text/plain": [
       "3 to 6 years of experience          0.485971\n",
       "7 to 10 years of experience         0.186018\n",
       "less than 2 years of experience     0.182522\n",
       "11 to 20 years of experience        0.111809\n",
       "more than 20 years of experience    0.033680\n",
       "Name: years_employed_group, dtype: float64"
      ]
     },
     "execution_count": 133,
     "metadata": {},
     "output_type": "execute_result"
    }
   ],
   "source": [
    "# verificación de datos\n",
    "data_wd[\"years_employed_group\"].value_counts(normalize=True)"
   ]
  },
  {
   "cell_type": "markdown",
   "metadata": {},
   "source": [
    "Por lo tanto, tenemos que la gran mayoría de clientes que gana entre 40-20k (50%), de ahí los que ganan menos de 20k (36%) y entre 80-40k (12%).  \n",
    "\n",
    "De igual forma, los clientes del banco tienen experiencia laboral entre 3 a 6 años (48%), de 7 a 10 años (19%), menos de 2 años (18%) y 11 a 20 años (11%), donde los que tienen más de 20 años de experiencia es muy poco (3%). "
   ]
  },
  {
   "cell_type": "markdown",
   "metadata": {},
   "source": [
    "Finalmente, vamos a reorganizar el orden de las columnas, tomando en cuenta que se creo algunas nuevas con otros nombres y fueron agregadas al final. "
   ]
  },
  {
   "cell_type": "code",
   "execution_count": 134,
   "metadata": {},
   "outputs": [
    {
     "name": "stdout",
     "output_type": "stream",
     "text": [
      "<class 'pandas.core.frame.DataFrame'>\n",
      "RangeIndex: 21170 entries, 0 to 21169\n",
      "Data columns (total 15 columns):\n",
      " #   Column                Non-Null Count  Dtype  \n",
      "---  ------                --------------  -----  \n",
      " 0   gender                21170 non-null  object \n",
      " 1   income_type           21170 non-null  object \n",
      " 2   education             21170 non-null  object \n",
      " 3   age_group             21170 non-null  object \n",
      " 4   dob_years             21170 non-null  int64  \n",
      " 5   family_status         21170 non-null  object \n",
      " 6   children              21170 non-null  int64  \n",
      " 7   education_id          21170 non-null  int64  \n",
      " 8   family_status_id      21170 non-null  int64  \n",
      " 9   debt                  21170 non-null  int64  \n",
      " 10  total_income          21170 non-null  float64\n",
      " 11  years_employed        21170 non-null  float64\n",
      " 12  purpose               21170 non-null  object \n",
      " 13  total_income_group    21170 non-null  object \n",
      " 14  years_employed_group  21170 non-null  object \n",
      "dtypes: float64(2), int64(5), object(8)\n",
      "memory usage: 2.4+ MB\n"
     ]
    }
   ],
   "source": [
    "# visualización general de datos\n",
    "data_wd.info()"
   ]
  },
  {
   "cell_type": "code",
   "execution_count": 135,
   "metadata": {
    "scrolled": true
   },
   "outputs": [],
   "source": [
    "# reorganización de columnas \n",
    "data_wd = data_wd[\n",
    "    [\"gender\", \"children\", \"years_employed\", \"years_employed_group\", \"dob_years\", \"age_group\", \n",
    "     \"education_id\", \"education\", \"family_status_id\", \"family_status\", \"income_type\", \"debt\", \n",
    "     \"total_income\", \"total_income_group\", \"purpose\"]\n",
    "]"
   ]
  },
  {
   "cell_type": "code",
   "execution_count": 136,
   "metadata": {},
   "outputs": [
    {
     "name": "stdout",
     "output_type": "stream",
     "text": [
      "<class 'pandas.core.frame.DataFrame'>\n",
      "RangeIndex: 21170 entries, 0 to 21169\n",
      "Data columns (total 15 columns):\n",
      " #   Column                Non-Null Count  Dtype  \n",
      "---  ------                --------------  -----  \n",
      " 0   gender                21170 non-null  object \n",
      " 1   children              21170 non-null  int64  \n",
      " 2   years_employed        21170 non-null  float64\n",
      " 3   years_employed_group  21170 non-null  object \n",
      " 4   dob_years             21170 non-null  int64  \n",
      " 5   age_group             21170 non-null  object \n",
      " 6   education_id          21170 non-null  int64  \n",
      " 7   education             21170 non-null  object \n",
      " 8   family_status_id      21170 non-null  int64  \n",
      " 9   family_status         21170 non-null  object \n",
      " 10  income_type           21170 non-null  object \n",
      " 11  debt                  21170 non-null  int64  \n",
      " 12  total_income          21170 non-null  float64\n",
      " 13  total_income_group    21170 non-null  object \n",
      " 14  purpose               21170 non-null  object \n",
      "dtypes: float64(2), int64(5), object(8)\n",
      "memory usage: 2.4+ MB\n"
     ]
    }
   ],
   "source": [
    "# verificamos\n",
    "data_wd.info()"
   ]
  },
  {
   "cell_type": "markdown",
   "metadata": {},
   "source": [
    "Con toda esta información se nos va a hacer más fácil responder cualquier pregunta y comprobar las hipótesis. "
   ]
  },
  {
   "cell_type": "markdown",
   "metadata": {},
   "source": [
    "## Comprobación de las hipótesis\n"
   ]
  },
  {
   "cell_type": "markdown",
   "metadata": {},
   "source": [
    "Comenzaremos a verificar las hipótesis iniciales. "
   ]
  },
  {
   "cell_type": "markdown",
   "metadata": {},
   "source": [
    "**¿Existe una correlación entre tener hijos y pagar a tiempo?**"
   ]
  },
  {
   "cell_type": "markdown",
   "metadata": {},
   "source": [
    "Vamos a verificar el total de clientes que tienen hijos:"
   ]
  },
  {
   "cell_type": "code",
   "execution_count": 137,
   "metadata": {},
   "outputs": [
    {
     "name": "stdout",
     "output_type": "stream",
     "text": [
      "children\n",
      "0    13856\n",
      "1     4820\n",
      "2     2116\n",
      "3      329\n",
      "4       40\n",
      "5        9\n",
      "Name: debt, dtype: int64\n"
     ]
    }
   ],
   "source": [
    "# agrupación y conteo de datos de `children` y `debt`\n",
    "total_clients_children = data_wd.groupby(\"children\")[\"debt\"].count()\n",
    "print(total_clients_children)"
   ]
  },
  {
   "cell_type": "markdown",
   "metadata": {},
   "source": [
    "Ahora veamos quiénes de ellos tienen una deuda: "
   ]
  },
  {
   "cell_type": "code",
   "execution_count": 138,
   "metadata": {},
   "outputs": [
    {
     "name": "stdout",
     "output_type": "stream",
     "text": [
      "children\n",
      "0    1060\n",
      "1     445\n",
      "2     202\n",
      "3      27\n",
      "4       4\n",
      "Name: debt, dtype: int64\n"
     ]
    }
   ],
   "source": [
    "# agrupación y conteo de datos de con deuda y `children`\n",
    "clients_with_debt = data_wd.loc[data_wd.debt==1].groupby(\"children\")[\"debt\"].count()\n",
    "print(clients_with_debt)"
   ]
  },
  {
   "cell_type": "markdown",
   "metadata": {},
   "source": [
    "Verifiquemos cuánto es la tasa de incumplimiento de los deudores según el número de hijos: "
   ]
  },
  {
   "cell_type": "code",
   "execution_count": 139,
   "metadata": {},
   "outputs": [
    {
     "name": "stdout",
     "output_type": "stream",
     "text": [
      "La tasa de incumplimiento para 0 hijos es: 0.077\n",
      "La tasa de incumplimiento para 1 hijos es: 0.092\n",
      "La tasa de incumplimiento para 2 hijos es: 0.095\n",
      "La tasa de incumplimiento para 3 hijos es: 0.082\n",
      "La tasa de incumplimiento para 4 hijos es: 0.1\n",
      "Para la cantidad de 5 hijos no existe incumplimiento de deudores.\n"
     ]
    }
   ],
   "source": [
    "# for loop e impresión de incumplimiento de deudores según # de hijos\n",
    "for i in range(len(total_clients_children)):\n",
    "    try:\n",
    "        x = clients_with_debt[i]/total_clients_children[i]\n",
    "        print(f\"La tasa de incumplimiento para {i} hijos es: {round(x,3)}\")\n",
    "    except: \n",
    "        print(f\"Para la cantidad de {i} hijos no existe incumplimiento de deudores.\")"
   ]
  },
  {
   "cell_type": "markdown",
   "metadata": {},
   "source": [
    "**Conclusión**\n",
    "\n",
    "La tasa de incumplimiento según la cantidad de hijos no está correlacionada según la deuda que tienen los clientes. Es decir, por la cantidad de hijos, no influye en no pagar la deuda que tienen con el banco. \n",
    "\n",
    "Si hay que resaltar que el incumplimiento es menor para las personas que no tienen hijos, sin embargo la diferencia entre las personas que tienen 1 hijo e incluso hasta 4 hijos es mínima (del 3%), e incluso no hay incumplimiento para los clientes que tienen 5 hijos. \n",
    "\n",
    "Algo adicional que hay que tomar en cuenta que el total de clientes difiere en cada categoría, y disminuye según el número de hijos que aumenta. "
   ]
  },
  {
   "cell_type": "markdown",
   "metadata": {},
   "source": [
    "**¿Existe una correlación entre la situación familiar y el pago a tiempo?**"
   ]
  },
  {
   "cell_type": "code",
   "execution_count": 140,
   "metadata": {},
   "outputs": [
    {
     "name": "stdout",
     "output_type": "stream",
     "text": [
      "family_status\n",
      "married              12135\n",
      "civil partnership     4119\n",
      "unmarried             2786\n",
      "divorced              1193\n",
      "widow / widower        937\n",
      "Name: debt, dtype: int64\n"
     ]
    }
   ],
   "source": [
    "# agrupación y conteo de datos de `family_status` y `debt`\n",
    "total_clients_family_status = data_wd.groupby(\"family_status\")[\"debt\"].count()\n",
    "print(total_clients_family_status.sort_values(ascending=False))"
   ]
  },
  {
   "cell_type": "code",
   "execution_count": 141,
   "metadata": {},
   "outputs": [
    {
     "name": "stdout",
     "output_type": "stream",
     "text": [
      "family_status\n",
      "married              929\n",
      "civil partnership    387\n",
      "unmarried            274\n",
      "divorced              85\n",
      "widow / widower       63\n",
      "Name: debt, dtype: int64\n"
     ]
    }
   ],
   "source": [
    "# agrupación y conteo de datos de con deuda y `family_status`\n",
    "clients_with_debt_fs = data_wd.loc[data_wd.debt==1].groupby(\"family_status\")[\"debt\"].count()\n",
    "print(clients_with_debt_fs.sort_values(ascending=False))"
   ]
  },
  {
   "cell_type": "code",
   "execution_count": 142,
   "metadata": {},
   "outputs": [
    {
     "name": "stdout",
     "output_type": "stream",
     "text": [
      "La tasa de incumplimiento del estatus familiar 'civil partnership': 0.094\n",
      "La tasa de incumplimiento del estatus familiar 'divorced': 0.071\n",
      "La tasa de incumplimiento del estatus familiar 'married': 0.077\n",
      "La tasa de incumplimiento del estatus familiar 'unmarried': 0.098\n",
      "La tasa de incumplimiento del estatus familiar 'widow / widower': 0.067\n"
     ]
    }
   ],
   "source": [
    "# pandas df creando con las columnas `family_status` y `default rate`\n",
    "results = pd.DataFrame(columns=[\"Family Status\", \"Default Rate\"])\n",
    "\n",
    "# for loop e impresión de incumplimiento de deudores según el estatus familiar\n",
    "for fs in total_clients_family_status.index:\n",
    "    y = round(clients_with_debt_fs[fs]/total_clients_family_status[fs], 3)\n",
    "    results.loc[len(results)] = [fs, y]\n",
    "    print(f\"La tasa de incumplimiento del estatus familiar '{fs}': {y}\")"
   ]
  },
  {
   "cell_type": "code",
   "execution_count": 143,
   "metadata": {},
   "outputs": [
    {
     "name": "stdout",
     "output_type": "stream",
     "text": [
      "       Family Status  Default Rate\n",
      "3          unmarried         0.098\n",
      "0  civil partnership         0.094\n",
      "2            married         0.077\n",
      "1           divorced         0.071\n",
      "4    widow / widower         0.067\n"
     ]
    }
   ],
   "source": [
    "# df ordenado según el incumplimiento de mayor a menor\n",
    "print(results.sort_values(by= \"Default Rate\", ascending=False))"
   ]
  },
  {
   "cell_type": "markdown",
   "metadata": {},
   "source": [
    "**Conclusión**\n",
    "\n",
    "De igual forma, no hay relación alguna entre el estatus familiar y las deudas que tienen los clientes, ya que la tasa de incumplimiento es similar en todas. \n",
    "\n",
    "Las personas que no están casadas o solteras tienen un incumplimiento mayor en relación a los demás estatus familiares, siendo los viudos los que tienen menos. Aún así, la diferencia entre cada uno de ellos es la mínima. "
   ]
  },
  {
   "cell_type": "markdown",
   "metadata": {},
   "source": [
    "**¿Existe una correlación entre el nivel de ingresos y el pago a tiempo?**"
   ]
  },
  {
   "cell_type": "code",
   "execution_count": 144,
   "metadata": {},
   "outputs": [
    {
     "name": "stdout",
     "output_type": "stream",
     "text": [
      "total_income_group\n",
      "income between 20k to 39k     10693\n",
      "income less than 20000         7666\n",
      "income between 40k to 79k      2589\n",
      "income between 80k to 120k      173\n",
      "income more than 120k            49\n",
      "Name: debt, dtype: int64\n"
     ]
    }
   ],
   "source": [
    "# agrupación y conteo de datos de `tota_income_group` y `debt`\n",
    "total_clients_income_group = data_wd.groupby(\"total_income_group\")[\"debt\"].count()\n",
    "print(total_clients_income_group.sort_values(ascending=False))"
   ]
  },
  {
   "cell_type": "code",
   "execution_count": 145,
   "metadata": {},
   "outputs": [
    {
     "name": "stdout",
     "output_type": "stream",
     "text": [
      "total_income_group\n",
      "income between 20k to 39k     902\n",
      "income less than 20000        642\n",
      "income between 40k to 79k     180\n",
      "income between 80k to 120k     10\n",
      "income more than 120k           4\n",
      "Name: debt, dtype: int64\n"
     ]
    }
   ],
   "source": [
    "# agrupación y conteo de datos de con deuda y `total_income_group`\n",
    "clients_with_debt_ig = data_wd.loc[data_wd.debt==1].groupby(\"total_income_group\")[\"debt\"].count()\n",
    "print(clients_with_debt_ig.sort_values(ascending=False))"
   ]
  },
  {
   "cell_type": "code",
   "execution_count": 146,
   "metadata": {},
   "outputs": [
    {
     "name": "stdout",
     "output_type": "stream",
     "text": [
      "La tasa de incumplimiento del estatus familiar 'income between 20k to 39k': 0.084\n",
      "La tasa de incumplimiento del estatus familiar 'income between 40k to 79k': 0.07\n",
      "La tasa de incumplimiento del estatus familiar 'income between 80k to 120k': 0.058\n",
      "La tasa de incumplimiento del estatus familiar 'income less than 20000': 0.084\n",
      "La tasa de incumplimiento del estatus familiar 'income more than 120k': 0.082\n"
     ]
    }
   ],
   "source": [
    "# pandas df creando con las columnas `income_group` y `default rate`\n",
    "results_ig = pd.DataFrame(columns=[\"Income Group\", \"Default Rate\"])\n",
    "\n",
    "# for loop e impresión de incumplimiento de deudores según el income_group\n",
    "for ig in total_clients_income_group.index:\n",
    "    x = round(clients_with_debt_ig[ig]/total_clients_income_group[ig], 3)\n",
    "    results_ig.loc[len(results_ig)] = [ig, x]\n",
    "    print(f\"La tasa de incumplimiento del estatus familiar '{ig}': {x}\")"
   ]
  },
  {
   "cell_type": "code",
   "execution_count": 147,
   "metadata": {},
   "outputs": [
    {
     "name": "stdout",
     "output_type": "stream",
     "text": [
      "                 Income Group  Default Rate\n",
      "0   income between 20k to 39k         0.084\n",
      "3      income less than 20000         0.084\n",
      "4       income more than 120k         0.082\n",
      "1   income between 40k to 79k         0.070\n",
      "2  income between 80k to 120k         0.058\n"
     ]
    }
   ],
   "source": [
    "# df ordenado según el incumplimiento de mayor a menor de income_group\n",
    "print(results_ig.sort_values(by= \"Default Rate\", ascending=False))"
   ]
  },
  {
   "cell_type": "markdown",
   "metadata": {},
   "source": [
    "**Conclusión**\n",
    "\n",
    "Al igual que las otras conclusiones, al parecer tampoco hay una relación entre la cantidad de ingreso que tiene cada cliente con las deudas. La tasa de incumplimiento es menor del 10% en cada categoría. \n",
    "\n",
    "Se puede resaltar que las personas que tienen un ingreso menor de 40 mil tienen un incumplimento mucho mayor que el resto, siendo del 8%. \n",
    "\n",
    "Las personas que tienen un ingreso entre 80k y 120k tienen una tasa de incumplimiento menor. "
   ]
  },
  {
   "cell_type": "markdown",
   "metadata": {},
   "source": [
    "**¿Cómo afecta el propósito del crédito a la tasa de incumplimiento?**"
   ]
  },
  {
   "cell_type": "code",
   "execution_count": 148,
   "metadata": {},
   "outputs": [
    {
     "name": "stdout",
     "output_type": "stream",
     "text": [
      "purpose\n",
      "housing transactions        6239\n",
      "real estate transactions    4411\n",
      "purchase of a car           4264\n",
      "getting an education        3954\n",
      "wedding ceremony            2302\n",
      "Name: debt, dtype: int64\n"
     ]
    }
   ],
   "source": [
    "# agrupación y conteo de datos de `purpose` y `debt`\n",
    "total_clients_purpose = data_wd.groupby(\"purpose\")[\"debt\"].count()\n",
    "print(total_clients_purpose.sort_values(ascending=False))"
   ]
  },
  {
   "cell_type": "code",
   "execution_count": 149,
   "metadata": {},
   "outputs": [
    {
     "name": "stdout",
     "output_type": "stream",
     "text": [
      "purpose\n",
      "housing transactions        445\n",
      "purchase of a car           402\n",
      "getting an education        370\n",
      "real estate transactions    336\n",
      "wedding ceremony            185\n",
      "Name: debt, dtype: int64\n"
     ]
    }
   ],
   "source": [
    "# agrupación y conteo de datos de con deuda y `purpose`\n",
    "clients_with_debt_p = data_wd.loc[data_wd.debt==1].groupby(\"purpose\")[\"debt\"].count()\n",
    "print(clients_with_debt_p.sort_values(ascending=False))"
   ]
  },
  {
   "cell_type": "code",
   "execution_count": 150,
   "metadata": {},
   "outputs": [
    {
     "name": "stdout",
     "output_type": "stream",
     "text": [
      "La tasa de incumplimiento del estatus familiar 'getting an education': 0.094\n",
      "La tasa de incumplimiento del estatus familiar 'housing transactions': 0.071\n",
      "La tasa de incumplimiento del estatus familiar 'purchase of a car': 0.094\n",
      "La tasa de incumplimiento del estatus familiar 'real estate transactions': 0.076\n",
      "La tasa de incumplimiento del estatus familiar 'wedding ceremony': 0.08\n"
     ]
    }
   ],
   "source": [
    "# pandas df creando con las columnas `purpose` y `default rate`\n",
    "results_p = pd.DataFrame(columns=[\"Purpose\", \"Default Rate\"])\n",
    "\n",
    "# for loop e impresión de incumplimiento de deudores según el income_group\n",
    "for p in total_clients_purpose.index:\n",
    "    z = round(clients_with_debt_p[p]/total_clients_purpose[p], 3)\n",
    "    results_p.loc[len(results_p)] = [p, z]\n",
    "    print(f\"La tasa de incumplimiento del estatus familiar '{p}': {z}\")"
   ]
  },
  {
   "cell_type": "code",
   "execution_count": 151,
   "metadata": {},
   "outputs": [
    {
     "name": "stdout",
     "output_type": "stream",
     "text": [
      "                    Purpose  Default Rate\n",
      "0      getting an education         0.094\n",
      "2         purchase of a car         0.094\n",
      "4          wedding ceremony         0.080\n",
      "3  real estate transactions         0.076\n",
      "1      housing transactions         0.071\n"
     ]
    }
   ],
   "source": [
    "# df ordenado según el incumplimiento de mayor a menor de purpose\n",
    "print(results_p.sort_values(by= \"Default Rate\", ascending=False))"
   ]
  },
  {
   "cell_type": "markdown",
   "metadata": {},
   "source": [
    "**Conclusión**\n",
    "\n",
    "Como las otras categorías, la tasa de incumplimiento demuestra que no hay relación entre el propósito de conseguir un préstamo y tener una deuda. Podemos ver que las personas que tienen una educación mayor y compran un carro tienen un incumplimiento mayor, tomando en cuenta que la mayoría de los clientes son adultos jóvenes. "
   ]
  },
  {
   "cell_type": "markdown",
   "metadata": {},
   "source": [
    "# Conclusión general \n",
    "\n",
    "A nivel general, los datos en si no son tan confiables, ya que se tuvo que hacer una limpieza profunda de ellos. Se analizó valores ausentes, el cual dos columnas tenían más del 10% de valores ausentes. Se analizó a detalle para poder reemplazar datos de los valores ausentes y no perder información importante del dataset. \n",
    "\n",
    "No se encontró una razón exacta de por qué se presentaron estos valores ausentes en los datos. Los valores ausentes se reemplazó utilizando el método de `pivot_table` y la mediana según la información de varias variables y sus categorías, para poder agrupar de mejor manera y no sesgar los datos.\n",
    "\n",
    "Se tuvo que reestructurar por completo la columna `days_employed` ya que se tenía valores inconsistentes. \n",
    "\n",
    "Se encontró un total de 315 valores duplicados, el cual se tuvo que eliminar. \n",
    "\n",
    "De igual forma, varias columnas se tenía problemas en los datos, por lo que también se tuvo que limpiar, cambiando datos de forma lógica.  \n",
    "\n",
    "Finalmente: \n",
    "- No existe una relación entre la cantidad de hijos y el incumplimiento de no pagar una deuda. \n",
    "- No existe una relación entre el estatus familiar y el incumplimiento de no pagar una deuda, ya que el porcentaje de incumplimiento entre todos es similar. \n",
    "- Según el nivel de ingresos, las personas que tienen ingresos menores de 39 mil dólares generan más préstamos a las personas que tienen una mayor cantidad de ingresos. \n",
    "- Los que más cumplen los pagos son los que pidan préstamos por viviendas, en relación a los que piden préstamo por comprarse un carro y tener una mejor educación. "
   ]
  }
 ],
 "metadata": {
  "ExecuteTimeLog": [
   {
    "duration": 2741,
    "start_time": "2021-10-21T01:08:49.480Z"
   },
   {
    "duration": 52,
    "start_time": "2021-10-21T01:08:53.315Z"
   },
   {
    "duration": 49,
    "start_time": "2021-10-21T01:08:57.432Z"
   },
   {
    "duration": 70,
    "start_time": "2021-10-21T01:09:07.706Z"
   }
  ],
  "kernelspec": {
   "display_name": "Python 3 (ipykernel)",
   "language": "python",
   "name": "python3"
  },
  "language_info": {
   "codemirror_mode": {
    "name": "ipython",
    "version": 3
   },
   "file_extension": ".py",
   "mimetype": "text/x-python",
   "name": "python",
   "nbconvert_exporter": "python",
   "pygments_lexer": "ipython3",
   "version": "3.11.3"
  },
  "toc": {
   "base_numbering": 1,
   "nav_menu": {},
   "number_sections": true,
   "sideBar": true,
   "skip_h1_title": true,
   "title_cell": "Table of Contents",
   "title_sidebar": "Contents",
   "toc_cell": false,
   "toc_position": {
    "height": "calc(100% - 180px)",
    "left": "10px",
    "top": "150px",
    "width": "346.925px"
   },
   "toc_section_display": true,
   "toc_window_display": false
  }
 },
 "nbformat": 4,
 "nbformat_minor": 2
}
